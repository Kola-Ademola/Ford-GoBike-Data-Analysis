{
 "cells": [
  {
   "cell_type": "markdown",
   "metadata": {
    "slideshow": {
     "slide_type": "slide"
    }
   },
   "source": [
    "# Ford GoBike System Data\n",
    "## by Kola Ademola"
   ]
  },
  {
   "cell_type": "markdown",
   "metadata": {
    "slideshow": {
     "slide_type": "slide"
    }
   },
   "source": [
    "## Investigation Overview\n",
    "\n",
    "> For the presentaion I'll like to focus on how age affects the number of trips and even the number of people that subscribe to the Bike share program. I'll start by introducing the age variable and then show how it is distributed accross the dataset.\n",
    "\n",
    "> After which I introduce how the diffrent age groups come out on:  \n",
    "   > * The number of trips taken using a simple bar chart\n",
    "   > * The proportion of Subscribers to Customers using a simple pie chart\n",
    "   > * The number of subscribers compared to customers for each age group using a simple clustered bar chart for easy comparison.\n",
    "   > * The trend of trips taken over the month using a line plot.  \n",
    "\n",
    "## Dataset Overview\n",
    "\n",
    "> This data set includes information about individual rides made in a bike-sharing system covering the greater San Francisco Bay area."
   ]
  },
  {
   "cell_type": "code",
   "execution_count": 5,
   "metadata": {
    "slideshow": {
     "slide_type": "skip"
    }
   },
   "outputs": [],
   "source": [
    "# import all packages and set plots to be embedded inline\n",
    "import numpy as np\n",
    "import pandas as pd\n",
    "import matplotlib.pyplot as plt\n",
    "import seaborn as sns\n",
    "\n",
    "%matplotlib inline\n",
    "\n",
    "# suppress warnings from final output\n",
    "import warnings\n",
    "warnings.simplefilter(\"ignore\")"
   ]
  },
  {
   "cell_type": "code",
   "execution_count": 6,
   "metadata": {
    "slideshow": {
     "slide_type": "skip"
    }
   },
   "outputs": [
    {
     "data": {
      "text/html": [
       "<div>\n",
       "<style scoped>\n",
       "    .dataframe tbody tr th:only-of-type {\n",
       "        vertical-align: middle;\n",
       "    }\n",
       "\n",
       "    .dataframe tbody tr th {\n",
       "        vertical-align: top;\n",
       "    }\n",
       "\n",
       "    .dataframe thead th {\n",
       "        text-align: right;\n",
       "    }\n",
       "</style>\n",
       "<table border=\"1\" class=\"dataframe\">\n",
       "  <thead>\n",
       "    <tr style=\"text-align: right;\">\n",
       "      <th></th>\n",
       "      <th>duration_sec</th>\n",
       "      <th>start_time</th>\n",
       "      <th>end_time</th>\n",
       "      <th>start_station_id</th>\n",
       "      <th>start_station_name</th>\n",
       "      <th>end_station_id</th>\n",
       "      <th>end_station_name</th>\n",
       "      <th>bike_id</th>\n",
       "      <th>user_type</th>\n",
       "      <th>member_birth_year</th>\n",
       "      <th>member_gender</th>\n",
       "      <th>bike_share_for_all_trip</th>\n",
       "      <th>age</th>\n",
       "      <th>age_group</th>\n",
       "      <th>trip_day</th>\n",
       "      <th>trip_month</th>\n",
       "      <th>trip_time</th>\n",
       "      <th>trip_week</th>\n",
       "    </tr>\n",
       "  </thead>\n",
       "  <tbody>\n",
       "    <tr>\n",
       "      <th>0</th>\n",
       "      <td>52185</td>\n",
       "      <td>2019-02-28 17:32:10.145</td>\n",
       "      <td>2019-03-01 08:01:55.975</td>\n",
       "      <td>21</td>\n",
       "      <td>Montgomery St BART Station (Market St at 2nd St)</td>\n",
       "      <td>13</td>\n",
       "      <td>Commercial St at Montgomery St</td>\n",
       "      <td>4902</td>\n",
       "      <td>Customer</td>\n",
       "      <td>1984-01-01 00:00:00.000</td>\n",
       "      <td>Male</td>\n",
       "      <td>No</td>\n",
       "      <td>35</td>\n",
       "      <td>31 - 50yrs</td>\n",
       "      <td>Thursday</td>\n",
       "      <td>February</td>\n",
       "      <td>05PM</td>\n",
       "      <td>Week 5</td>\n",
       "    </tr>\n",
       "    <tr>\n",
       "      <th>1</th>\n",
       "      <td>42521</td>\n",
       "      <td>2019-02-28 18:53:21.789</td>\n",
       "      <td>2019-03-01 06:42:03.056</td>\n",
       "      <td>23</td>\n",
       "      <td>The Embarcadero at Steuart St</td>\n",
       "      <td>81</td>\n",
       "      <td>Berry St at 4th St</td>\n",
       "      <td>2535</td>\n",
       "      <td>Customer</td>\n",
       "      <td>1988-01-01 00:00:00.000</td>\n",
       "      <td>Male</td>\n",
       "      <td>No</td>\n",
       "      <td>31</td>\n",
       "      <td>31 - 50yrs</td>\n",
       "      <td>Thursday</td>\n",
       "      <td>February</td>\n",
       "      <td>06PM</td>\n",
       "      <td>Week 5</td>\n",
       "    </tr>\n",
       "    <tr>\n",
       "      <th>2</th>\n",
       "      <td>61854</td>\n",
       "      <td>2019-02-28 12:13:13.218</td>\n",
       "      <td>2019-03-01 05:24:08.146</td>\n",
       "      <td>86</td>\n",
       "      <td>Market St at Dolores St</td>\n",
       "      <td>3</td>\n",
       "      <td>Powell St BART Station (Market St at 4th St)</td>\n",
       "      <td>5905</td>\n",
       "      <td>Customer</td>\n",
       "      <td>1972-01-01 00:00:00.000</td>\n",
       "      <td>Male</td>\n",
       "      <td>No</td>\n",
       "      <td>47</td>\n",
       "      <td>31 - 50yrs</td>\n",
       "      <td>Thursday</td>\n",
       "      <td>February</td>\n",
       "      <td>12PM</td>\n",
       "      <td>Week 5</td>\n",
       "    </tr>\n",
       "    <tr>\n",
       "      <th>3</th>\n",
       "      <td>36490</td>\n",
       "      <td>2019-02-28 17:54:26.010</td>\n",
       "      <td>2019-03-01 04:02:36.842</td>\n",
       "      <td>375</td>\n",
       "      <td>Grove St at Masonic Ave</td>\n",
       "      <td>70</td>\n",
       "      <td>Central Ave at Fell St</td>\n",
       "      <td>6638</td>\n",
       "      <td>Subscriber</td>\n",
       "      <td>1989-01-01 00:00:00.000</td>\n",
       "      <td>Other</td>\n",
       "      <td>No</td>\n",
       "      <td>30</td>\n",
       "      <td>31 - 50yrs</td>\n",
       "      <td>Thursday</td>\n",
       "      <td>February</td>\n",
       "      <td>05PM</td>\n",
       "      <td>Week 5</td>\n",
       "    </tr>\n",
       "    <tr>\n",
       "      <th>4</th>\n",
       "      <td>1585</td>\n",
       "      <td>2019-02-28 23:54:18.549</td>\n",
       "      <td>2019-03-01 00:20:44.074</td>\n",
       "      <td>7</td>\n",
       "      <td>Frank H Ogawa Plaza</td>\n",
       "      <td>222</td>\n",
       "      <td>10th Ave at E 15th St</td>\n",
       "      <td>4898</td>\n",
       "      <td>Subscriber</td>\n",
       "      <td>1974-01-01 00:00:00.000</td>\n",
       "      <td>Male</td>\n",
       "      <td>Yes</td>\n",
       "      <td>45</td>\n",
       "      <td>31 - 50yrs</td>\n",
       "      <td>Thursday</td>\n",
       "      <td>February</td>\n",
       "      <td>11PM</td>\n",
       "      <td>Week 5</td>\n",
       "    </tr>\n",
       "    <tr>\n",
       "      <th>...</th>\n",
       "      <td>...</td>\n",
       "      <td>...</td>\n",
       "      <td>...</td>\n",
       "      <td>...</td>\n",
       "      <td>...</td>\n",
       "      <td>...</td>\n",
       "      <td>...</td>\n",
       "      <td>...</td>\n",
       "      <td>...</td>\n",
       "      <td>...</td>\n",
       "      <td>...</td>\n",
       "      <td>...</td>\n",
       "      <td>...</td>\n",
       "      <td>...</td>\n",
       "      <td>...</td>\n",
       "      <td>...</td>\n",
       "      <td>...</td>\n",
       "      <td>...</td>\n",
       "    </tr>\n",
       "    <tr>\n",
       "      <th>183210</th>\n",
       "      <td>480</td>\n",
       "      <td>2019-02-01 00:04:49.724</td>\n",
       "      <td>2019-02-01 00:12:50.034</td>\n",
       "      <td>27</td>\n",
       "      <td>Beale St at Harrison St</td>\n",
       "      <td>324</td>\n",
       "      <td>Union Square (Powell St at Post St)</td>\n",
       "      <td>4832</td>\n",
       "      <td>Subscriber</td>\n",
       "      <td>1996-01-01 00:00:00.000</td>\n",
       "      <td>Male</td>\n",
       "      <td>No</td>\n",
       "      <td>23</td>\n",
       "      <td>18 - 30yrs</td>\n",
       "      <td>Friday</td>\n",
       "      <td>February</td>\n",
       "      <td>12AM</td>\n",
       "      <td>Week 1</td>\n",
       "    </tr>\n",
       "    <tr>\n",
       "      <th>183211</th>\n",
       "      <td>313</td>\n",
       "      <td>2019-02-01 00:05:34.744</td>\n",
       "      <td>2019-02-01 00:10:48.502</td>\n",
       "      <td>21</td>\n",
       "      <td>Montgomery St BART Station (Market St at 2nd St)</td>\n",
       "      <td>66</td>\n",
       "      <td>3rd St at Townsend St</td>\n",
       "      <td>4960</td>\n",
       "      <td>Subscriber</td>\n",
       "      <td>1984-01-01 00:00:00.000</td>\n",
       "      <td>Male</td>\n",
       "      <td>No</td>\n",
       "      <td>35</td>\n",
       "      <td>31 - 50yrs</td>\n",
       "      <td>Friday</td>\n",
       "      <td>February</td>\n",
       "      <td>12AM</td>\n",
       "      <td>Week 1</td>\n",
       "    </tr>\n",
       "    <tr>\n",
       "      <th>183212</th>\n",
       "      <td>141</td>\n",
       "      <td>2019-02-01 00:06:05.549</td>\n",
       "      <td>2019-02-01 00:08:27.220</td>\n",
       "      <td>278</td>\n",
       "      <td>The Alameda at Bush St</td>\n",
       "      <td>277</td>\n",
       "      <td>Morrison Ave at Julian St</td>\n",
       "      <td>3824</td>\n",
       "      <td>Subscriber</td>\n",
       "      <td>1990-01-01 00:00:00.000</td>\n",
       "      <td>Male</td>\n",
       "      <td>Yes</td>\n",
       "      <td>29</td>\n",
       "      <td>18 - 30yrs</td>\n",
       "      <td>Friday</td>\n",
       "      <td>February</td>\n",
       "      <td>12AM</td>\n",
       "      <td>Week 1</td>\n",
       "    </tr>\n",
       "    <tr>\n",
       "      <th>183213</th>\n",
       "      <td>139</td>\n",
       "      <td>2019-02-01 00:05:34.360</td>\n",
       "      <td>2019-02-01 00:07:54.287</td>\n",
       "      <td>220</td>\n",
       "      <td>San Pablo Ave at MLK Jr Way</td>\n",
       "      <td>216</td>\n",
       "      <td>San Pablo Ave at 27th St</td>\n",
       "      <td>5095</td>\n",
       "      <td>Subscriber</td>\n",
       "      <td>1988-01-01 00:00:00.000</td>\n",
       "      <td>Male</td>\n",
       "      <td>No</td>\n",
       "      <td>31</td>\n",
       "      <td>31 - 50yrs</td>\n",
       "      <td>Friday</td>\n",
       "      <td>February</td>\n",
       "      <td>12AM</td>\n",
       "      <td>Week 1</td>\n",
       "    </tr>\n",
       "    <tr>\n",
       "      <th>183214</th>\n",
       "      <td>271</td>\n",
       "      <td>2019-02-01 00:00:20.636</td>\n",
       "      <td>2019-02-01 00:04:52.058</td>\n",
       "      <td>24</td>\n",
       "      <td>Spear St at Folsom St</td>\n",
       "      <td>37</td>\n",
       "      <td>2nd St at Folsom St</td>\n",
       "      <td>1057</td>\n",
       "      <td>Subscriber</td>\n",
       "      <td>1989-01-01 00:00:00.000</td>\n",
       "      <td>Male</td>\n",
       "      <td>No</td>\n",
       "      <td>30</td>\n",
       "      <td>31 - 50yrs</td>\n",
       "      <td>Friday</td>\n",
       "      <td>February</td>\n",
       "      <td>12AM</td>\n",
       "      <td>Week 1</td>\n",
       "    </tr>\n",
       "  </tbody>\n",
       "</table>\n",
       "<p>183215 rows × 18 columns</p>\n",
       "</div>"
      ],
      "text/plain": [
       "        duration_sec               start_time                 end_time  \\\n",
       "0              52185  2019-02-28 17:32:10.145  2019-03-01 08:01:55.975   \n",
       "1              42521  2019-02-28 18:53:21.789  2019-03-01 06:42:03.056   \n",
       "2              61854  2019-02-28 12:13:13.218  2019-03-01 05:24:08.146   \n",
       "3              36490  2019-02-28 17:54:26.010  2019-03-01 04:02:36.842   \n",
       "4               1585  2019-02-28 23:54:18.549  2019-03-01 00:20:44.074   \n",
       "...              ...                      ...                      ...   \n",
       "183210           480  2019-02-01 00:04:49.724  2019-02-01 00:12:50.034   \n",
       "183211           313  2019-02-01 00:05:34.744  2019-02-01 00:10:48.502   \n",
       "183212           141  2019-02-01 00:06:05.549  2019-02-01 00:08:27.220   \n",
       "183213           139  2019-02-01 00:05:34.360  2019-02-01 00:07:54.287   \n",
       "183214           271  2019-02-01 00:00:20.636  2019-02-01 00:04:52.058   \n",
       "\n",
       "        start_station_id                                start_station_name  \\\n",
       "0                     21  Montgomery St BART Station (Market St at 2nd St)   \n",
       "1                     23                     The Embarcadero at Steuart St   \n",
       "2                     86                           Market St at Dolores St   \n",
       "3                    375                           Grove St at Masonic Ave   \n",
       "4                      7                               Frank H Ogawa Plaza   \n",
       "...                  ...                                               ...   \n",
       "183210                27                           Beale St at Harrison St   \n",
       "183211                21  Montgomery St BART Station (Market St at 2nd St)   \n",
       "183212               278                            The Alameda at Bush St   \n",
       "183213               220                       San Pablo Ave at MLK Jr Way   \n",
       "183214                24                             Spear St at Folsom St   \n",
       "\n",
       "        end_station_id                              end_station_name  bike_id  \\\n",
       "0                   13                Commercial St at Montgomery St     4902   \n",
       "1                   81                            Berry St at 4th St     2535   \n",
       "2                    3  Powell St BART Station (Market St at 4th St)     5905   \n",
       "3                   70                        Central Ave at Fell St     6638   \n",
       "4                  222                         10th Ave at E 15th St     4898   \n",
       "...                ...                                           ...      ...   \n",
       "183210             324           Union Square (Powell St at Post St)     4832   \n",
       "183211              66                         3rd St at Townsend St     4960   \n",
       "183212             277                     Morrison Ave at Julian St     3824   \n",
       "183213             216                      San Pablo Ave at 27th St     5095   \n",
       "183214              37                           2nd St at Folsom St     1057   \n",
       "\n",
       "         user_type        member_birth_year member_gender  \\\n",
       "0         Customer  1984-01-01 00:00:00.000          Male   \n",
       "1         Customer  1988-01-01 00:00:00.000          Male   \n",
       "2         Customer  1972-01-01 00:00:00.000          Male   \n",
       "3       Subscriber  1989-01-01 00:00:00.000         Other   \n",
       "4       Subscriber  1974-01-01 00:00:00.000          Male   \n",
       "...            ...                      ...           ...   \n",
       "183210  Subscriber  1996-01-01 00:00:00.000          Male   \n",
       "183211  Subscriber  1984-01-01 00:00:00.000          Male   \n",
       "183212  Subscriber  1990-01-01 00:00:00.000          Male   \n",
       "183213  Subscriber  1988-01-01 00:00:00.000          Male   \n",
       "183214  Subscriber  1989-01-01 00:00:00.000          Male   \n",
       "\n",
       "       bike_share_for_all_trip  age   age_group  trip_day trip_month  \\\n",
       "0                           No   35  31 - 50yrs  Thursday   February   \n",
       "1                           No   31  31 - 50yrs  Thursday   February   \n",
       "2                           No   47  31 - 50yrs  Thursday   February   \n",
       "3                           No   30  31 - 50yrs  Thursday   February   \n",
       "4                          Yes   45  31 - 50yrs  Thursday   February   \n",
       "...                        ...  ...         ...       ...        ...   \n",
       "183210                      No   23  18 - 30yrs    Friday   February   \n",
       "183211                      No   35  31 - 50yrs    Friday   February   \n",
       "183212                     Yes   29  18 - 30yrs    Friday   February   \n",
       "183213                      No   31  31 - 50yrs    Friday   February   \n",
       "183214                      No   30  31 - 50yrs    Friday   February   \n",
       "\n",
       "       trip_time trip_week  \n",
       "0           05PM    Week 5  \n",
       "1           06PM    Week 5  \n",
       "2           12PM    Week 5  \n",
       "3           05PM    Week 5  \n",
       "4           11PM    Week 5  \n",
       "...          ...       ...  \n",
       "183210      12AM    Week 1  \n",
       "183211      12AM    Week 1  \n",
       "183212      12AM    Week 1  \n",
       "183213      12AM    Week 1  \n",
       "183214      12AM    Week 1  \n",
       "\n",
       "[183215 rows x 18 columns]"
      ]
     },
     "execution_count": 6,
     "metadata": {},
     "output_type": "execute_result"
    }
   ],
   "source": [
    "# load in the dataset into a pandas dataframe\n",
    "\n",
    "bike_clean = pd.read_csv('bike_clean.csv')\n",
    "\n",
    "#view dataset\n",
    "bike_clean"
   ]
  },
  {
   "cell_type": "markdown",
   "metadata": {
    "slideshow": {
     "slide_type": "slide"
    }
   },
   "source": [
    "## Distribution of User Age\n",
    "> The age of users takes on a range of **18 years as the youngest user** to the **oldest as 141 years old** and it's distribution is skewed to the right taking on a unimodal shape.  \n",
    "From the chart we can see how most users fall in between **20 - 50yrs**"
   ]
  },
  {
   "cell_type": "code",
   "execution_count": 7,
   "metadata": {
    "scrolled": false,
    "slideshow": {
     "slide_type": "skip"
    }
   },
   "outputs": [],
   "source": [
    "#age distribution chart\n",
    "\n",
    "def viz1():\n",
    "    color = 'mediumslateblue'\n",
    "    min_age = bike_clean['age'].min()\n",
    "    max_age = bike_clean['age'].max()\n",
    "    bins = np.arange(min_age, max_age + 5, 5)\n",
    "    bike_clean['age'].plot.hist(bins = bins, color = color, figsize = (15, 10))\n",
    "    plt.xlabel('Age')\n",
    "    plt.title('Age Distribution')"
   ]
  },
  {
   "cell_type": "code",
   "execution_count": 8,
   "metadata": {
    "slideshow": {
     "slide_type": "subslide"
    }
   },
   "outputs": [
    {
     "data": {
      "image/png": "[encoded data removed]",
      "text/plain": [
       "<Figure size 1080x720 with 1 Axes>"
      ]
     },
     "metadata": {
      "needs_background": "light"
     },
     "output_type": "display_data"
    }
   ],
   "source": [
    "viz1()"
   ]
  },
  {
   "cell_type": "markdown",
   "metadata": {
    "collapsed": true,
    "slideshow": {
     "slide_type": "slide"
    }
   },
   "source": [
    "## Number of Trips by Age Group\n",
    "\n",
    "> Plotting the count of trips for each age group shows clearly that most of the users are in the **18 - 30yrs** & **31 - 50yrs** bucket or in general like we saw in the age distribution **20 - 50yrs** is indeed correct.."
   ]
  },
  {
   "cell_type": "code",
   "execution_count": 11,
   "metadata": {
    "slideshow": {
     "slide_type": "skip"
    }
   },
   "outputs": [],
   "source": [
    "#bar chart of count of trips by age group\n",
    "\n",
    "def viz2():\n",
    "    color = 'mediumslateblue'\n",
    "    sns.catplot(data = bike_clean, x = 'age_group', kind = 'count', color = color, height = 5.5, aspect = 2.5)\n",
    "    plt.title('Trips Taken by Age Group')\n",
    "    plt.ylabel('Count of Trips')\n",
    "    plt.xlabel('Age Groups')\n",
    "    plt.xticks(rotation = 60)"
   ]
  },
  {
   "cell_type": "code",
   "execution_count": 12,
   "metadata": {
    "slideshow": {
     "slide_type": "subslide"
    }
   },
   "outputs": [
    {
     "data": {
      "image/png": "[encoded data removed]",
      "text/plain": [
       "<Figure size 990x396 with 1 Axes>"
      ]
     },
     "metadata": {
      "needs_background": "light"
     },
     "output_type": "display_data"
    }
   ],
   "source": [
    "viz2()"
   ]
  },
  {
   "cell_type": "markdown",
   "metadata": {
    "slideshow": {
     "slide_type": "slide"
    }
   },
   "source": [
    "## Proportion of Subscribers to Customers\n",
    "\n",
    "> Using a Pie Chart to show that **89%** of trips are taken by **Subscribers**"
   ]
  },
  {
   "cell_type": "code",
   "execution_count": 13,
   "metadata": {
    "scrolled": true,
    "slideshow": {
     "slide_type": "skip"
    }
   },
   "outputs": [],
   "source": [
    "#pie chart showing the proportion of subscribers\n",
    "\n",
    "def viz3():\n",
    "    \n",
    "    explode = [0.1, 0]\n",
    "    color = 'mediumslateblue'\n",
    "    colors = [color, 'orange']\n",
    "\n",
    "    bike_clean['user_type'].value_counts().plot.pie(explode = explode, colors = colors, figsize = (15, 10), autopct='%.0f%%')\n",
    "    plt.title('Proportion of Subscribers to Customers')\n",
    "    plt.ylabel('')"
   ]
  },
  {
   "cell_type": "code",
   "execution_count": 14,
   "metadata": {
    "slideshow": {
     "slide_type": "subslide"
    }
   },
   "outputs": [
    {
     "data": {
      "image/png": "[encoded data removed]",
      "text/plain": [
       "<Figure size 1080x720 with 1 Axes>"
      ]
     },
     "metadata": {},
     "output_type": "display_data"
    }
   ],
   "source": [
    "viz3()"
   ]
  },
  {
   "cell_type": "markdown",
   "metadata": {
    "slideshow": {
     "slide_type": "slide"
    }
   },
   "source": [
    "## Further look into the Proportion of Subscribers by Age Group\n",
    "\n",
    "> I'll be using a Clustered bar chart to emphasize further on how most Subscribers that take the most trips are people between **18 - 50 years old**"
   ]
  },
  {
   "cell_type": "code",
   "execution_count": 15,
   "metadata": {
    "slideshow": {
     "slide_type": "skip"
    }
   },
   "outputs": [
    {
     "data": {
      "text/html": [
       "<div>\n",
       "<style scoped>\n",
       "    .dataframe tbody tr th:only-of-type {\n",
       "        vertical-align: middle;\n",
       "    }\n",
       "\n",
       "    .dataframe tbody tr th {\n",
       "        vertical-align: top;\n",
       "    }\n",
       "\n",
       "    .dataframe thead th {\n",
       "        text-align: right;\n",
       "    }\n",
       "</style>\n",
       "<table border=\"1\" class=\"dataframe\">\n",
       "  <thead>\n",
       "    <tr style=\"text-align: right;\">\n",
       "      <th></th>\n",
       "      <th>age_group</th>\n",
       "      <th>user_type</th>\n",
       "      <th>counts</th>\n",
       "    </tr>\n",
       "  </thead>\n",
       "  <tbody>\n",
       "    <tr>\n",
       "      <th>3</th>\n",
       "      <td>31 - 50yrs</td>\n",
       "      <td>Subscriber</td>\n",
       "      <td>89260</td>\n",
       "    </tr>\n",
       "    <tr>\n",
       "      <th>1</th>\n",
       "      <td>18 - 30yrs</td>\n",
       "      <td>Subscriber</td>\n",
       "      <td>59246</td>\n",
       "    </tr>\n",
       "    <tr>\n",
       "      <th>5</th>\n",
       "      <td>51 - 70yrs</td>\n",
       "      <td>Subscriber</td>\n",
       "      <td>14262</td>\n",
       "    </tr>\n",
       "    <tr>\n",
       "      <th>2</th>\n",
       "      <td>31 - 50yrs</td>\n",
       "      <td>Customer</td>\n",
       "      <td>12388</td>\n",
       "    </tr>\n",
       "    <tr>\n",
       "      <th>0</th>\n",
       "      <td>18 - 30yrs</td>\n",
       "      <td>Customer</td>\n",
       "      <td>6054</td>\n",
       "    </tr>\n",
       "    <tr>\n",
       "      <th>4</th>\n",
       "      <td>51 - 70yrs</td>\n",
       "      <td>Customer</td>\n",
       "      <td>1331</td>\n",
       "    </tr>\n",
       "    <tr>\n",
       "      <th>7</th>\n",
       "      <td>71 - 90yrs</td>\n",
       "      <td>Subscriber</td>\n",
       "      <td>575</td>\n",
       "    </tr>\n",
       "    <tr>\n",
       "      <th>9</th>\n",
       "      <td>90yrs+</td>\n",
       "      <td>Subscriber</td>\n",
       "      <td>71</td>\n",
       "    </tr>\n",
       "    <tr>\n",
       "      <th>6</th>\n",
       "      <td>71 - 90yrs</td>\n",
       "      <td>Customer</td>\n",
       "      <td>22</td>\n",
       "    </tr>\n",
       "    <tr>\n",
       "      <th>8</th>\n",
       "      <td>90yrs+</td>\n",
       "      <td>Customer</td>\n",
       "      <td>6</td>\n",
       "    </tr>\n",
       "  </tbody>\n",
       "</table>\n",
       "</div>"
      ],
      "text/plain": [
       "    age_group   user_type  counts\n",
       "3  31 - 50yrs  Subscriber   89260\n",
       "1  18 - 30yrs  Subscriber   59246\n",
       "5  51 - 70yrs  Subscriber   14262\n",
       "2  31 - 50yrs    Customer   12388\n",
       "0  18 - 30yrs    Customer    6054\n",
       "4  51 - 70yrs    Customer    1331\n",
       "7  71 - 90yrs  Subscriber     575\n",
       "9      90yrs+  Subscriber      71\n",
       "6  71 - 90yrs    Customer      22\n",
       "8      90yrs+    Customer       6"
      ]
     },
     "execution_count": 15,
     "metadata": {},
     "output_type": "execute_result"
    }
   ],
   "source": [
    "#create a subset of the data\n",
    "\n",
    "age_sub = bike_clean.groupby(['age_group', 'user_type']).size().reset_index(name = 'counts').sort_values(by = 'counts', ascending = False)\n",
    "age_sub"
   ]
  },
  {
   "cell_type": "code",
   "execution_count": 17,
   "metadata": {
    "scrolled": true,
    "slideshow": {
     "slide_type": "skip"
    }
   },
   "outputs": [],
   "source": [
    "#bar chart for subscriber count for each age_group\n",
    "\n",
    "def viz4():\n",
    "    color = 'mediumslateblue'\n",
    "    colors = [color, 'orange']\n",
    "    sns.catplot(data = age_sub, x = 'age_group', y = 'counts', hue = 'user_type', kind = 'bar', height = 5.5, aspect = 2.5, palette = colors)\n",
    "    plt.title('Number of Trips Taken by Subscribers & Age Group')\n",
    "    plt.ylabel('Count of Trips')\n",
    "    plt.xlabel('Age Groups')\n",
    "    plt.xticks(rotation = 60);"
   ]
  },
  {
   "cell_type": "code",
   "execution_count": 18,
   "metadata": {
    "slideshow": {
     "slide_type": "subslide"
    }
   },
   "outputs": [
    {
     "data": {
      "image/png": "[encoded data removed]",
      "text/plain": [
       "<Figure size 1079.12x396 with 1 Axes>"
      ]
     },
     "metadata": {
      "needs_background": "light"
     },
     "output_type": "display_data"
    }
   ],
   "source": [
    "viz4()"
   ]
  },
  {
   "cell_type": "markdown",
   "metadata": {
    "slideshow": {
     "slide_type": "slide"
    }
   },
   "source": [
    "## Trend of Trips Over the weeks\n",
    "\n",
    "> Using a Line plot we can see how the number of trips starts **declining** after the **3rd week** of the month"
   ]
  },
  {
   "cell_type": "code",
   "execution_count": 19,
   "metadata": {
    "slideshow": {
     "slide_type": "skip"
    }
   },
   "outputs": [
    {
     "data": {
      "text/html": [
       "<div>\n",
       "<style scoped>\n",
       "    .dataframe tbody tr th:only-of-type {\n",
       "        vertical-align: middle;\n",
       "    }\n",
       "\n",
       "    .dataframe tbody tr th {\n",
       "        vertical-align: top;\n",
       "    }\n",
       "\n",
       "    .dataframe thead th {\n",
       "        text-align: right;\n",
       "    }\n",
       "</style>\n",
       "<table border=\"1\" class=\"dataframe\">\n",
       "  <thead>\n",
       "    <tr style=\"text-align: right;\">\n",
       "      <th></th>\n",
       "      <th>trip_week</th>\n",
       "      <th>trip_count</th>\n",
       "    </tr>\n",
       "  </thead>\n",
       "  <tbody>\n",
       "    <tr>\n",
       "      <th>0</th>\n",
       "      <td>Week 1</td>\n",
       "      <td>35225</td>\n",
       "    </tr>\n",
       "    <tr>\n",
       "      <th>1</th>\n",
       "      <td>Week 2</td>\n",
       "      <td>42583</td>\n",
       "    </tr>\n",
       "    <tr>\n",
       "      <th>2</th>\n",
       "      <td>Week 3</td>\n",
       "      <td>46832</td>\n",
       "    </tr>\n",
       "    <tr>\n",
       "      <th>3</th>\n",
       "      <td>Week 4</td>\n",
       "      <td>48754</td>\n",
       "    </tr>\n",
       "    <tr>\n",
       "      <th>4</th>\n",
       "      <td>Week 5</td>\n",
       "      <td>9821</td>\n",
       "    </tr>\n",
       "  </tbody>\n",
       "</table>\n",
       "</div>"
      ],
      "text/plain": [
       "  trip_week  trip_count\n",
       "0    Week 1       35225\n",
       "1    Week 2       42583\n",
       "2    Week 3       46832\n",
       "3    Week 4       48754\n",
       "4    Week 5        9821"
      ]
     },
     "execution_count": 19,
     "metadata": {},
     "output_type": "execute_result"
    }
   ],
   "source": [
    "#create a subset of data\n",
    "\n",
    "trend = bike_clean.groupby('trip_week').size().reset_index(name = 'trip_count')\n",
    "trend"
   ]
  },
  {
   "cell_type": "code",
   "execution_count": 20,
   "metadata": {
    "scrolled": true,
    "slideshow": {
     "slide_type": "skip"
    }
   },
   "outputs": [],
   "source": [
    "#line plot of trips\n",
    "\n",
    "def viz5():\n",
    "    color = 'mediumslateblue'\n",
    "    plt.figure(figsize = (15, 5))\n",
    "    sns.lineplot(data = trend, x = 'trip_week', y = 'trip_count', ci = None, color = color)\n",
    "    plt.title('Trend of Trips over time')\n",
    "    plt.xlabel('Weeks')\n",
    "    plt.ylabel('Count of Trips');"
   ]
  },
  {
   "cell_type": "code",
   "execution_count": 22,
   "metadata": {
    "slideshow": {
     "slide_type": "subslide"
    }
   },
   "outputs": [
    {
     "data": {
      "image/png": "[encoded data removed]",
      "text/plain": [
       "<Figure size 1080x360 with 1 Axes>"
      ]
     },
     "metadata": {
      "needs_background": "light"
     },
     "output_type": "display_data"
    }
   ],
   "source": [
    "viz5()"
   ]
  },
  {
   "cell_type": "code",
   "execution_count": null,
   "metadata": {
    "slideshow": {
     "slide_type": "skip"
    }
   },
   "outputs": [],
   "source": [
    "!jupyter nbconvert Part_II_slide_deck.ipynb --to slides --post serve"
   ]
  }
 ],
 "metadata": {
  "celltoolbar": "Slideshow",
  "kernelspec": {
   "display_name": "Python 3 (ipykernel)",
   "language": "python",
   "name": "python3"
  },
  "language_info": {
   "codemirror_mode": {
    "name": "ipython",
    "version": 3
   },
   "file_extension": ".py",
   "mimetype": "text/x-python",
   "name": "python",
   "nbconvert_exporter": "python",
   "pygments_lexer": "ipython3",
   "version": "3.9.7"
  }
 },
 "nbformat": 4,
 "nbformat_minor": 2
}
