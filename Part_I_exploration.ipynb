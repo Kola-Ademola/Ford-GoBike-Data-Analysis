{
 "cells": [
  {
   "cell_type": "markdown",
   "metadata": {},
   "source": [
    "# Part I - Ford GoBike System Data\n",
    "## by Kola Ademola\n",
    "\n",
    "## Introduction\n",
    "\n",
    ">This data set includes information about individual rides made in a bike-sharing system covering the greater San Francisco Bay area.\n",
    "\n",
    "\n",
    "## Preliminary Wrangling\n"
   ]
  },
  {
   "cell_type": "code",
<<<<<<< HEAD
   "execution_count": 1,
   "metadata": {},
   "outputs": [
    {
     "ename": "SyntaxError",
     "evalue": "invalid syntax (3537980589.py, line 1)",
     "output_type": "error",
     "traceback": [
      "\u001b[1;36m  Input \u001b[1;32mIn [1]\u001b[1;36m\u001b[0m\n\u001b[1;33m    test test test\u001b[0m\n\u001b[1;37m         ^\u001b[0m\n\u001b[1;31mSyntaxError\u001b[0m\u001b[1;31m:\u001b[0m invalid syntax\n"
     ]
    }
   ],
   "source": [
    "test test test"
   ]
  },
  {
   "cell_type": "code",
   "execution_count": 182,
||||||| 9972fa3
   "execution_count": 182,
=======
   "execution_count": null,
   "metadata": {},
   "outputs": [],
   "source": [
    "test test"
   ]
  },
  {
   "cell_type": "code",
   "execution_count": null,
>>>>>>> origin/master
   "metadata": {},
   "outputs": [],
   "source": [
    "# import all packages and set plots to be embedded inline\n",
    "import numpy as np\n",
    "import pandas as pd\n",
    "import matplotlib.pyplot as plt\n",
    "import seaborn as sns\n",
    "import time\n",
    "\n",
    "%matplotlib inline"
   ]
  },
  {
   "cell_type": "code",
   "execution_count": 183,
   "metadata": {},
   "outputs": [],
   "source": [
    "#load dataset\n",
    "\n",
    "bike = pd.read_csv('201902-fordgobike-tripdata.csv')"
   ]
  },
  {
   "cell_type": "code",
   "execution_count": 184,
   "metadata": {
    "scrolled": false
   },
   "outputs": [
    {
     "data": {
      "text/html": [
       "<div>\n",
       "<style scoped>\n",
       "    .dataframe tbody tr th:only-of-type {\n",
       "        vertical-align: middle;\n",
       "    }\n",
       "\n",
       "    .dataframe tbody tr th {\n",
       "        vertical-align: top;\n",
       "    }\n",
       "\n",
       "    .dataframe thead th {\n",
       "        text-align: right;\n",
       "    }\n",
       "</style>\n",
       "<table border=\"1\" class=\"dataframe\">\n",
       "  <thead>\n",
       "    <tr style=\"text-align: right;\">\n",
       "      <th></th>\n",
       "      <th>duration_sec</th>\n",
       "      <th>start_time</th>\n",
       "      <th>end_time</th>\n",
       "      <th>start_station_id</th>\n",
       "      <th>start_station_name</th>\n",
       "      <th>start_station_latitude</th>\n",
       "      <th>start_station_longitude</th>\n",
       "      <th>end_station_id</th>\n",
       "      <th>end_station_name</th>\n",
       "      <th>end_station_latitude</th>\n",
       "      <th>end_station_longitude</th>\n",
       "      <th>bike_id</th>\n",
       "      <th>user_type</th>\n",
       "      <th>member_birth_year</th>\n",
       "      <th>member_gender</th>\n",
       "      <th>bike_share_for_all_trip</th>\n",
       "    </tr>\n",
       "  </thead>\n",
       "  <tbody>\n",
       "    <tr>\n",
       "      <th>0</th>\n",
       "      <td>52185</td>\n",
       "      <td>2019-02-28 17:32:10.1450</td>\n",
       "      <td>2019-03-01 08:01:55.9750</td>\n",
       "      <td>21.0</td>\n",
       "      <td>Montgomery St BART Station (Market St at 2nd St)</td>\n",
       "      <td>37.789625</td>\n",
       "      <td>-122.400811</td>\n",
       "      <td>13.0</td>\n",
       "      <td>Commercial St at Montgomery St</td>\n",
       "      <td>37.794231</td>\n",
       "      <td>-122.402923</td>\n",
       "      <td>4902</td>\n",
       "      <td>Customer</td>\n",
       "      <td>1984.0</td>\n",
       "      <td>Male</td>\n",
       "      <td>No</td>\n",
       "    </tr>\n",
       "    <tr>\n",
       "      <th>1</th>\n",
       "      <td>42521</td>\n",
       "      <td>2019-02-28 18:53:21.7890</td>\n",
       "      <td>2019-03-01 06:42:03.0560</td>\n",
       "      <td>23.0</td>\n",
       "      <td>The Embarcadero at Steuart St</td>\n",
       "      <td>37.791464</td>\n",
       "      <td>-122.391034</td>\n",
       "      <td>81.0</td>\n",
       "      <td>Berry St at 4th St</td>\n",
       "      <td>37.775880</td>\n",
       "      <td>-122.393170</td>\n",
       "      <td>2535</td>\n",
       "      <td>Customer</td>\n",
       "      <td>NaN</td>\n",
       "      <td>NaN</td>\n",
       "      <td>No</td>\n",
       "    </tr>\n",
       "    <tr>\n",
       "      <th>2</th>\n",
       "      <td>61854</td>\n",
       "      <td>2019-02-28 12:13:13.2180</td>\n",
       "      <td>2019-03-01 05:24:08.1460</td>\n",
       "      <td>86.0</td>\n",
       "      <td>Market St at Dolores St</td>\n",
       "      <td>37.769305</td>\n",
       "      <td>-122.426826</td>\n",
       "      <td>3.0</td>\n",
       "      <td>Powell St BART Station (Market St at 4th St)</td>\n",
       "      <td>37.786375</td>\n",
       "      <td>-122.404904</td>\n",
       "      <td>5905</td>\n",
       "      <td>Customer</td>\n",
       "      <td>1972.0</td>\n",
       "      <td>Male</td>\n",
       "      <td>No</td>\n",
       "    </tr>\n",
       "    <tr>\n",
       "      <th>3</th>\n",
       "      <td>36490</td>\n",
       "      <td>2019-02-28 17:54:26.0100</td>\n",
       "      <td>2019-03-01 04:02:36.8420</td>\n",
       "      <td>375.0</td>\n",
       "      <td>Grove St at Masonic Ave</td>\n",
       "      <td>37.774836</td>\n",
       "      <td>-122.446546</td>\n",
       "      <td>70.0</td>\n",
       "      <td>Central Ave at Fell St</td>\n",
       "      <td>37.773311</td>\n",
       "      <td>-122.444293</td>\n",
       "      <td>6638</td>\n",
       "      <td>Subscriber</td>\n",
       "      <td>1989.0</td>\n",
       "      <td>Other</td>\n",
       "      <td>No</td>\n",
       "    </tr>\n",
       "    <tr>\n",
       "      <th>4</th>\n",
       "      <td>1585</td>\n",
       "      <td>2019-02-28 23:54:18.5490</td>\n",
       "      <td>2019-03-01 00:20:44.0740</td>\n",
       "      <td>7.0</td>\n",
       "      <td>Frank H Ogawa Plaza</td>\n",
       "      <td>37.804562</td>\n",
       "      <td>-122.271738</td>\n",
       "      <td>222.0</td>\n",
       "      <td>10th Ave at E 15th St</td>\n",
       "      <td>37.792714</td>\n",
       "      <td>-122.248780</td>\n",
       "      <td>4898</td>\n",
       "      <td>Subscriber</td>\n",
       "      <td>1974.0</td>\n",
       "      <td>Male</td>\n",
       "      <td>Yes</td>\n",
       "    </tr>\n",
       "    <tr>\n",
       "      <th>...</th>\n",
       "      <td>...</td>\n",
       "      <td>...</td>\n",
       "      <td>...</td>\n",
       "      <td>...</td>\n",
       "      <td>...</td>\n",
       "      <td>...</td>\n",
       "      <td>...</td>\n",
       "      <td>...</td>\n",
       "      <td>...</td>\n",
       "      <td>...</td>\n",
       "      <td>...</td>\n",
       "      <td>...</td>\n",
       "      <td>...</td>\n",
       "      <td>...</td>\n",
       "      <td>...</td>\n",
       "      <td>...</td>\n",
       "    </tr>\n",
       "    <tr>\n",
       "      <th>183407</th>\n",
       "      <td>480</td>\n",
       "      <td>2019-02-01 00:04:49.7240</td>\n",
       "      <td>2019-02-01 00:12:50.0340</td>\n",
       "      <td>27.0</td>\n",
       "      <td>Beale St at Harrison St</td>\n",
       "      <td>37.788059</td>\n",
       "      <td>-122.391865</td>\n",
       "      <td>324.0</td>\n",
       "      <td>Union Square (Powell St at Post St)</td>\n",
       "      <td>37.788300</td>\n",
       "      <td>-122.408531</td>\n",
       "      <td>4832</td>\n",
       "      <td>Subscriber</td>\n",
       "      <td>1996.0</td>\n",
       "      <td>Male</td>\n",
       "      <td>No</td>\n",
       "    </tr>\n",
       "    <tr>\n",
       "      <th>183408</th>\n",
       "      <td>313</td>\n",
       "      <td>2019-02-01 00:05:34.7440</td>\n",
       "      <td>2019-02-01 00:10:48.5020</td>\n",
       "      <td>21.0</td>\n",
       "      <td>Montgomery St BART Station (Market St at 2nd St)</td>\n",
       "      <td>37.789625</td>\n",
       "      <td>-122.400811</td>\n",
       "      <td>66.0</td>\n",
       "      <td>3rd St at Townsend St</td>\n",
       "      <td>37.778742</td>\n",
       "      <td>-122.392741</td>\n",
       "      <td>4960</td>\n",
       "      <td>Subscriber</td>\n",
       "      <td>1984.0</td>\n",
       "      <td>Male</td>\n",
       "      <td>No</td>\n",
       "    </tr>\n",
       "    <tr>\n",
       "      <th>183409</th>\n",
       "      <td>141</td>\n",
       "      <td>2019-02-01 00:06:05.5490</td>\n",
       "      <td>2019-02-01 00:08:27.2200</td>\n",
       "      <td>278.0</td>\n",
       "      <td>The Alameda at Bush St</td>\n",
       "      <td>37.331932</td>\n",
       "      <td>-121.904888</td>\n",
       "      <td>277.0</td>\n",
       "      <td>Morrison Ave at Julian St</td>\n",
       "      <td>37.333658</td>\n",
       "      <td>-121.908586</td>\n",
       "      <td>3824</td>\n",
       "      <td>Subscriber</td>\n",
       "      <td>1990.0</td>\n",
       "      <td>Male</td>\n",
       "      <td>Yes</td>\n",
       "    </tr>\n",
       "    <tr>\n",
       "      <th>183410</th>\n",
       "      <td>139</td>\n",
       "      <td>2019-02-01 00:05:34.3600</td>\n",
       "      <td>2019-02-01 00:07:54.2870</td>\n",
       "      <td>220.0</td>\n",
       "      <td>San Pablo Ave at MLK Jr Way</td>\n",
       "      <td>37.811351</td>\n",
       "      <td>-122.273422</td>\n",
       "      <td>216.0</td>\n",
       "      <td>San Pablo Ave at 27th St</td>\n",
       "      <td>37.817827</td>\n",
       "      <td>-122.275698</td>\n",
       "      <td>5095</td>\n",
       "      <td>Subscriber</td>\n",
       "      <td>1988.0</td>\n",
       "      <td>Male</td>\n",
       "      <td>No</td>\n",
       "    </tr>\n",
       "    <tr>\n",
       "      <th>183411</th>\n",
       "      <td>271</td>\n",
       "      <td>2019-02-01 00:00:20.6360</td>\n",
       "      <td>2019-02-01 00:04:52.0580</td>\n",
       "      <td>24.0</td>\n",
       "      <td>Spear St at Folsom St</td>\n",
       "      <td>37.789677</td>\n",
       "      <td>-122.390428</td>\n",
       "      <td>37.0</td>\n",
       "      <td>2nd St at Folsom St</td>\n",
       "      <td>37.785000</td>\n",
       "      <td>-122.395936</td>\n",
       "      <td>1057</td>\n",
       "      <td>Subscriber</td>\n",
       "      <td>1989.0</td>\n",
       "      <td>Male</td>\n",
       "      <td>No</td>\n",
       "    </tr>\n",
       "  </tbody>\n",
       "</table>\n",
       "<p>183412 rows × 16 columns</p>\n",
       "</div>"
      ],
      "text/plain": [
       "        duration_sec                start_time                  end_time  \\\n",
       "0              52185  2019-02-28 17:32:10.1450  2019-03-01 08:01:55.9750   \n",
       "1              42521  2019-02-28 18:53:21.7890  2019-03-01 06:42:03.0560   \n",
       "2              61854  2019-02-28 12:13:13.2180  2019-03-01 05:24:08.1460   \n",
       "3              36490  2019-02-28 17:54:26.0100  2019-03-01 04:02:36.8420   \n",
       "4               1585  2019-02-28 23:54:18.5490  2019-03-01 00:20:44.0740   \n",
       "...              ...                       ...                       ...   \n",
       "183407           480  2019-02-01 00:04:49.7240  2019-02-01 00:12:50.0340   \n",
       "183408           313  2019-02-01 00:05:34.7440  2019-02-01 00:10:48.5020   \n",
       "183409           141  2019-02-01 00:06:05.5490  2019-02-01 00:08:27.2200   \n",
       "183410           139  2019-02-01 00:05:34.3600  2019-02-01 00:07:54.2870   \n",
       "183411           271  2019-02-01 00:00:20.6360  2019-02-01 00:04:52.0580   \n",
       "\n",
       "        start_station_id                                start_station_name  \\\n",
       "0                   21.0  Montgomery St BART Station (Market St at 2nd St)   \n",
       "1                   23.0                     The Embarcadero at Steuart St   \n",
       "2                   86.0                           Market St at Dolores St   \n",
       "3                  375.0                           Grove St at Masonic Ave   \n",
       "4                    7.0                               Frank H Ogawa Plaza   \n",
       "...                  ...                                               ...   \n",
       "183407              27.0                           Beale St at Harrison St   \n",
       "183408              21.0  Montgomery St BART Station (Market St at 2nd St)   \n",
       "183409             278.0                            The Alameda at Bush St   \n",
       "183410             220.0                       San Pablo Ave at MLK Jr Way   \n",
       "183411              24.0                             Spear St at Folsom St   \n",
       "\n",
       "        start_station_latitude  start_station_longitude  end_station_id  \\\n",
       "0                    37.789625              -122.400811            13.0   \n",
       "1                    37.791464              -122.391034            81.0   \n",
       "2                    37.769305              -122.426826             3.0   \n",
       "3                    37.774836              -122.446546            70.0   \n",
       "4                    37.804562              -122.271738           222.0   \n",
       "...                        ...                      ...             ...   \n",
       "183407               37.788059              -122.391865           324.0   \n",
       "183408               37.789625              -122.400811            66.0   \n",
       "183409               37.331932              -121.904888           277.0   \n",
       "183410               37.811351              -122.273422           216.0   \n",
       "183411               37.789677              -122.390428            37.0   \n",
       "\n",
       "                                    end_station_name  end_station_latitude  \\\n",
       "0                     Commercial St at Montgomery St             37.794231   \n",
       "1                                 Berry St at 4th St             37.775880   \n",
       "2       Powell St BART Station (Market St at 4th St)             37.786375   \n",
       "3                             Central Ave at Fell St             37.773311   \n",
       "4                              10th Ave at E 15th St             37.792714   \n",
       "...                                              ...                   ...   \n",
       "183407           Union Square (Powell St at Post St)             37.788300   \n",
       "183408                         3rd St at Townsend St             37.778742   \n",
       "183409                     Morrison Ave at Julian St             37.333658   \n",
       "183410                      San Pablo Ave at 27th St             37.817827   \n",
       "183411                           2nd St at Folsom St             37.785000   \n",
       "\n",
       "        end_station_longitude  bike_id   user_type  member_birth_year  \\\n",
       "0                 -122.402923     4902    Customer             1984.0   \n",
       "1                 -122.393170     2535    Customer                NaN   \n",
       "2                 -122.404904     5905    Customer             1972.0   \n",
       "3                 -122.444293     6638  Subscriber             1989.0   \n",
       "4                 -122.248780     4898  Subscriber             1974.0   \n",
       "...                       ...      ...         ...                ...   \n",
       "183407            -122.408531     4832  Subscriber             1996.0   \n",
       "183408            -122.392741     4960  Subscriber             1984.0   \n",
       "183409            -121.908586     3824  Subscriber             1990.0   \n",
       "183410            -122.275698     5095  Subscriber             1988.0   \n",
       "183411            -122.395936     1057  Subscriber             1989.0   \n",
       "\n",
       "       member_gender bike_share_for_all_trip  \n",
       "0               Male                      No  \n",
       "1                NaN                      No  \n",
       "2               Male                      No  \n",
       "3              Other                      No  \n",
       "4               Male                     Yes  \n",
       "...              ...                     ...  \n",
       "183407          Male                      No  \n",
       "183408          Male                      No  \n",
       "183409          Male                     Yes  \n",
       "183410          Male                      No  \n",
       "183411          Male                      No  \n",
       "\n",
       "[183412 rows x 16 columns]"
      ]
     },
     "execution_count": 184,
     "metadata": {},
     "output_type": "execute_result"
    }
   ],
   "source": [
    "#view dataset\n",
    "\n",
    "bike"
   ]
  },
  {
   "cell_type": "markdown",
   "metadata": {},
   "source": [
    "### Visual & Programmatic Assesment"
   ]
  },
  {
   "cell_type": "code",
   "execution_count": 185,
   "metadata": {},
   "outputs": [
    {
     "data": {
      "text/plain": [
       "(183412, 16)"
      ]
     },
     "execution_count": 185,
     "metadata": {},
     "output_type": "execute_result"
    }
   ],
   "source": [
    "#check data structure\n",
    "\n",
    "bike.shape"
   ]
  },
  {
   "cell_type": "markdown",
   "metadata": {},
   "source": [
    "> The dataset has **183412** rows/observations & **16** columns/variables"
   ]
  },
  {
   "cell_type": "code",
   "execution_count": 186,
   "metadata": {},
   "outputs": [
    {
     "name": "stdout",
     "output_type": "stream",
     "text": [
      "<class 'pandas.core.frame.DataFrame'>\n",
      "RangeIndex: 183412 entries, 0 to 183411\n",
      "Data columns (total 16 columns):\n",
      " #   Column                   Non-Null Count   Dtype  \n",
      "---  ------                   --------------   -----  \n",
      " 0   duration_sec             183412 non-null  int64  \n",
      " 1   start_time               183412 non-null  object \n",
      " 2   end_time                 183412 non-null  object \n",
      " 3   start_station_id         183215 non-null  float64\n",
      " 4   start_station_name       183215 non-null  object \n",
      " 5   start_station_latitude   183412 non-null  float64\n",
      " 6   start_station_longitude  183412 non-null  float64\n",
      " 7   end_station_id           183215 non-null  float64\n",
      " 8   end_station_name         183215 non-null  object \n",
      " 9   end_station_latitude     183412 non-null  float64\n",
      " 10  end_station_longitude    183412 non-null  float64\n",
      " 11  bike_id                  183412 non-null  int64  \n",
      " 12  user_type                183412 non-null  object \n",
      " 13  member_birth_year        175147 non-null  float64\n",
      " 14  member_gender            175147 non-null  object \n",
      " 15  bike_share_for_all_trip  183412 non-null  object \n",
      "dtypes: float64(7), int64(2), object(7)\n",
      "memory usage: 22.4+ MB\n"
     ]
    }
   ],
   "source": [
    "#check columns structure/general description of dataset\n",
    "\n",
    "bike.info()"
   ]
  },
  {
   "cell_type": "markdown",
   "metadata": {},
   "source": [
    "#### From the above the dataset has the following issues:\n",
    "* Missing/Null values in:  \n",
    " >   **start_station_id**, **start_station_name**, **end_station_id**, **end_station_name**, **member_gender**, **member_birth_year**  \n",
    "* **start_time** as **object** instead of **datetime**\n",
    "* **end_time** as **object** instead of **datetime**\n",
    "* **start_station_id** as **float64** instead of **int64**\n",
    "* **end_station_id** as **float64** instead of **int64**\n",
    "* **user_type** as **object** instead of **category**\n",
    "* **member_birth_year** as **float64** instead of **int64**\n",
    "* **member_gender** as **object** intead of **category**\n",
    "* **bike_share_for_all_trip** as **object** instead of **category**"
   ]
  },
  {
   "cell_type": "code",
   "execution_count": 187,
   "metadata": {
    "scrolled": true
   },
   "outputs": [
    {
     "name": "stdout",
     "output_type": "stream",
     "text": [
      "start_station_id has 197 missing values\n",
      "start_station_name has 197 missing values\n",
      "end_station_id has 197 missing values\n",
      "end_station_name has 197 missing values\n",
      "member_gender has 8265 missing values\n",
      "member_birth_year has 8265 missing values\n"
     ]
    }
   ],
   "source": [
    "#total number of missing values in each columns\n",
    "\n",
    "missing_val_cols = ['start_station_id', 'start_station_name', 'end_station_id', \n",
    "               'end_station_name', 'member_gender', 'member_birth_year']\n",
    "\n",
    "for i in missing_val_cols:\n",
    "    print(i, 'has', bike[i].isnull().sum(), 'missing values')"
   ]
  },
  {
   "cell_type": "code",
   "execution_count": 188,
   "metadata": {
    "scrolled": true
   },
   "outputs": [
    {
     "data": {
      "text/plain": [
       "Subscriber    163544\n",
       "Customer       19868\n",
       "Name: user_type, dtype: int64"
      ]
     },
     "execution_count": 188,
     "metadata": {},
     "output_type": "execute_result"
    }
   ],
   "source": [
    "#unique value for user_type\n",
    "\n",
    "bike['user_type'].value_counts()"
   ]
  },
  {
   "cell_type": "code",
   "execution_count": 189,
   "metadata": {},
   "outputs": [
    {
     "data": {
      "text/plain": [
       "Male      130651\n",
       "Female     40844\n",
       "Other       3652\n",
       "Name: member_gender, dtype: int64"
      ]
     },
     "execution_count": 189,
     "metadata": {},
     "output_type": "execute_result"
    }
   ],
   "source": [
    "#unique value for member_gender\n",
    "\n",
    "bike['member_gender'].value_counts()"
   ]
  },
  {
   "cell_type": "code",
   "execution_count": 190,
   "metadata": {},
   "outputs": [
    {
     "data": {
      "text/plain": [
       "No     166053\n",
       "Yes     17359\n",
       "Name: bike_share_for_all_trip, dtype: int64"
      ]
     },
     "execution_count": 190,
     "metadata": {},
     "output_type": "execute_result"
    }
   ],
   "source": [
    "#unique value for bike_share_for_all_trip\n",
    "\n",
    "bike['bike_share_for_all_trip'].value_counts()"
   ]
  },
  {
   "cell_type": "markdown",
   "metadata": {},
   "source": [
    "### Cleaning the identified data issues"
   ]
  },
  {
   "cell_type": "code",
   "execution_count": 191,
   "metadata": {},
   "outputs": [],
   "source": [
    "#create a copy of original dataset\n",
    "\n",
    "bike_clean = bike.copy()"
   ]
  },
  {
   "cell_type": "code",
   "execution_count": 192,
   "metadata": {
    "scrolled": true
   },
   "outputs": [
    {
     "data": {
      "text/html": [
       "<div>\n",
       "<style scoped>\n",
       "    .dataframe tbody tr th:only-of-type {\n",
       "        vertical-align: middle;\n",
       "    }\n",
       "\n",
       "    .dataframe tbody tr th {\n",
       "        vertical-align: top;\n",
       "    }\n",
       "\n",
       "    .dataframe thead th {\n",
       "        text-align: right;\n",
       "    }\n",
       "</style>\n",
       "<table border=\"1\" class=\"dataframe\">\n",
       "  <thead>\n",
       "    <tr style=\"text-align: right;\">\n",
       "      <th></th>\n",
       "      <th>duration_sec</th>\n",
       "      <th>start_time</th>\n",
       "      <th>end_time</th>\n",
       "      <th>start_station_id</th>\n",
       "      <th>start_station_name</th>\n",
       "      <th>start_station_latitude</th>\n",
       "      <th>start_station_longitude</th>\n",
       "      <th>end_station_id</th>\n",
       "      <th>end_station_name</th>\n",
       "      <th>end_station_latitude</th>\n",
       "      <th>end_station_longitude</th>\n",
       "      <th>bike_id</th>\n",
       "      <th>user_type</th>\n",
       "      <th>member_birth_year</th>\n",
       "      <th>member_gender</th>\n",
       "      <th>bike_share_for_all_trip</th>\n",
       "    </tr>\n",
       "  </thead>\n",
       "  <tbody>\n",
       "    <tr>\n",
       "      <th>0</th>\n",
       "      <td>52185</td>\n",
       "      <td>2019-02-28 17:32:10.1450</td>\n",
       "      <td>2019-03-01 08:01:55.9750</td>\n",
       "      <td>21.0</td>\n",
       "      <td>Montgomery St BART Station (Market St at 2nd St)</td>\n",
       "      <td>37.789625</td>\n",
       "      <td>-122.400811</td>\n",
       "      <td>13.0</td>\n",
       "      <td>Commercial St at Montgomery St</td>\n",
       "      <td>37.794231</td>\n",
       "      <td>-122.402923</td>\n",
       "      <td>4902</td>\n",
       "      <td>Customer</td>\n",
       "      <td>1984.0</td>\n",
       "      <td>Male</td>\n",
       "      <td>No</td>\n",
       "    </tr>\n",
       "    <tr>\n",
       "      <th>1</th>\n",
       "      <td>42521</td>\n",
       "      <td>2019-02-28 18:53:21.7890</td>\n",
       "      <td>2019-03-01 06:42:03.0560</td>\n",
       "      <td>23.0</td>\n",
       "      <td>The Embarcadero at Steuart St</td>\n",
       "      <td>37.791464</td>\n",
       "      <td>-122.391034</td>\n",
       "      <td>81.0</td>\n",
       "      <td>Berry St at 4th St</td>\n",
       "      <td>37.775880</td>\n",
       "      <td>-122.393170</td>\n",
       "      <td>2535</td>\n",
       "      <td>Customer</td>\n",
       "      <td>NaN</td>\n",
       "      <td>NaN</td>\n",
       "      <td>No</td>\n",
       "    </tr>\n",
       "    <tr>\n",
       "      <th>2</th>\n",
       "      <td>61854</td>\n",
       "      <td>2019-02-28 12:13:13.2180</td>\n",
       "      <td>2019-03-01 05:24:08.1460</td>\n",
       "      <td>86.0</td>\n",
       "      <td>Market St at Dolores St</td>\n",
       "      <td>37.769305</td>\n",
       "      <td>-122.426826</td>\n",
       "      <td>3.0</td>\n",
       "      <td>Powell St BART Station (Market St at 4th St)</td>\n",
       "      <td>37.786375</td>\n",
       "      <td>-122.404904</td>\n",
       "      <td>5905</td>\n",
       "      <td>Customer</td>\n",
       "      <td>1972.0</td>\n",
       "      <td>Male</td>\n",
       "      <td>No</td>\n",
       "    </tr>\n",
       "  </tbody>\n",
       "</table>\n",
       "</div>"
      ],
      "text/plain": [
       "   duration_sec                start_time                  end_time  \\\n",
       "0         52185  2019-02-28 17:32:10.1450  2019-03-01 08:01:55.9750   \n",
       "1         42521  2019-02-28 18:53:21.7890  2019-03-01 06:42:03.0560   \n",
       "2         61854  2019-02-28 12:13:13.2180  2019-03-01 05:24:08.1460   \n",
       "\n",
       "   start_station_id                                start_station_name  \\\n",
       "0              21.0  Montgomery St BART Station (Market St at 2nd St)   \n",
       "1              23.0                     The Embarcadero at Steuart St   \n",
       "2              86.0                           Market St at Dolores St   \n",
       "\n",
       "   start_station_latitude  start_station_longitude  end_station_id  \\\n",
       "0               37.789625              -122.400811            13.0   \n",
       "1               37.791464              -122.391034            81.0   \n",
       "2               37.769305              -122.426826             3.0   \n",
       "\n",
       "                               end_station_name  end_station_latitude  \\\n",
       "0                Commercial St at Montgomery St             37.794231   \n",
       "1                            Berry St at 4th St             37.775880   \n",
       "2  Powell St BART Station (Market St at 4th St)             37.786375   \n",
       "\n",
       "   end_station_longitude  bike_id user_type  member_birth_year member_gender  \\\n",
       "0            -122.402923     4902  Customer             1984.0          Male   \n",
       "1            -122.393170     2535  Customer                NaN           NaN   \n",
       "2            -122.404904     5905  Customer             1972.0          Male   \n",
       "\n",
       "  bike_share_for_all_trip  \n",
       "0                      No  \n",
       "1                      No  \n",
       "2                      No  "
      ]
     },
     "execution_count": 192,
     "metadata": {},
     "output_type": "execute_result"
    }
   ],
   "source": [
    "#view new dataest\n",
    "\n",
    "bike_clean.head(3)"
   ]
  },
  {
   "cell_type": "code",
   "execution_count": 193,
   "metadata": {},
   "outputs": [
    {
     "data": {
      "text/plain": [
       "duration_sec                  0\n",
       "start_time                    0\n",
       "end_time                      0\n",
       "start_station_id            197\n",
       "start_station_name          197\n",
       "start_station_latitude        0\n",
       "start_station_longitude       0\n",
       "end_station_id              197\n",
       "end_station_name            197\n",
       "end_station_latitude          0\n",
       "end_station_longitude         0\n",
       "bike_id                       0\n",
       "user_type                     0\n",
       "member_birth_year          8265\n",
       "member_gender              8265\n",
       "bike_share_for_all_trip       0\n",
       "dtype: int64"
      ]
     },
     "execution_count": 193,
     "metadata": {},
     "output_type": "execute_result"
    }
   ],
   "source": [
    "#columns with missing values\n",
    "\n",
    "bike_clean.isnull().sum()"
   ]
  },
  {
   "cell_type": "code",
   "execution_count": 194,
   "metadata": {},
   "outputs": [
    {
     "name": "stdout",
     "output_type": "stream",
     "text": [
      "start_station_id has 197 missing values\n",
      "start_station_name has 197 missing values\n",
      "end_station_id has 197 missing values\n",
      "end_station_name has 197 missing values\n"
     ]
    }
   ],
   "source": [
    "#print columns and missing values count\n",
    "\n",
    "station_cols = ['start_station_id', 'start_station_name', 'end_station_id', 'end_station_name']\n",
    "\n",
    "for i in station_cols:\n",
    "    print(i, 'has', bike_clean[i].isnull().sum(), 'missing values')"
   ]
  },
  {
   "cell_type": "markdown",
   "metadata": {},
   "source": [
    "> I suspect the **start_station_id**, **start_station_name**, **end_station_id** & **end_station_name** has missing values in the same rows  \n",
    "If this is True I'll be dropping the rows in both columns"
   ]
  },
  {
   "cell_type": "code",
   "execution_count": 195,
   "metadata": {},
   "outputs": [
    {
     "data": {
      "text/html": [
       "<div>\n",
       "<style scoped>\n",
       "    .dataframe tbody tr th:only-of-type {\n",
       "        vertical-align: middle;\n",
       "    }\n",
       "\n",
       "    .dataframe tbody tr th {\n",
       "        vertical-align: top;\n",
       "    }\n",
       "\n",
       "    .dataframe thead th {\n",
       "        text-align: right;\n",
       "    }\n",
       "</style>\n",
       "<table border=\"1\" class=\"dataframe\">\n",
       "  <thead>\n",
       "    <tr style=\"text-align: right;\">\n",
       "      <th></th>\n",
       "      <th>duration_sec</th>\n",
       "      <th>start_time</th>\n",
       "      <th>end_time</th>\n",
       "      <th>start_station_id</th>\n",
       "      <th>start_station_name</th>\n",
       "      <th>start_station_latitude</th>\n",
       "      <th>start_station_longitude</th>\n",
       "      <th>end_station_id</th>\n",
       "      <th>end_station_name</th>\n",
       "      <th>end_station_latitude</th>\n",
       "      <th>end_station_longitude</th>\n",
       "      <th>bike_id</th>\n",
       "      <th>user_type</th>\n",
       "      <th>member_birth_year</th>\n",
       "      <th>member_gender</th>\n",
       "      <th>bike_share_for_all_trip</th>\n",
       "    </tr>\n",
       "  </thead>\n",
       "  <tbody>\n",
       "    <tr>\n",
       "      <th>475</th>\n",
       "      <td>1709</td>\n",
       "      <td>2019-02-28 20:55:53.9320</td>\n",
       "      <td>2019-02-28 21:24:23.7380</td>\n",
       "      <td>NaN</td>\n",
       "      <td>NaN</td>\n",
       "      <td>37.40</td>\n",
       "      <td>-121.94</td>\n",
       "      <td>NaN</td>\n",
       "      <td>NaN</td>\n",
       "      <td>37.40</td>\n",
       "      <td>-121.93</td>\n",
       "      <td>4211</td>\n",
       "      <td>Customer</td>\n",
       "      <td>1991.0</td>\n",
       "      <td>Female</td>\n",
       "      <td>No</td>\n",
       "    </tr>\n",
       "    <tr>\n",
       "      <th>1733</th>\n",
       "      <td>1272</td>\n",
       "      <td>2019-02-28 18:32:34.2730</td>\n",
       "      <td>2019-02-28 18:53:46.7270</td>\n",
       "      <td>NaN</td>\n",
       "      <td>NaN</td>\n",
       "      <td>37.40</td>\n",
       "      <td>-121.94</td>\n",
       "      <td>NaN</td>\n",
       "      <td>NaN</td>\n",
       "      <td>37.41</td>\n",
       "      <td>-121.96</td>\n",
       "      <td>4174</td>\n",
       "      <td>Subscriber</td>\n",
       "      <td>1980.0</td>\n",
       "      <td>Male</td>\n",
       "      <td>No</td>\n",
       "    </tr>\n",
       "    <tr>\n",
       "      <th>3625</th>\n",
       "      <td>142</td>\n",
       "      <td>2019-02-28 17:10:46.5290</td>\n",
       "      <td>2019-02-28 17:13:09.4310</td>\n",
       "      <td>NaN</td>\n",
       "      <td>NaN</td>\n",
       "      <td>37.41</td>\n",
       "      <td>-121.95</td>\n",
       "      <td>NaN</td>\n",
       "      <td>NaN</td>\n",
       "      <td>37.41</td>\n",
       "      <td>-121.96</td>\n",
       "      <td>4283</td>\n",
       "      <td>Subscriber</td>\n",
       "      <td>1988.0</td>\n",
       "      <td>Male</td>\n",
       "      <td>No</td>\n",
       "    </tr>\n",
       "    <tr>\n",
       "      <th>4070</th>\n",
       "      <td>585</td>\n",
       "      <td>2019-02-28 16:28:45.9340</td>\n",
       "      <td>2019-02-28 16:38:31.3320</td>\n",
       "      <td>NaN</td>\n",
       "      <td>NaN</td>\n",
       "      <td>37.39</td>\n",
       "      <td>-121.93</td>\n",
       "      <td>NaN</td>\n",
       "      <td>NaN</td>\n",
       "      <td>37.40</td>\n",
       "      <td>-121.92</td>\n",
       "      <td>4089</td>\n",
       "      <td>Subscriber</td>\n",
       "      <td>1984.0</td>\n",
       "      <td>Male</td>\n",
       "      <td>Yes</td>\n",
       "    </tr>\n",
       "    <tr>\n",
       "      <th>5654</th>\n",
       "      <td>509</td>\n",
       "      <td>2019-02-28 12:30:17.1310</td>\n",
       "      <td>2019-02-28 12:38:46.3290</td>\n",
       "      <td>NaN</td>\n",
       "      <td>NaN</td>\n",
       "      <td>37.40</td>\n",
       "      <td>-121.92</td>\n",
       "      <td>NaN</td>\n",
       "      <td>NaN</td>\n",
       "      <td>37.39</td>\n",
       "      <td>-121.93</td>\n",
       "      <td>4089</td>\n",
       "      <td>Subscriber</td>\n",
       "      <td>1984.0</td>\n",
       "      <td>Male</td>\n",
       "      <td>Yes</td>\n",
       "    </tr>\n",
       "    <tr>\n",
       "      <th>...</th>\n",
       "      <td>...</td>\n",
       "      <td>...</td>\n",
       "      <td>...</td>\n",
       "      <td>...</td>\n",
       "      <td>...</td>\n",
       "      <td>...</td>\n",
       "      <td>...</td>\n",
       "      <td>...</td>\n",
       "      <td>...</td>\n",
       "      <td>...</td>\n",
       "      <td>...</td>\n",
       "      <td>...</td>\n",
       "      <td>...</td>\n",
       "      <td>...</td>\n",
       "      <td>...</td>\n",
       "      <td>...</td>\n",
       "    </tr>\n",
       "    <tr>\n",
       "      <th>176154</th>\n",
       "      <td>1447</td>\n",
       "      <td>2019-02-02 12:03:04.5440</td>\n",
       "      <td>2019-02-02 12:27:12.2670</td>\n",
       "      <td>NaN</td>\n",
       "      <td>NaN</td>\n",
       "      <td>37.40</td>\n",
       "      <td>-121.93</td>\n",
       "      <td>NaN</td>\n",
       "      <td>NaN</td>\n",
       "      <td>37.40</td>\n",
       "      <td>-121.93</td>\n",
       "      <td>4249</td>\n",
       "      <td>Customer</td>\n",
       "      <td>1984.0</td>\n",
       "      <td>Male</td>\n",
       "      <td>No</td>\n",
       "    </tr>\n",
       "    <tr>\n",
       "      <th>179730</th>\n",
       "      <td>309</td>\n",
       "      <td>2019-02-01 12:59:45.9690</td>\n",
       "      <td>2019-02-01 13:04:55.4260</td>\n",
       "      <td>NaN</td>\n",
       "      <td>NaN</td>\n",
       "      <td>37.40</td>\n",
       "      <td>-121.94</td>\n",
       "      <td>NaN</td>\n",
       "      <td>NaN</td>\n",
       "      <td>37.40</td>\n",
       "      <td>-121.93</td>\n",
       "      <td>4249</td>\n",
       "      <td>Customer</td>\n",
       "      <td>1987.0</td>\n",
       "      <td>Female</td>\n",
       "      <td>No</td>\n",
       "    </tr>\n",
       "    <tr>\n",
       "      <th>179970</th>\n",
       "      <td>659</td>\n",
       "      <td>2019-02-01 12:17:37.6750</td>\n",
       "      <td>2019-02-01 12:28:37.0140</td>\n",
       "      <td>NaN</td>\n",
       "      <td>NaN</td>\n",
       "      <td>37.41</td>\n",
       "      <td>-121.96</td>\n",
       "      <td>NaN</td>\n",
       "      <td>NaN</td>\n",
       "      <td>37.41</td>\n",
       "      <td>-121.94</td>\n",
       "      <td>4092</td>\n",
       "      <td>Subscriber</td>\n",
       "      <td>1999.0</td>\n",
       "      <td>Female</td>\n",
       "      <td>No</td>\n",
       "    </tr>\n",
       "    <tr>\n",
       "      <th>180106</th>\n",
       "      <td>2013</td>\n",
       "      <td>2019-02-01 11:33:55.1470</td>\n",
       "      <td>2019-02-01 12:07:28.9400</td>\n",
       "      <td>NaN</td>\n",
       "      <td>NaN</td>\n",
       "      <td>37.40</td>\n",
       "      <td>-121.94</td>\n",
       "      <td>NaN</td>\n",
       "      <td>NaN</td>\n",
       "      <td>37.40</td>\n",
       "      <td>-121.94</td>\n",
       "      <td>4251</td>\n",
       "      <td>Customer</td>\n",
       "      <td>1990.0</td>\n",
       "      <td>Female</td>\n",
       "      <td>No</td>\n",
       "    </tr>\n",
       "    <tr>\n",
       "      <th>181201</th>\n",
       "      <td>312</td>\n",
       "      <td>2019-02-01 09:26:34.8030</td>\n",
       "      <td>2019-02-01 09:31:46.9210</td>\n",
       "      <td>NaN</td>\n",
       "      <td>NaN</td>\n",
       "      <td>37.40</td>\n",
       "      <td>-121.93</td>\n",
       "      <td>NaN</td>\n",
       "      <td>NaN</td>\n",
       "      <td>37.40</td>\n",
       "      <td>-121.93</td>\n",
       "      <td>4208</td>\n",
       "      <td>Subscriber</td>\n",
       "      <td>1987.0</td>\n",
       "      <td>Male</td>\n",
       "      <td>No</td>\n",
       "    </tr>\n",
       "  </tbody>\n",
       "</table>\n",
       "<p>197 rows × 16 columns</p>\n",
       "</div>"
      ],
      "text/plain": [
       "        duration_sec                start_time                  end_time  \\\n",
       "475             1709  2019-02-28 20:55:53.9320  2019-02-28 21:24:23.7380   \n",
       "1733            1272  2019-02-28 18:32:34.2730  2019-02-28 18:53:46.7270   \n",
       "3625             142  2019-02-28 17:10:46.5290  2019-02-28 17:13:09.4310   \n",
       "4070             585  2019-02-28 16:28:45.9340  2019-02-28 16:38:31.3320   \n",
       "5654             509  2019-02-28 12:30:17.1310  2019-02-28 12:38:46.3290   \n",
       "...              ...                       ...                       ...   \n",
       "176154          1447  2019-02-02 12:03:04.5440  2019-02-02 12:27:12.2670   \n",
       "179730           309  2019-02-01 12:59:45.9690  2019-02-01 13:04:55.4260   \n",
       "179970           659  2019-02-01 12:17:37.6750  2019-02-01 12:28:37.0140   \n",
       "180106          2013  2019-02-01 11:33:55.1470  2019-02-01 12:07:28.9400   \n",
       "181201           312  2019-02-01 09:26:34.8030  2019-02-01 09:31:46.9210   \n",
       "\n",
       "        start_station_id start_station_name  start_station_latitude  \\\n",
       "475                  NaN                NaN                   37.40   \n",
       "1733                 NaN                NaN                   37.40   \n",
       "3625                 NaN                NaN                   37.41   \n",
       "4070                 NaN                NaN                   37.39   \n",
       "5654                 NaN                NaN                   37.40   \n",
       "...                  ...                ...                     ...   \n",
       "176154               NaN                NaN                   37.40   \n",
       "179730               NaN                NaN                   37.40   \n",
       "179970               NaN                NaN                   37.41   \n",
       "180106               NaN                NaN                   37.40   \n",
       "181201               NaN                NaN                   37.40   \n",
       "\n",
       "        start_station_longitude  end_station_id end_station_name  \\\n",
       "475                     -121.94             NaN              NaN   \n",
       "1733                    -121.94             NaN              NaN   \n",
       "3625                    -121.95             NaN              NaN   \n",
       "4070                    -121.93             NaN              NaN   \n",
       "5654                    -121.92             NaN              NaN   \n",
       "...                         ...             ...              ...   \n",
       "176154                  -121.93             NaN              NaN   \n",
       "179730                  -121.94             NaN              NaN   \n",
       "179970                  -121.96             NaN              NaN   \n",
       "180106                  -121.94             NaN              NaN   \n",
       "181201                  -121.93             NaN              NaN   \n",
       "\n",
       "        end_station_latitude  end_station_longitude  bike_id   user_type  \\\n",
       "475                    37.40                -121.93     4211    Customer   \n",
       "1733                   37.41                -121.96     4174  Subscriber   \n",
       "3625                   37.41                -121.96     4283  Subscriber   \n",
       "4070                   37.40                -121.92     4089  Subscriber   \n",
       "5654                   37.39                -121.93     4089  Subscriber   \n",
       "...                      ...                    ...      ...         ...   \n",
       "176154                 37.40                -121.93     4249    Customer   \n",
       "179730                 37.40                -121.93     4249    Customer   \n",
       "179970                 37.41                -121.94     4092  Subscriber   \n",
       "180106                 37.40                -121.94     4251    Customer   \n",
       "181201                 37.40                -121.93     4208  Subscriber   \n",
       "\n",
       "        member_birth_year member_gender bike_share_for_all_trip  \n",
       "475                1991.0        Female                      No  \n",
       "1733               1980.0          Male                      No  \n",
       "3625               1988.0          Male                      No  \n",
       "4070               1984.0          Male                     Yes  \n",
       "5654               1984.0          Male                     Yes  \n",
       "...                   ...           ...                     ...  \n",
       "176154             1984.0          Male                      No  \n",
       "179730             1987.0        Female                      No  \n",
       "179970             1999.0        Female                      No  \n",
       "180106             1990.0        Female                      No  \n",
       "181201             1987.0          Male                      No  \n",
       "\n",
       "[197 rows x 16 columns]"
      ]
     },
     "execution_count": 195,
     "metadata": {},
     "output_type": "execute_result"
    }
   ],
   "source": [
    "#testing if the above is True\n",
    "\n",
    "bike_clean[bike_clean['start_station_id'].isnull() & bike_clean['start_station_name'].isnull()\n",
    "          & bike_clean['end_station_id'].isnull()& bike_clean['end_station_name'].isnull()]"
   ]
  },
  {
   "cell_type": "markdown",
   "metadata": {},
   "source": [
    "> Since both columns have missing values in the same rows I'll be dropping the rows as I cant fill them in anyway."
   ]
  },
  {
   "cell_type": "code",
   "execution_count": 196,
   "metadata": {},
   "outputs": [],
   "source": [
    "#drop start_station_id & start_station_name column\n",
    "bike_clean.dropna(axis = 0, subset = station_cols, how = 'all', inplace = True)"
   ]
  },
  {
   "cell_type": "code",
   "execution_count": 197,
   "metadata": {},
   "outputs": [
    {
     "data": {
      "text/plain": [
       "duration_sec                  0\n",
       "start_time                    0\n",
       "end_time                      0\n",
       "start_station_id              0\n",
       "start_station_name            0\n",
       "start_station_latitude        0\n",
       "start_station_longitude       0\n",
       "end_station_id                0\n",
       "end_station_name              0\n",
       "end_station_latitude          0\n",
       "end_station_longitude         0\n",
       "bike_id                       0\n",
       "user_type                     0\n",
       "member_birth_year          8263\n",
       "member_gender              8263\n",
       "bike_share_for_all_trip       0\n",
       "dtype: int64"
      ]
     },
     "execution_count": 197,
     "metadata": {},
     "output_type": "execute_result"
    }
   ],
   "source": [
    "#confirm change\n",
    "\n",
    "bike_clean.isnull().sum()"
   ]
  },
  {
   "cell_type": "markdown",
   "metadata": {},
   "source": [
    "> Missing values in the **member_birth_year** & **member_gender** are too many to drop so I'll fill those rows with the **Mode** value."
   ]
  },
  {
   "cell_type": "code",
   "execution_count": 198,
   "metadata": {},
   "outputs": [
    {
     "name": "stdout",
     "output_type": "stream",
     "text": [
      "member_birth_year has 8263 missing values\n",
      "member_gender has 8263 missing values\n"
     ]
    }
   ],
   "source": [
    "#print total missing values for  member_gender & member_birth_year column\n",
    "\n",
    "member_cols = ['member_birth_year', 'member_gender']\n",
    "\n",
    "for i in member_cols:\n",
    "    print(i, 'has', bike_clean[i].isnull().sum(), 'missing values')"
   ]
  },
  {
   "cell_type": "code",
   "execution_count": 199,
   "metadata": {},
   "outputs": [],
   "source": [
    "#fill the missing values with mode\n",
    "\n",
    "for i in member_cols:\n",
    "    mode = bike_clean[i].mode()[0]\n",
    "    bike_clean[i] = bike_clean[i].fillna(mode)"
   ]
  },
  {
   "cell_type": "code",
   "execution_count": 200,
   "metadata": {},
   "outputs": [
    {
     "data": {
      "text/plain": [
       "duration_sec               0\n",
       "start_time                 0\n",
       "end_time                   0\n",
       "start_station_id           0\n",
       "start_station_name         0\n",
       "start_station_latitude     0\n",
       "start_station_longitude    0\n",
       "end_station_id             0\n",
       "end_station_name           0\n",
       "end_station_latitude       0\n",
       "end_station_longitude      0\n",
       "bike_id                    0\n",
       "user_type                  0\n",
       "member_birth_year          0\n",
       "member_gender              0\n",
       "bike_share_for_all_trip    0\n",
       "dtype: int64"
      ]
     },
     "execution_count": 200,
     "metadata": {},
     "output_type": "execute_result"
    }
   ],
   "source": [
    "#confirm change\n",
    "\n",
    "bike_clean.isnull().sum()"
   ]
  },
  {
   "cell_type": "markdown",
   "metadata": {},
   "source": [
    "> After fixing the missing values, I'll drop the columns that I wont be using for this project before Moving on to fixing the wrong data types"
   ]
  },
  {
   "cell_type": "code",
   "execution_count": 201,
   "metadata": {},
   "outputs": [],
   "source": [
    "#dropping unneccesary columns\n",
    "\n",
    "cols = ['start_station_latitude', 'start_station_longitude', 'end_station_latitude', 'end_station_longitude']\n",
    "\n",
    "bike_clean = bike_clean.drop(columns = cols, axis = 1)"
   ]
  },
  {
   "cell_type": "code",
   "execution_count": 202,
   "metadata": {},
   "outputs": [
    {
     "name": "stdout",
     "output_type": "stream",
     "text": [
      "<class 'pandas.core.frame.DataFrame'>\n",
      "Int64Index: 183215 entries, 0 to 183411\n",
      "Data columns (total 12 columns):\n",
      " #   Column                   Non-Null Count   Dtype  \n",
      "---  ------                   --------------   -----  \n",
      " 0   duration_sec             183215 non-null  int64  \n",
      " 1   start_time               183215 non-null  object \n",
      " 2   end_time                 183215 non-null  object \n",
      " 3   start_station_id         183215 non-null  float64\n",
      " 4   start_station_name       183215 non-null  object \n",
      " 5   end_station_id           183215 non-null  float64\n",
      " 6   end_station_name         183215 non-null  object \n",
      " 7   bike_id                  183215 non-null  int64  \n",
      " 8   user_type                183215 non-null  object \n",
      " 9   member_birth_year        183215 non-null  float64\n",
      " 10  member_gender            183215 non-null  object \n",
      " 11  bike_share_for_all_trip  183215 non-null  object \n",
      "dtypes: float64(3), int64(2), object(7)\n",
      "memory usage: 18.2+ MB\n"
     ]
    }
   ],
   "source": [
    "#confirm change\n",
    "\n",
    "bike_clean.info()"
   ]
  },
  {
   "cell_type": "markdown",
   "metadata": {},
   "source": [
    "#### Columns with data type issues\n",
    "\n",
    "* **start_time** as **object** instead of **datetime**\n",
    "* **end_time** as **object** instead of **datetime**\n",
    "* **start_station_id** as **float64** instead of **int64**\n",
    "* **end_station_id** as **float64** instead of **int64**\n",
    "* **user_type** as **object** instead of **category**\n",
    "* **member_birth_year** as **float64** instead of **datetime**\n",
    "* **member_gender** as **object** intead of **category**\n",
    "* **bike_share_for_all_trip** as **object** instead of **category**"
   ]
  },
  {
   "cell_type": "code",
   "execution_count": 203,
   "metadata": {},
   "outputs": [],
   "source": [
    "#changing the data types to the correct format\n",
    "\n",
    "bike_clean['start_time'] = pd.to_datetime(bike_clean['start_time'])\n",
    "\n",
    "bike_clean['end_time'] = pd.to_datetime(bike_clean['end_time'])\n",
    "\n",
    "bike_clean['start_station_id'] = bike_clean['start_station_id'].astype(int)\n",
    "\n",
    "bike_clean['end_station_id'] = bike_clean['end_station_id'].astype(int)\n",
    "\n",
    "bike_clean['user_type'] = bike_clean['user_type'].astype('category')\n",
    "\n",
    "bike_clean['member_birth_year'] = pd.to_datetime(bike_clean['member_birth_year'], format = '%Y')\n",
    "\n",
    "bike_clean['member_gender'] = bike_clean['member_gender'].astype('category')\n",
    "\n",
    "bike_clean['bike_share_for_all_trip'] = bike_clean['bike_share_for_all_trip'].astype('category')"
   ]
  },
  {
   "cell_type": "code",
   "execution_count": 204,
   "metadata": {},
   "outputs": [
    {
     "name": "stdout",
     "output_type": "stream",
     "text": [
      "<class 'pandas.core.frame.DataFrame'>\n",
      "Int64Index: 183215 entries, 0 to 183411\n",
      "Data columns (total 12 columns):\n",
      " #   Column                   Non-Null Count   Dtype         \n",
      "---  ------                   --------------   -----         \n",
      " 0   duration_sec             183215 non-null  int64         \n",
      " 1   start_time               183215 non-null  datetime64[ns]\n",
      " 2   end_time                 183215 non-null  datetime64[ns]\n",
      " 3   start_station_id         183215 non-null  int32         \n",
      " 4   start_station_name       183215 non-null  object        \n",
      " 5   end_station_id           183215 non-null  int32         \n",
      " 6   end_station_name         183215 non-null  object        \n",
      " 7   bike_id                  183215 non-null  int64         \n",
      " 8   user_type                183215 non-null  category      \n",
      " 9   member_birth_year        183215 non-null  datetime64[ns]\n",
      " 10  member_gender            183215 non-null  category      \n",
      " 11  bike_share_for_all_trip  183215 non-null  category      \n",
      "dtypes: category(3), datetime64[ns](3), int32(2), int64(2), object(2)\n",
      "memory usage: 13.1+ MB\n"
     ]
    }
   ],
   "source": [
    "bike_clean.info()"
   ]
  },
  {
   "cell_type": "markdown",
   "metadata": {},
   "source": [
    "### Feature Engineering"
   ]
  },
  {
   "cell_type": "code",
   "execution_count": 205,
   "metadata": {},
   "outputs": [
    {
     "data": {
      "text/html": [
       "<div>\n",
       "<style scoped>\n",
       "    .dataframe tbody tr th:only-of-type {\n",
       "        vertical-align: middle;\n",
       "    }\n",
       "\n",
       "    .dataframe tbody tr th {\n",
       "        vertical-align: top;\n",
       "    }\n",
       "\n",
       "    .dataframe thead th {\n",
       "        text-align: right;\n",
       "    }\n",
       "</style>\n",
       "<table border=\"1\" class=\"dataframe\">\n",
       "  <thead>\n",
       "    <tr style=\"text-align: right;\">\n",
       "      <th></th>\n",
       "      <th>duration_sec</th>\n",
       "      <th>start_time</th>\n",
       "      <th>end_time</th>\n",
       "      <th>start_station_id</th>\n",
       "      <th>start_station_name</th>\n",
       "      <th>end_station_id</th>\n",
       "      <th>end_station_name</th>\n",
       "      <th>bike_id</th>\n",
       "      <th>user_type</th>\n",
       "      <th>member_birth_year</th>\n",
       "      <th>member_gender</th>\n",
       "      <th>bike_share_for_all_trip</th>\n",
       "    </tr>\n",
       "  </thead>\n",
       "  <tbody>\n",
       "    <tr>\n",
       "      <th>0</th>\n",
       "      <td>52185</td>\n",
       "      <td>2019-02-28 17:32:10.145</td>\n",
       "      <td>2019-03-01 08:01:55.975</td>\n",
       "      <td>21</td>\n",
       "      <td>Montgomery St BART Station (Market St at 2nd St)</td>\n",
       "      <td>13</td>\n",
       "      <td>Commercial St at Montgomery St</td>\n",
       "      <td>4902</td>\n",
       "      <td>Customer</td>\n",
       "      <td>1984-01-01</td>\n",
       "      <td>Male</td>\n",
       "      <td>No</td>\n",
       "    </tr>\n",
       "    <tr>\n",
       "      <th>1</th>\n",
       "      <td>42521</td>\n",
       "      <td>2019-02-28 18:53:21.789</td>\n",
       "      <td>2019-03-01 06:42:03.056</td>\n",
       "      <td>23</td>\n",
       "      <td>The Embarcadero at Steuart St</td>\n",
       "      <td>81</td>\n",
       "      <td>Berry St at 4th St</td>\n",
       "      <td>2535</td>\n",
       "      <td>Customer</td>\n",
       "      <td>1988-01-01</td>\n",
       "      <td>Male</td>\n",
       "      <td>No</td>\n",
       "    </tr>\n",
       "    <tr>\n",
       "      <th>2</th>\n",
       "      <td>61854</td>\n",
       "      <td>2019-02-28 12:13:13.218</td>\n",
       "      <td>2019-03-01 05:24:08.146</td>\n",
       "      <td>86</td>\n",
       "      <td>Market St at Dolores St</td>\n",
       "      <td>3</td>\n",
       "      <td>Powell St BART Station (Market St at 4th St)</td>\n",
       "      <td>5905</td>\n",
       "      <td>Customer</td>\n",
       "      <td>1972-01-01</td>\n",
       "      <td>Male</td>\n",
       "      <td>No</td>\n",
       "    </tr>\n",
       "  </tbody>\n",
       "</table>\n",
       "</div>"
      ],
      "text/plain": [
       "   duration_sec              start_time                end_time  \\\n",
       "0         52185 2019-02-28 17:32:10.145 2019-03-01 08:01:55.975   \n",
       "1         42521 2019-02-28 18:53:21.789 2019-03-01 06:42:03.056   \n",
       "2         61854 2019-02-28 12:13:13.218 2019-03-01 05:24:08.146   \n",
       "\n",
       "   start_station_id                                start_station_name  \\\n",
       "0                21  Montgomery St BART Station (Market St at 2nd St)   \n",
       "1                23                     The Embarcadero at Steuart St   \n",
       "2                86                           Market St at Dolores St   \n",
       "\n",
       "   end_station_id                              end_station_name  bike_id  \\\n",
       "0              13                Commercial St at Montgomery St     4902   \n",
       "1              81                            Berry St at 4th St     2535   \n",
       "2               3  Powell St BART Station (Market St at 4th St)     5905   \n",
       "\n",
       "  user_type member_birth_year member_gender bike_share_for_all_trip  \n",
       "0  Customer        1984-01-01          Male                      No  \n",
       "1  Customer        1988-01-01          Male                      No  \n",
       "2  Customer        1972-01-01          Male                      No  "
      ]
     },
     "execution_count": 205,
     "metadata": {},
     "output_type": "execute_result"
    }
   ],
   "source": [
    "#view dataset\n",
    "\n",
    "bike_clean.head(3)"
   ]
  },
  {
   "cell_type": "markdown",
   "metadata": {},
   "source": [
    "> I'll be adding 6 new columns; \n",
    "* **age** column from the **member_birth_year** column \n",
    "* **age_group** from the newly created **age** column\n",
    "* **trip_day** from the **start_time** column  \n",
    "* **trip_month** from the **start_time** column  \n",
    "* **trip_time** from the **start_time** column  \n",
    "* **trip_week** from the **start_time** column"
   ]
  },
  {
   "cell_type": "code",
   "execution_count": 206,
   "metadata": {},
   "outputs": [],
   "source": [
    "#creating age column\n",
    "\n",
    "max_date = bike_clean['start_time'].max()\n",
    "\n",
    "bike_clean['age'] = (max_date - bike_clean['member_birth_year']).astype('<m8[Y]')\n",
    "bike_clean['age'] = bike_clean['age'].astype(int)"
   ]
  },
  {
   "cell_type": "code",
   "execution_count": 207,
   "metadata": {},
   "outputs": [],
   "source": [
    "#creating age_group column\n",
    "\n",
    "max_age = bike_clean['age'].max() + 1\n",
    "bins = [18, 30, 50, 70, 90, max_age]\n",
    "labels = ['18 - 30yrs', '31 - 50yrs', '51 - 70yrs', '71 - 90yrs', '90yrs+']\n",
    "\n",
    "bike_clean['age_group'] = pd.cut(bike_clean['age'], bins = bins, labels = labels, right = False)\n",
    "\n",
    "#change the data type to category\n",
    "\n",
    "bike_clean['age_group'] = bike_clean['age_group'].astype('category')"
   ]
  },
  {
   "cell_type": "code",
   "execution_count": 208,
   "metadata": {
    "scrolled": true
   },
   "outputs": [
    {
     "data": {
      "text/html": [
       "<div>\n",
       "<style scoped>\n",
       "    .dataframe tbody tr th:only-of-type {\n",
       "        vertical-align: middle;\n",
       "    }\n",
       "\n",
       "    .dataframe tbody tr th {\n",
       "        vertical-align: top;\n",
       "    }\n",
       "\n",
       "    .dataframe thead th {\n",
       "        text-align: right;\n",
       "    }\n",
       "</style>\n",
       "<table border=\"1\" class=\"dataframe\">\n",
       "  <thead>\n",
       "    <tr style=\"text-align: right;\">\n",
       "      <th></th>\n",
       "      <th>age</th>\n",
       "      <th>age_group</th>\n",
       "    </tr>\n",
       "  </thead>\n",
       "  <tbody>\n",
       "    <tr>\n",
       "      <th>150610</th>\n",
       "      <td>33</td>\n",
       "      <td>31 - 50yrs</td>\n",
       "    </tr>\n",
       "    <tr>\n",
       "      <th>158255</th>\n",
       "      <td>27</td>\n",
       "      <td>18 - 30yrs</td>\n",
       "    </tr>\n",
       "    <tr>\n",
       "      <th>76920</th>\n",
       "      <td>24</td>\n",
       "      <td>18 - 30yrs</td>\n",
       "    </tr>\n",
       "    <tr>\n",
       "      <th>63659</th>\n",
       "      <td>51</td>\n",
       "      <td>51 - 70yrs</td>\n",
       "    </tr>\n",
       "    <tr>\n",
       "      <th>163306</th>\n",
       "      <td>22</td>\n",
       "      <td>18 - 30yrs</td>\n",
       "    </tr>\n",
       "  </tbody>\n",
       "</table>\n",
       "</div>"
      ],
      "text/plain": [
       "        age   age_group\n",
       "150610   33  31 - 50yrs\n",
       "158255   27  18 - 30yrs\n",
       "76920    24  18 - 30yrs\n",
       "63659    51  51 - 70yrs\n",
       "163306   22  18 - 30yrs"
      ]
     },
     "execution_count": 208,
     "metadata": {},
     "output_type": "execute_result"
    }
   ],
   "source": [
    "#confirm change\n",
    "\n",
    "bike_clean[['age', 'age_group']].sample(5)"
   ]
  },
  {
   "cell_type": "code",
   "execution_count": 209,
   "metadata": {},
   "outputs": [],
   "source": [
    "#creating trip_day column\n",
    "\n",
    "bike_clean['trip_day'] = bike_clean['start_time'].dt.day_name()"
   ]
  },
  {
   "cell_type": "code",
   "execution_count": 210,
   "metadata": {},
   "outputs": [
    {
     "data": {
      "text/html": [
       "<div>\n",
       "<style scoped>\n",
       "    .dataframe tbody tr th:only-of-type {\n",
       "        vertical-align: middle;\n",
       "    }\n",
       "\n",
       "    .dataframe tbody tr th {\n",
       "        vertical-align: top;\n",
       "    }\n",
       "\n",
       "    .dataframe thead th {\n",
       "        text-align: right;\n",
       "    }\n",
       "</style>\n",
       "<table border=\"1\" class=\"dataframe\">\n",
       "  <thead>\n",
       "    <tr style=\"text-align: right;\">\n",
       "      <th></th>\n",
       "      <th>start_time</th>\n",
       "      <th>trip_day</th>\n",
       "    </tr>\n",
       "  </thead>\n",
       "  <tbody>\n",
       "    <tr>\n",
       "      <th>0</th>\n",
       "      <td>2019-02-28 17:32:10.145</td>\n",
       "      <td>Thursday</td>\n",
       "    </tr>\n",
       "    <tr>\n",
       "      <th>1</th>\n",
       "      <td>2019-02-28 18:53:21.789</td>\n",
       "      <td>Thursday</td>\n",
       "    </tr>\n",
       "    <tr>\n",
       "      <th>2</th>\n",
       "      <td>2019-02-28 12:13:13.218</td>\n",
       "      <td>Thursday</td>\n",
       "    </tr>\n",
       "  </tbody>\n",
       "</table>\n",
       "</div>"
      ],
      "text/plain": [
       "               start_time  trip_day\n",
       "0 2019-02-28 17:32:10.145  Thursday\n",
       "1 2019-02-28 18:53:21.789  Thursday\n",
       "2 2019-02-28 12:13:13.218  Thursday"
      ]
     },
     "execution_count": 210,
     "metadata": {},
     "output_type": "execute_result"
    }
   ],
   "source": [
    "#confirm change\n",
    "\n",
    "bike_clean[['start_time', 'trip_day']].head(3)"
   ]
  },
  {
   "cell_type": "code",
   "execution_count": 211,
   "metadata": {},
   "outputs": [],
   "source": [
    "#creating trip_month column\n",
    "\n",
    "bike_clean['trip_month'] = bike_clean['start_time'].dt.month_name()"
   ]
  },
  {
   "cell_type": "code",
   "execution_count": 212,
   "metadata": {},
   "outputs": [
    {
     "data": {
      "text/html": [
       "<div>\n",
       "<style scoped>\n",
       "    .dataframe tbody tr th:only-of-type {\n",
       "        vertical-align: middle;\n",
       "    }\n",
       "\n",
       "    .dataframe tbody tr th {\n",
       "        vertical-align: top;\n",
       "    }\n",
       "\n",
       "    .dataframe thead th {\n",
       "        text-align: right;\n",
       "    }\n",
       "</style>\n",
       "<table border=\"1\" class=\"dataframe\">\n",
       "  <thead>\n",
       "    <tr style=\"text-align: right;\">\n",
       "      <th></th>\n",
       "      <th>start_time</th>\n",
       "      <th>trip_month</th>\n",
       "    </tr>\n",
       "  </thead>\n",
       "  <tbody>\n",
       "    <tr>\n",
       "      <th>0</th>\n",
       "      <td>2019-02-28 17:32:10.145</td>\n",
       "      <td>February</td>\n",
       "    </tr>\n",
       "    <tr>\n",
       "      <th>1</th>\n",
       "      <td>2019-02-28 18:53:21.789</td>\n",
       "      <td>February</td>\n",
       "    </tr>\n",
       "    <tr>\n",
       "      <th>2</th>\n",
       "      <td>2019-02-28 12:13:13.218</td>\n",
       "      <td>February</td>\n",
       "    </tr>\n",
       "  </tbody>\n",
       "</table>\n",
       "</div>"
      ],
      "text/plain": [
       "               start_time trip_month\n",
       "0 2019-02-28 17:32:10.145   February\n",
       "1 2019-02-28 18:53:21.789   February\n",
       "2 2019-02-28 12:13:13.218   February"
      ]
     },
     "execution_count": 212,
     "metadata": {},
     "output_type": "execute_result"
    }
   ],
   "source": [
    "#confirm change\n",
    "\n",
    "bike_clean[['start_time', 'trip_month']].head(3)"
   ]
  },
  {
   "cell_type": "code",
   "execution_count": 213,
   "metadata": {},
   "outputs": [],
   "source": [
    "#creating trip_time column\n",
    "\n",
    "bike_clean['trip_time'] = bike_clean['start_time'].dt.strftime(\"%I%p\")"
   ]
  },
  {
   "cell_type": "code",
   "execution_count": 214,
   "metadata": {
    "scrolled": false
   },
   "outputs": [
    {
     "data": {
      "text/html": [
       "<div>\n",
       "<style scoped>\n",
       "    .dataframe tbody tr th:only-of-type {\n",
       "        vertical-align: middle;\n",
       "    }\n",
       "\n",
       "    .dataframe tbody tr th {\n",
       "        vertical-align: top;\n",
       "    }\n",
       "\n",
       "    .dataframe thead th {\n",
       "        text-align: right;\n",
       "    }\n",
       "</style>\n",
       "<table border=\"1\" class=\"dataframe\">\n",
       "  <thead>\n",
       "    <tr style=\"text-align: right;\">\n",
       "      <th></th>\n",
       "      <th>start_time</th>\n",
       "      <th>trip_time</th>\n",
       "    </tr>\n",
       "  </thead>\n",
       "  <tbody>\n",
       "    <tr>\n",
       "      <th>0</th>\n",
       "      <td>2019-02-28 17:32:10.145</td>\n",
       "      <td>05PM</td>\n",
       "    </tr>\n",
       "    <tr>\n",
       "      <th>1</th>\n",
       "      <td>2019-02-28 18:53:21.789</td>\n",
       "      <td>06PM</td>\n",
       "    </tr>\n",
       "    <tr>\n",
       "      <th>2</th>\n",
       "      <td>2019-02-28 12:13:13.218</td>\n",
       "      <td>12PM</td>\n",
       "    </tr>\n",
       "  </tbody>\n",
       "</table>\n",
       "</div>"
      ],
      "text/plain": [
       "               start_time trip_time\n",
       "0 2019-02-28 17:32:10.145      05PM\n",
       "1 2019-02-28 18:53:21.789      06PM\n",
       "2 2019-02-28 12:13:13.218      12PM"
      ]
     },
     "execution_count": 214,
     "metadata": {},
     "output_type": "execute_result"
    }
   ],
   "source": [
    "#confirm change\n",
    "\n",
    "bike_clean[['start_time', 'trip_time']].head(3)"
   ]
  },
  {
   "cell_type": "code",
   "execution_count": 215,
   "metadata": {},
   "outputs": [],
   "source": [
    "#creating trip_week column\n",
    "\n",
    "bike_clean[\"trip_week\"] = \"Week \" + ((bike_clean[\"start_time\"].dt.day // 7) + 1).astype(str)"
   ]
  },
  {
   "cell_type": "code",
   "execution_count": 216,
   "metadata": {},
   "outputs": [
    {
     "data": {
      "text/html": [
       "<div>\n",
       "<style scoped>\n",
       "    .dataframe tbody tr th:only-of-type {\n",
       "        vertical-align: middle;\n",
       "    }\n",
       "\n",
       "    .dataframe tbody tr th {\n",
       "        vertical-align: top;\n",
       "    }\n",
       "\n",
       "    .dataframe thead th {\n",
       "        text-align: right;\n",
       "    }\n",
       "</style>\n",
       "<table border=\"1\" class=\"dataframe\">\n",
       "  <thead>\n",
       "    <tr style=\"text-align: right;\">\n",
       "      <th></th>\n",
       "      <th>start_time</th>\n",
       "      <th>trip_week</th>\n",
       "    </tr>\n",
       "  </thead>\n",
       "  <tbody>\n",
       "    <tr>\n",
       "      <th>0</th>\n",
       "      <td>2019-02-28 17:32:10.145</td>\n",
       "      <td>Week 5</td>\n",
       "    </tr>\n",
       "    <tr>\n",
       "      <th>1</th>\n",
       "      <td>2019-02-28 18:53:21.789</td>\n",
       "      <td>Week 5</td>\n",
       "    </tr>\n",
       "    <tr>\n",
       "      <th>2</th>\n",
       "      <td>2019-02-28 12:13:13.218</td>\n",
       "      <td>Week 5</td>\n",
       "    </tr>\n",
       "  </tbody>\n",
       "</table>\n",
       "</div>"
      ],
      "text/plain": [
       "               start_time trip_week\n",
       "0 2019-02-28 17:32:10.145    Week 5\n",
       "1 2019-02-28 18:53:21.789    Week 5\n",
       "2 2019-02-28 12:13:13.218    Week 5"
      ]
     },
     "execution_count": 216,
     "metadata": {},
     "output_type": "execute_result"
    }
   ],
   "source": [
    "#confirm change\n",
    "\n",
    "bike_clean[['start_time', 'trip_week']].head(3)"
   ]
  },
  {
   "cell_type": "code",
   "execution_count": 217,
   "metadata": {},
   "outputs": [
    {
     "data": {
      "text/html": [
       "<div>\n",
       "<style scoped>\n",
       "    .dataframe tbody tr th:only-of-type {\n",
       "        vertical-align: middle;\n",
       "    }\n",
       "\n",
       "    .dataframe tbody tr th {\n",
       "        vertical-align: top;\n",
       "    }\n",
       "\n",
       "    .dataframe thead th {\n",
       "        text-align: right;\n",
       "    }\n",
       "</style>\n",
       "<table border=\"1\" class=\"dataframe\">\n",
       "  <thead>\n",
       "    <tr style=\"text-align: right;\">\n",
       "      <th></th>\n",
       "      <th>count</th>\n",
       "      <th>mean</th>\n",
       "      <th>std</th>\n",
       "      <th>min</th>\n",
       "      <th>25%</th>\n",
       "      <th>50%</th>\n",
       "      <th>75%</th>\n",
       "      <th>max</th>\n",
       "    </tr>\n",
       "  </thead>\n",
       "  <tbody>\n",
       "    <tr>\n",
       "      <th>duration_sec</th>\n",
       "      <td>183215.0</td>\n",
       "      <td>725.902017</td>\n",
       "      <td>1795.078654</td>\n",
       "      <td>61.0</td>\n",
       "      <td>325.0</td>\n",
       "      <td>514.0</td>\n",
       "      <td>796.0</td>\n",
       "      <td>85444.0</td>\n",
       "    </tr>\n",
       "    <tr>\n",
       "      <th>start_station_id</th>\n",
       "      <td>183215.0</td>\n",
       "      <td>138.590427</td>\n",
       "      <td>111.778864</td>\n",
       "      <td>3.0</td>\n",
       "      <td>47.0</td>\n",
       "      <td>104.0</td>\n",
       "      <td>239.0</td>\n",
       "      <td>398.0</td>\n",
       "    </tr>\n",
       "    <tr>\n",
       "      <th>end_station_id</th>\n",
       "      <td>183215.0</td>\n",
       "      <td>136.249123</td>\n",
       "      <td>111.515131</td>\n",
       "      <td>3.0</td>\n",
       "      <td>44.0</td>\n",
       "      <td>100.0</td>\n",
       "      <td>235.0</td>\n",
       "      <td>398.0</td>\n",
       "    </tr>\n",
       "    <tr>\n",
       "      <th>bike_id</th>\n",
       "      <td>183215.0</td>\n",
       "      <td>4473.218792</td>\n",
       "      <td>1665.249372</td>\n",
       "      <td>11.0</td>\n",
       "      <td>3777.0</td>\n",
       "      <td>4958.0</td>\n",
       "      <td>5503.0</td>\n",
       "      <td>6645.0</td>\n",
       "    </tr>\n",
       "    <tr>\n",
       "      <th>age</th>\n",
       "      <td>183215.0</td>\n",
       "      <td>34.052687</td>\n",
       "      <td>9.910151</td>\n",
       "      <td>18.0</td>\n",
       "      <td>27.0</td>\n",
       "      <td>31.0</td>\n",
       "      <td>38.0</td>\n",
       "      <td>141.0</td>\n",
       "    </tr>\n",
       "  </tbody>\n",
       "</table>\n",
       "</div>"
      ],
      "text/plain": [
       "                     count         mean          std   min     25%     50%  \\\n",
       "duration_sec      183215.0   725.902017  1795.078654  61.0   325.0   514.0   \n",
       "start_station_id  183215.0   138.590427   111.778864   3.0    47.0   104.0   \n",
       "end_station_id    183215.0   136.249123   111.515131   3.0    44.0   100.0   \n",
       "bike_id           183215.0  4473.218792  1665.249372  11.0  3777.0  4958.0   \n",
       "age               183215.0    34.052687     9.910151  18.0    27.0    31.0   \n",
       "\n",
       "                     75%      max  \n",
       "duration_sec       796.0  85444.0  \n",
       "start_station_id   239.0    398.0  \n",
       "end_station_id     235.0    398.0  \n",
       "bike_id           5503.0   6645.0  \n",
       "age                 38.0    141.0  "
      ]
     },
     "execution_count": 217,
     "metadata": {},
     "output_type": "execute_result"
    }
   ],
   "source": [
    "#check basic statistics of the numerical columns in the dataset\n",
    "\n",
    "bike_clean.describe().transpose()"
   ]
  },
  {
   "cell_type": "code",
   "execution_count": 218,
   "metadata": {},
   "outputs": [
    {
     "name": "stdout",
     "output_type": "stream",
     "text": [
      "<class 'pandas.core.frame.DataFrame'>\n",
      "Int64Index: 183215 entries, 0 to 183411\n",
      "Data columns (total 18 columns):\n",
      " #   Column                   Non-Null Count   Dtype         \n",
      "---  ------                   --------------   -----         \n",
      " 0   duration_sec             183215 non-null  int64         \n",
      " 1   start_time               183215 non-null  datetime64[ns]\n",
      " 2   end_time                 183215 non-null  datetime64[ns]\n",
      " 3   start_station_id         183215 non-null  int32         \n",
      " 4   start_station_name       183215 non-null  object        \n",
      " 5   end_station_id           183215 non-null  int32         \n",
      " 6   end_station_name         183215 non-null  object        \n",
      " 7   bike_id                  183215 non-null  int64         \n",
      " 8   user_type                183215 non-null  category      \n",
      " 9   member_birth_year        183215 non-null  datetime64[ns]\n",
      " 10  member_gender            183215 non-null  category      \n",
      " 11  bike_share_for_all_trip  183215 non-null  category      \n",
      " 12  age                      183215 non-null  int32         \n",
      " 13  age_group                183215 non-null  category      \n",
      " 14  trip_day                 183215 non-null  object        \n",
      " 15  trip_month               183215 non-null  object        \n",
      " 16  trip_time                183215 non-null  object        \n",
      " 17  trip_week                183215 non-null  object        \n",
      "dtypes: category(4), datetime64[ns](3), int32(3), int64(2), object(6)\n",
      "memory usage: 19.6+ MB\n"
     ]
    }
   ],
   "source": [
    "#check data types of all columns\n",
    "\n",
    "bike_clean.info()"
   ]
  },
  {
   "cell_type": "code",
   "execution_count": 219,
   "metadata": {},
   "outputs": [
    {
     "data": {
      "text/plain": [
       "(183215, 18)"
      ]
     },
     "execution_count": 219,
     "metadata": {},
     "output_type": "execute_result"
    }
   ],
   "source": [
    "#check dimension after cleaning\n",
    "\n",
    "bike_clean.shape"
   ]
  },
  {
   "cell_type": "markdown",
   "metadata": {},
   "source": [
    "##### Saving a copy of the cleaned data"
   ]
  },
  {
   "cell_type": "code",
   "execution_count": 220,
   "metadata": {},
   "outputs": [],
   "source": [
    "#svae cleaned data\n",
    "\n",
    "bike_clean.to_csv('bike_clean.csv', index = False)"
   ]
  },
  {
   "cell_type": "markdown",
   "metadata": {},
   "source": [
    "### What is the structure of your dataset?\n",
    "\n",
    "> The original dataset has **183412** rows/observations & **16** columns/variables but after cleaning we now have:  \n",
    "* **183215** rows/observations & **18** columns/variables\n",
    "\n",
    "### What is/are the main feature(s) of interest in your dataset?\n",
    "\n",
    "* **duration_sec**\n",
    "* **user_type**\n",
    "* **age**\n",
    "\n",
    "### What features in the dataset do you think will help support your investigation into your feature(s) of interest?\n",
    "\n",
    "* **start_time**\n",
    "* **end_time**\n",
    "* **member_gender**\n",
    "* **age_group**\n",
    "* **bike_share_for_all_trip**\n",
    "* **trip_day**\n",
    "* **trip_month**\n",
    "* **trip_time**"
   ]
  },
  {
   "cell_type": "markdown",
   "metadata": {},
   "source": [
    "### Questions"
   ]
  },
  {
   "cell_type": "markdown",
   "metadata": {},
   "source": [
    "* When are most trips taken in terms of time of day & day of the week?\n",
    "\n",
    "* How long does the average trip take & Does it depend on if a user is a subscriber or customer?\n",
    "\n",
    "* Does a particular age group take more trips?\n",
    "\n",
    "* Does a particular age group subscribe more?\n",
    "\n",
    "* Is there a particular time an age group take trips?\n",
    "\n",
    "* Do trips taken in a particular time of day last longer?\n",
    "\n",
    "* Does a particular gender take more trips?\n",
    "\n",
    "* Does a particular gender subscribe more than the other?\n",
    "\n",
    "* Is there a relationship between **trip_time** and duration of trips?\n",
    "\n",
    "* Does **age** affect the duration of trips?\n",
    "\n",
    "* Does **gender** affect the trip duration?\n",
    "\n",
    "* What is the trend of trips over the weeks for: **user_type**, **member_gender** & **age_group**?"
   ]
  },
  {
   "cell_type": "markdown",
   "metadata": {},
   "source": [
    "##### Final Cleaned data"
   ]
  },
  {
   "cell_type": "code",
   "execution_count": 221,
   "metadata": {},
   "outputs": [
    {
     "data": {
      "text/html": [
       "<div>\n",
       "<style scoped>\n",
       "    .dataframe tbody tr th:only-of-type {\n",
       "        vertical-align: middle;\n",
       "    }\n",
       "\n",
       "    .dataframe tbody tr th {\n",
       "        vertical-align: top;\n",
       "    }\n",
       "\n",
       "    .dataframe thead th {\n",
       "        text-align: right;\n",
       "    }\n",
       "</style>\n",
       "<table border=\"1\" class=\"dataframe\">\n",
       "  <thead>\n",
       "    <tr style=\"text-align: right;\">\n",
       "      <th></th>\n",
       "      <th>duration_sec</th>\n",
       "      <th>start_time</th>\n",
       "      <th>end_time</th>\n",
       "      <th>start_station_id</th>\n",
       "      <th>start_station_name</th>\n",
       "      <th>end_station_id</th>\n",
       "      <th>end_station_name</th>\n",
       "      <th>bike_id</th>\n",
       "      <th>user_type</th>\n",
       "      <th>member_birth_year</th>\n",
       "      <th>member_gender</th>\n",
       "      <th>bike_share_for_all_trip</th>\n",
       "      <th>age</th>\n",
       "      <th>age_group</th>\n",
       "      <th>trip_day</th>\n",
       "      <th>trip_month</th>\n",
       "      <th>trip_time</th>\n",
       "      <th>trip_week</th>\n",
       "    </tr>\n",
       "  </thead>\n",
       "  <tbody>\n",
       "    <tr>\n",
       "      <th>0</th>\n",
       "      <td>52185</td>\n",
       "      <td>2019-02-28 17:32:10.145</td>\n",
       "      <td>2019-03-01 08:01:55.975</td>\n",
       "      <td>21</td>\n",
       "      <td>Montgomery St BART Station (Market St at 2nd St)</td>\n",
       "      <td>13</td>\n",
       "      <td>Commercial St at Montgomery St</td>\n",
       "      <td>4902</td>\n",
       "      <td>Customer</td>\n",
       "      <td>1984-01-01</td>\n",
       "      <td>Male</td>\n",
       "      <td>No</td>\n",
       "      <td>35</td>\n",
       "      <td>31 - 50yrs</td>\n",
       "      <td>Thursday</td>\n",
       "      <td>February</td>\n",
       "      <td>05PM</td>\n",
       "      <td>Week 5</td>\n",
       "    </tr>\n",
       "    <tr>\n",
       "      <th>1</th>\n",
       "      <td>42521</td>\n",
       "      <td>2019-02-28 18:53:21.789</td>\n",
       "      <td>2019-03-01 06:42:03.056</td>\n",
       "      <td>23</td>\n",
       "      <td>The Embarcadero at Steuart St</td>\n",
       "      <td>81</td>\n",
       "      <td>Berry St at 4th St</td>\n",
       "      <td>2535</td>\n",
       "      <td>Customer</td>\n",
       "      <td>1988-01-01</td>\n",
       "      <td>Male</td>\n",
       "      <td>No</td>\n",
       "      <td>31</td>\n",
       "      <td>31 - 50yrs</td>\n",
       "      <td>Thursday</td>\n",
       "      <td>February</td>\n",
       "      <td>06PM</td>\n",
       "      <td>Week 5</td>\n",
       "    </tr>\n",
       "    <tr>\n",
       "      <th>2</th>\n",
       "      <td>61854</td>\n",
       "      <td>2019-02-28 12:13:13.218</td>\n",
       "      <td>2019-03-01 05:24:08.146</td>\n",
       "      <td>86</td>\n",
       "      <td>Market St at Dolores St</td>\n",
       "      <td>3</td>\n",
       "      <td>Powell St BART Station (Market St at 4th St)</td>\n",
       "      <td>5905</td>\n",
       "      <td>Customer</td>\n",
       "      <td>1972-01-01</td>\n",
       "      <td>Male</td>\n",
       "      <td>No</td>\n",
       "      <td>47</td>\n",
       "      <td>31 - 50yrs</td>\n",
       "      <td>Thursday</td>\n",
       "      <td>February</td>\n",
       "      <td>12PM</td>\n",
       "      <td>Week 5</td>\n",
       "    </tr>\n",
       "  </tbody>\n",
       "</table>\n",
       "</div>"
      ],
      "text/plain": [
       "   duration_sec              start_time                end_time  \\\n",
       "0         52185 2019-02-28 17:32:10.145 2019-03-01 08:01:55.975   \n",
       "1         42521 2019-02-28 18:53:21.789 2019-03-01 06:42:03.056   \n",
       "2         61854 2019-02-28 12:13:13.218 2019-03-01 05:24:08.146   \n",
       "\n",
       "   start_station_id                                start_station_name  \\\n",
       "0                21  Montgomery St BART Station (Market St at 2nd St)   \n",
       "1                23                     The Embarcadero at Steuart St   \n",
       "2                86                           Market St at Dolores St   \n",
       "\n",
       "   end_station_id                              end_station_name  bike_id  \\\n",
       "0              13                Commercial St at Montgomery St     4902   \n",
       "1              81                            Berry St at 4th St     2535   \n",
       "2               3  Powell St BART Station (Market St at 4th St)     5905   \n",
       "\n",
       "  user_type member_birth_year member_gender bike_share_for_all_trip  age  \\\n",
       "0  Customer        1984-01-01          Male                      No   35   \n",
       "1  Customer        1988-01-01          Male                      No   31   \n",
       "2  Customer        1972-01-01          Male                      No   47   \n",
       "\n",
       "    age_group  trip_day trip_month trip_time trip_week  \n",
       "0  31 - 50yrs  Thursday   February      05PM    Week 5  \n",
       "1  31 - 50yrs  Thursday   February      06PM    Week 5  \n",
       "2  31 - 50yrs  Thursday   February      12PM    Week 5  "
      ]
     },
     "execution_count": 221,
     "metadata": {},
     "output_type": "execute_result"
    }
   ],
   "source": [
    "#view final cleaned dataset\n",
    "\n",
    "bike_clean.head(3)"
   ]
  },
  {
   "cell_type": "markdown",
   "metadata": {},
   "source": [
    "## Univariate Exploration\n",
    "\n",
    "> In this section, I investigated distributions of individual variables. To see if there is any unusual points or outliers, and also take a deeper look to clean things up where neccesary."
   ]
  },
  {
   "cell_type": "markdown",
   "metadata": {},
   "source": [
    "##### When are most trips taken in terms of time of day & day of the week?"
   ]
  },
  {
   "cell_type": "code",
   "execution_count": 222,
   "metadata": {},
   "outputs": [],
   "source": [
    "#function for count bar plot\n",
    "\n",
    "def bar_plot(data, col_name, title):\n",
    "    plt.figure(figsize = (14, 5))\n",
    "    sns.countplot(data = data, x = col_name, color = 'blue')\n",
    "    plt.title(title)\n",
    "    plt.xticks(rotation = 15)"
   ]
  },
  {
   "cell_type": "code",
   "execution_count": 223,
   "metadata": {},
   "outputs": [],
   "source": [
    "#convert the ordinal data to proper order for charts\n",
    "\n",
    "ordinal_variables = {'trip_time': ['12AM', '01AM', '02AM', '03AM', '04AM', '05AM', '06AM', '07AM',\n",
    "                                   '08AM', '09AM', '10AM', '11AM', '12PM', '01PM', '02PM', '03PM',\n",
    "                                   '04PM', '05PM', '06PM', '07PM', '08PM', '09PM', '10PM', '11PM'],\n",
    "                    'trip_day': ['Sunday', 'Monday', 'Tuesday', 'Wednesday','Thursday', 'Friday', \n",
    "                                 'Saturday']}\n",
    "for i in ordinal_variables:\n",
    "    ordered_variable = pd.api.types.CategoricalDtype(categories = ordinal_variables[i], ordered = True)\n",
    "    bike_clean[i] = bike_clean[i].astype(ordered_variable)"
   ]
  },
  {
   "cell_type": "code",
   "execution_count": 224,
   "metadata": {},
   "outputs": [
    {
     "data": {
      "image/png": "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",
      "text/plain": [
       "<Figure size 1008x360 with 1 Axes>"
      ]
     },
     "metadata": {
      "needs_background": "light"
     },
     "output_type": "display_data"
    }
   ],
   "source": [
    "#bar chart showing count of the time of day trips are taken \n",
    "\n",
    "bar_plot(bike_clean, 'trip_time', 'Trips Taken by Time')"
   ]
  },
  {
   "cell_type": "markdown",
   "metadata": {},
   "source": [
    ">Most trips are taken **5PM** and **8AM** as we can see from the chat above"
   ]
  },
  {
   "cell_type": "code",
   "execution_count": 225,
   "metadata": {},
   "outputs": [
    {
     "data": {
      "image/png": "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",
      "text/plain": [
       "<Figure size 1008x360 with 1 Axes>"
      ]
     },
     "metadata": {
      "needs_background": "light"
     },
     "output_type": "display_data"
    }
   ],
   "source": [
    "#bar chart showing count of the day of week most trips are taken \n",
    "\n",
    "bar_plot(bike_clean, 'trip_day', 'Trips Taken by Day of week')"
   ]
  },
  {
   "cell_type": "markdown",
   "metadata": {},
   "source": [
    "> **Thursday** & **Tuesday** came out as the days when most trips are taken from the above chart"
   ]
  },
  {
   "cell_type": "markdown",
   "metadata": {},
   "source": [
    "##### Does subscribers take more trip?"
   ]
  },
  {
   "cell_type": "code",
   "execution_count": 226,
   "metadata": {},
   "outputs": [
    {
     "data": {
      "image/png": "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",
      "text/plain": [
       "<Figure size 1008x360 with 1 Axes>"
      ]
     },
     "metadata": {
      "needs_background": "light"
     },
     "output_type": "display_data"
    }
   ],
   "source": [
    "#bar chart showing count of trips taken by subscribers/customers\n",
    "\n",
    "bar_plot(bike_clean, 'user_type', 'Trips Taken by User Type')"
   ]
  },
  {
   "cell_type": "code",
   "execution_count": 227,
   "metadata": {},
   "outputs": [],
   "source": [
    "#function for value_counts pie chart\n",
    "\n",
    "def pie_plot(data, col_name, title):\n",
    "   data[col_name].value_counts().plot.pie(figsize = (5, 5))\n",
    "   plt.title(title)"
   ]
  },
  {
   "cell_type": "code",
   "execution_count": 228,
   "metadata": {
    "scrolled": true
   },
   "outputs": [
    {
     "data": {
      "image/png": "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",
      "text/plain": [
       "<Figure size 360x360 with 1 Axes>"
      ]
     },
     "metadata": {},
     "output_type": "display_data"
    }
   ],
   "source": [
    "#pie chart showing proportion of trips by subscribers & customers\n",
    "\n",
    "pie_plot(bike_clean, 'user_type', 'Proportion of Trips by User Type')"
   ]
  },
  {
   "cell_type": "markdown",
   "metadata": {},
   "source": [
    "> **Subscribers** are clearly taken the most trips as compared to Cusromers"
   ]
  },
  {
   "cell_type": "markdown",
   "metadata": {},
   "source": [
    "##### What is the distribution of the trip durations like?"
   ]
  },
  {
   "cell_type": "code",
   "execution_count": 229,
   "metadata": {
    "scrolled": false
   },
   "outputs": [
    {
     "data": {
      "image/png": "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",
      "text/plain": [
       "<Figure size 576x576 with 1 Axes>"
      ]
     },
     "metadata": {
      "needs_background": "light"
     },
     "output_type": "display_data"
    }
   ],
   "source": [
    "#histogram with distribution of trip duration\n",
    "\n",
    "min_sec = bike_clean['duration_sec'].min()\n",
    "bins = np.arange(min_sec, 3000, 20)\n",
    "\n",
    "bike_clean['duration_sec'].plot.hist(bins = bins, figsize = (8, 8))\n",
    "plt.title('Distribution of trip Durations')\n",
    "plt.xscale('log');"
   ]
  },
  {
   "cell_type": "code",
   "execution_count": 230,
   "metadata": {
    "scrolled": false
   },
   "outputs": [
    {
     "data": {
      "image/png": "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",
      "text/plain": [
       "<Figure size 576x576 with 1 Axes>"
      ]
     },
     "metadata": {
      "needs_background": "light"
     },
     "output_type": "display_data"
    }
   ],
   "source": [
    "#box plot of the duration of trips to show outliers\n",
    "\n",
    "bike_clean['duration_sec'].plot.box(figsize = (8, 8))\n",
    "plt.yscale('log');"
   ]
  },
  {
   "cell_type": "markdown",
   "metadata": {},
   "source": [
    "> We can see a normal distributionwith quite a lot of outliers after using log transformation on the **duration_sec** data"
   ]
  },
  {
   "cell_type": "markdown",
   "metadata": {},
   "source": [
    "##### What is the Distribution of Age like?"
   ]
  },
  {
   "cell_type": "code",
   "execution_count": 231,
   "metadata": {
    "scrolled": false
   },
   "outputs": [
    {
     "data": {
      "image/png": "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",
      "text/plain": [
       "<Figure size 576x576 with 1 Axes>"
      ]
     },
     "metadata": {
      "needs_background": "light"
     },
     "output_type": "display_data"
    }
   ],
   "source": [
    "#age distribution chart\n",
    "\n",
    "min_age = bike_clean['age'].min()\n",
    "max_age = bike_clean['age'].max()\n",
    "bins = np.arange(min_age, max_age + 5, 5)\n",
    "bike_clean['age'].plot.hist(bins = bins, figsize = (8, 8))\n",
    "plt.title('Age Distribution');"
   ]
  },
  {
   "cell_type": "code",
   "execution_count": 232,
   "metadata": {},
   "outputs": [
    {
     "data": {
      "image/png": "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",
      "text/plain": [
       "<Figure size 576x576 with 1 Axes>"
      ]
     },
     "metadata": {
      "needs_background": "light"
     },
     "output_type": "display_data"
    }
   ],
   "source": [
    "#box plot for age distribution\n",
    "\n",
    "bike_clean['age'].plot.box(figsize = (8, 8))\n",
    "plt.title('Age Distribution Box plot');"
   ]
  },
  {
   "cell_type": "markdown",
   "metadata": {},
   "source": [
    "> We can see that the distribution is rightly skewed with most of the age falling in between **20 - 50** years bucket and a few outliers"
   ]
  },
  {
   "cell_type": "code",
   "execution_count": null,
   "metadata": {},
   "outputs": [],
   "source": []
  },
  {
   "cell_type": "markdown",
   "metadata": {},
   "source": [
    "##### Does a particular gender take more trips?"
   ]
  },
  {
   "cell_type": "code",
   "execution_count": 233,
   "metadata": {},
   "outputs": [
    {
     "data": {
      "image/png": "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",
      "text/plain": [
       "<Figure size 1008x360 with 1 Axes>"
      ]
     },
     "metadata": {
      "needs_background": "light"
     },
     "output_type": "display_data"
    }
   ],
   "source": [
    "#bar chart showing count of trips taken by each gender type\n",
    "\n",
    "bar_plot(bike_clean, 'member_gender', 'Trips Taken by Gender')"
   ]
  },
  {
   "cell_type": "code",
   "execution_count": 234,
   "metadata": {
    "scrolled": true
   },
   "outputs": [
    {
     "data": {
      "image/png": "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",
      "text/plain": [
       "<Figure size 360x360 with 1 Axes>"
      ]
     },
     "metadata": {},
     "output_type": "display_data"
    }
   ],
   "source": [
    "#pie chart showing proportion of trips by gender type\n",
    "\n",
    "pie_plot(bike_clean, 'member_gender', 'Proportion of Trips by Gender')"
   ]
  },
  {
   "cell_type": "markdown",
   "metadata": {},
   "source": [
    "> **Male** are taking more trips than the other gender types in the dataset"
   ]
  },
  {
   "cell_type": "markdown",
   "metadata": {},
   "source": [
    "##### Does a particular age group take more trips?"
   ]
  },
  {
   "cell_type": "code",
   "execution_count": 235,
   "metadata": {
    "scrolled": false
   },
   "outputs": [
    {
     "data": {
      "image/png": "iVBORw0KGgoAAAANSUhEUgAAA1YAAAFZCAYAAACblb6XAAAAOXRFWHRTb2Z0d2FyZQBNYXRwbG90bGliIHZlcnNpb24zLjQuMywgaHR0cHM6Ly9tYXRwbG90bGliLm9yZy/MnkTPAAAACXBIWXMAAAsTAAALEwEAmpwYAAAqYElEQVR4nO3deZilVX3u/e8NjYAic4PQjXarOIBHTWgBh6MmqOAQMQa0PSKoCNEXxZjkGDDvCWiCkdfEARXeYJDJAQiooCdGCQaNimCDKAIS+tAMLVMryChow+/88ayC3UV1U81TVZuq+n6ua1+193qGvZ6qVVX73mvYqSokSZIkSY/cOsOugCRJkiRNdwYrSZIkSerJYCVJkiRJPRmsJEmSJKkng5UkSZIk9WSwkiRJkqSeDFaSpIeV5IQkfzek506S45PcmuSCnuf6RpL9Jqpu7ZyHJ/n8RJ5TkjT9GKwkaRpKcnWSm5I8bqDsHUnOHWK1JsuLgJcD86tq58ENST6Q5M52uyfJfQOPLx19oqp6ZVWdOFUVf6SSnNuC5PqT/DwvT/IfSe5I8qskFyf5qyQbTObzStJMZLCSpOlrDvDeYVdibSVZdy0PeRJwdVXdNXpDVX24qjaqqo2AdwLnjTyuqh0HnjNJpsX/vCQLgP8OFPDaSXyevYHTgS8CT6qqLYA3AvOB7VZzzJzJqo8kTXfT4p+MJGlMHwX+MsmmozckWZCkBl8It16Qd7T7b03y/SQfT/LrJFcleUErvy7JzWMMmdsyydmtd+M7SZ40cO5ntG23JLkiyRsGtp2Q5Jgk/5rkLuAPxqjvtknOascvTXJAK98f+Gfg+a0X6oPj/ea06z0iyfeBu4Enr+Z78KkktyX5eZLdBo5/a/u+3JFkWZI3r+HpNkhyatv3oiTPaef4n0nOGFWvTyX5xBrOtS/wQ+AEYJWfQZItknwtye1JfpTk75J8b2D7an8Oo84T4GPAh6rqs1V1C0BVXVFV76mqK9t+hyc5Pcnnk9wOvHV1P6u2/ypDRpO8NMnygcdXJzk0yWWtR+54e8ckzRQGK0mavpYA5wJ/+QiP3wX4KbAFXa/FKcDzgKcC+wCfTrLRwP5vBv4W2BK4GPgCQBuOeHY7x1bAm4Cjk+w4cOz/AI4AHg98j4f6ErAc2BbYC/hwkt2q6jhW7Yk6bC2v8S3Age15rxlj+y7AVe2aDgO+nGTzdk1HAa+sqscDL2jXvDp7Av8CbE73ffhqkvWAzwN7jITfFnTfCJy8hnPtS/e9/QKwe5KtB7Z9BrgLeAJd6HogeI3z5zDi6XQ9U2eMsW2sazsd2LTVacyf1TjOM+LNwO7AU4CnAf/vWhwrSY9aBitJmt7+BnhPkrmP4NhlVXV8Vd0HnEo3/OtDVXVvVX0L+C1dyBrxv6vqu1V1L/DXdL1I2wGvoRuqd3xVrayqi+hesO81cOyZVfX9qrq/qu4ZrEQ7x4uAv6qqe6rqYrpeqrc8gmsa7YSqurTV63djbL8Z+ERV/a6qTgWuAF7dtt0PPCvJhlV1Q1U9ZM7WgAur6vT2HB8DNgB2raobgO8Ce7f99gB+WVUXjnWSJC+iG/p4Wtvn/9CF0pEhlH8CHFZVd1fVZcDgfLHx/BxGbNm+3jjw3Ke03su7kwx+78+rqq9W1f3tuL4/q09X1XWtl+wIugAoSdOewUqSprGq+hnwdeCQR3D4TQP3f9PON7pssMfquoHnvRO4ha7X4knALu1F+a+T/JquV+IJYx07hm2BW6rqjoGya4B547+U1VrT8wL8oqpq1PNu2+ZzvZGut+yGJP87yTPG8zwtgIz06EAXfvZp9/dhzb1V+wHfqqpftsdf5MFeqbl08+oGr2nw/nh+DiN+1b5uM1DvxVW1KXARMDgPbvA5JuJnNXi+a3jw+yRJ05rBSpKmv8OAA1j1xe3IQg+PHSgb6wX22nhgQYM2RHBz4Hq6F8rfqapNB24bVdW7Bo4tVu96YPMkjx8oeyLwi571fbjnBZjX5hsNPu/1AFX1zap6OV34+Dnw2TWcZ/B7sw7dMLvrW9FXgWcneRZdr9IXxjpBkg2BNwAvSXJjkhuB9wHPaXO2VgAr27kf8ryM7+cw4ud039/Xr+GaRgx+Dx/uZ3UXD9/mBuv8wPdbkqY7g5UkTXNVtZRuKN/BA2Ur6F7s7pNk3SRvp5vT0serkrwoyWPo5lqdX1XX0fWYPS3JW5Ks127PS/LMcdb/OuAHwN8n2SDJs4H9WU0AmWBbAQe3Ou8NPBP41yRbJ3ltm7d0L3AncN8azrNTkte3OVR/1o75IUAb+jiy+t4FVXXtas7xuvYcOwDPbbdnAv8J7NuGbH4ZODzJY1sP2r4Dx4/759B66f4COCzJAUk2S2d7YOvR+w8c93A/q4vp2snmSZ7QvhejHZRkfpLNgQ/QtV1JmvYMVpI0M3wIeNyosgOA/0k37GtHuhfEfXyRrnfsFmAnumFmtGFhrwAW0/U+3AgcCazNZzC9CVjQjv8K3Tyis3vWdzzOB7YHfkk332evqvoV3f/Hv2j1uQV4CfD/rOE8Z9INHbyVbr7R60fN6ToR+G88/DDA46vq2qq6ceQGfBp4cwtt7wY2ofsen0y3kMS9sPY/hzan7A10wxOva9+D04Bj6RbiWJ01/axOBn4CXA18i7FD0xfbtqvabSgfPC1JEy2rDi2XJGl2SPJW4B1V9aIpeK4n0g2/e0JV3T6B5z2ynXP00viPSkmupvue//uw6yJJE80eK0mSJlGbc/XnwCl9Q1X7nKpnt2F7O9MNw/vKRNRTktSPn6AuSdIkaXO0bqJb/W6PCTjl4+mG/21Lt1T8P9INQ5QkDZlDASVJkiSpJ4cCSpIkSVJPDgVsttxyy1qwYMGwqyFJkiTpUezCCy/8ZVXNHV1usGoWLFjAkiVLhl0NSZIkSY9iSa4Zq9yhgJIkSZLUk8FKkiRJknoyWEmSJElSTwYrSZIkSerJYCVJkiRJPRmsJEmSJKkng5UkSZIk9WSwkiRJkqSeDFaSJEmS1JPBSpIkSZJ6MlhJkiRJUk9zhl0BSWtv4cKrh10FTbFlyxYMuwqSJGkNJq3HKsnnktyc5GcDZZsnOTvJle3rZgPbDk2yNMkVSXYfKN8pySVt21FJ0srXT3JqKz8/yYKBY/Zrz3Flkv0m6xolSZIkCSZ3KOAJwB6jyg4Bzqmq7YFz2mOS7AAsBnZsxxydZN12zDHAgcD27TZyzv2BW6vqqcDHgSPbuTYHDgN2AXYGDhsMcJIkSZI00SYtWFXVd4FbRhXvCZzY7p8IvG6g/JSqureqlgFLgZ2TbANsXFXnVVUBJ406ZuRcpwO7td6s3YGzq+qWqroVOJuHBjxJkiRJmjBTvXjF1lV1A0D7ulUrnwdcN7Df8lY2r90fXb7KMVW1ErgN2GIN53qIJAcmWZJkyYoVK3pcliRJkqTZ7NGyKmDGKKs1lD/SY1YtrDq2qhZV1aK5c+eOq6KSJEmSNNpUB6ub2vA+2tebW/lyYLuB/eYD17fy+WOUr3JMkjnAJnRDD1d3LkmSJEmaFFMdrM4CRlbp2w84c6B8cVvpbyHdIhUXtOGCdyTZtc2f2nfUMSPn2gv4dpuH9U3gFUk2a4tWvKKVSZIkSdKkmLTPsUryJeClwJZJltOt1PcR4LQk+wPXAnsDVNWlSU4DLgNWAgdV1X3tVO+iW2FwQ+Ab7QZwHHBykqV0PVWL27luSfK3wI/afh+qqtGLaEiSJEnShEnXyaNFixbVkiVLhl0NaVz8gODZxw8IliTp0SHJhVW1aHT5o2XxCkmSJEmatgxWkiRJktSTwUqSJEmSejJYSZIkSVJPBitJkiRJ6slgJUmSJEk9GawkSZIkqSeDlSRJkiT1ZLCSJEmSpJ4MVpIkSZLUk8FKkiRJknoyWEmSJElSTwYrSZIkSerJYCVJkiRJPRmsJEmSJKkng5UkSZIk9WSwkiRJkqSeDFaSJEmS1JPBSpIkSZJ6MlhJkiRJUk8GK0mSJEnqyWAlSZIkST0ZrCRJkiSpJ4OVJEmSJPVksJIkSZKkngxWkiRJktSTwUqSJEmSejJYSZIkSVJPBitJkiRJ6slgJUmSJEk9GawkSZIkqSeDlSRJkiT1ZLCSJEmSpJ4MVpIkSZLUk8FKkiRJknoyWEmSJElSTwYrSZIkSerJYCVJkiRJPRmsJEmSJKkng5UkSZIk9WSwkiRJkqSeDFaSJEmS1NNQglWS9yW5NMnPknwpyQZJNk9ydpIr29fNBvY/NMnSJFck2X2gfKckl7RtRyVJK18/yamt/PwkC4ZwmZIkSZJmiSkPVknmAQcDi6rqWcC6wGLgEOCcqtoeOKc9JskObfuOwB7A0UnWbac7BjgQ2L7d9mjl+wO3VtVTgY8DR07BpUmSJEmapYY1FHAOsGGSOcBjgeuBPYET2/YTgde1+3sCp1TVvVW1DFgK7JxkG2Djqjqvqgo4adQxI+c6HdhtpDdLkiRJkibalAerqvoF8A/AtcANwG1V9S1g66q6oe1zA7BVO2QecN3AKZa3snnt/ujyVY6pqpXAbcAWo+uS5MAkS5IsWbFixcRcoCRJkqRZZxhDATej61FaCGwLPC7JPms6ZIyyWkP5mo5ZtaDq2KpaVFWL5s6du+aKS5IkSdJqDGMo4MuAZVW1oqp+B3wZeAFwUxveR/t6c9t/ObDdwPHz6YYOLm/3R5evckwbbrgJcMukXI0kSZKkWW8YwepaYNckj23znnYDLgfOAvZr++wHnNnunwUsbiv9LaRbpOKCNlzwjiS7tvPsO+qYkXPtBXy7zcOSJEmSpAk3Z6qfsKrOT3I6cBGwEvgxcCywEXBakv3pwtfebf9Lk5wGXNb2P6iq7munexdwArAh8I12AzgOODnJUrqeqsVTcGmSJEmSZqnYkdNZtGhRLVmyZNjVkMZl4cKrh10FTbFlyxYMuwqSJAlIcmFVLRpdPqzl1iVJkiRpxjBYSZIkSVJPBitJkiRJ6slgJUmSJEk9GawkSZIkqSeDlSRJkiT1ZLCSJEmSpJ4MVpIkSZLUk8FKkiRJknoyWEmSJElSTwYrSZIkSerJYCVJkiRJPRmsJEmSJKkng5UkSZIk9WSwkiRJkqSeDFaSJEmS1JPBSpIkSZJ6MlhJkiRJUk8GK0mSJEnqyWAlSZIkST0ZrCRJkiSpJ4OVJEmSJPVksJIkSZKkngxWkiRJktSTwUqSJEmSejJYSZIkSVJPBitJkiRJ6slgJUmSJEk9GawkSZIkqSeDlSRJkiT1ZLCSJEmSpJ4MVpIkSZLU05xhV2CmWLjw6mFXQVNs2bIFw66CJEmSHiXssZIkSZKkngxWkiRJktSTwUqSJEmSejJYSZIkSVJPBitJkiRJ6slgJUmSJEk9GawkSZIkqSeDlSRJkiT1ZLCSJEmSpJ6GEqySbJrk9CQ/T3J5kucn2TzJ2UmubF83G9j/0CRLk1yRZPeB8p2SXNK2HZUkrXz9JKe28vOTLBjCZUqSJEmaJYbVY/VJ4N+q6hnAc4DLgUOAc6pqe+Cc9pgkOwCLgR2BPYCjk6zbznMMcCCwfbvt0cr3B26tqqcCHweOnIqLkiRJkjQ7TXmwSrIx8GLgOICq+m1V/RrYEzix7XYi8Lp2f0/glKq6t6qWAUuBnZNsA2xcVedVVQEnjTpm5FynA7uN9GZJkiRJ0kQbRo/Vk4EVwPFJfpzkn5M8Dti6qm4AaF+3avvPA64bOH55K5vX7o8uX+WYqloJ3AZsMboiSQ5MsiTJkhUrVkzU9UmSJEmaZYYRrOYAvw8cU1W/B9xFG/a3GmP1NNUaytd0zKoFVcdW1aKqWjR37tw111qSJEmSVmMYwWo5sLyqzm+PT6cLWje14X20rzcP7L/dwPHzgetb+fwxylc5JskcYBPglgm/EkmSJEliCMGqqm4Erkvy9Fa0G3AZcBawXyvbDziz3T8LWNxW+ltIt0jFBW244B1Jdm3zp/YddczIufYCvt3mYUmSJEnShJszpOd9D/CFJI8BrgLeRhfyTkuyP3AtsDdAVV2a5DS68LUSOKiq7mvneRdwArAh8I12g25hjJOTLKXrqVo8FRclSZIkaXYaSrCqqouBRWNs2m01+x8BHDFG+RLgWWOU30MLZpIkSZI02cY1FDDJOeMpkyRJkqTZaI09Vkk2AB4LbJlkMx5cbW9jYNtJrpskSZIkTQsPNxTwT4E/owtRF/JgsLod+MzkVUuSJEmSpo81Bquq+iTwySTvqapPTVGdJEmSJGlaGdfiFVX1qSQvABYMHlNVJ01SvSRJkiRp2hhXsEpyMvAU4GJgZKnzAgxWkiRJkma98S63vgjYwQ/ZlSRJkqSHGtdy68DPgCdMZkUkSZIkaboab4/VlsBlSS4A7h0prKrXTkqtJEmSJGkaGW+wOnwyKyFJkiRJ09l4VwX8zmRXRJIkSZKmq/GuCngH3SqAAI8B1gPuqqqNJ6tikiRJkjRdjLfH6vGDj5O8Dth5MiokSZIkSdPNeFcFXEVVfRX4w4mtiiRJkiRNT+MdCvj6gYfr0H2ulZ9pJUmSJEmMf1XAPxq4vxK4GthzwmsjSZIkSdPQeOdYvW2yKyJJkiRJ09W45lglmZ/kK0luTnJTkjOSzJ/sykmSJEnSdDDexSuOB84CtgXmAV9rZZIkSZI06403WM2tquOramW7nQDMncR6SZIkSdK0Md5g9csk+yRZt932AX41mRWTJEmSpOlivMHq7cAbgBuBG4C9ABe0kCRJkiTGv9z63wL7VdWtAEk2B/6BLnBJkiRJ0qw23h6rZ4+EKoCqugX4vcmpkiRJkiRNL+MNVusk2WzkQeuxGm9vlyRJkiTNaOMNR/8I/CDJ6UDRzbc6YtJqJUmSJEnTyLiCVVWdlGQJ8IdAgNdX1WWTWjNJkiRJmibGPZyvBSnDlCRJkiSNMt45VpIkSZKk1TBYSZIkSVJPBitJkiRJ6slgJUmSJEk9GawkSZIkqSeDlSRJkiT1ZLCSJEmSpJ4MVpIkSZLUk8FKkiRJknoyWEmSJElSTwYrSZIkSerJYCVJkiRJPRmsJEmSJKkng5UkSZIk9TS0YJVk3SQ/TvL19njzJGcnubJ93Wxg30OTLE1yRZLdB8p3SnJJ23ZUkrTy9ZOc2srPT7Jgyi9QkiRJ0qwxzB6r9wKXDzw+BDinqrYHzmmPSbIDsBjYEdgDODrJuu2YY4ADge3bbY9Wvj9wa1U9Ffg4cOTkXookSZKk2WwowSrJfODVwD8PFO8JnNjunwi8bqD8lKq6t6qWAUuBnZNsA2xcVedVVQEnjTpm5FynA7uN9GZJkiRJ0kQbVo/VJ4D3A/cPlG1dVTcAtK9btfJ5wHUD+y1vZfPa/dHlqxxTVSuB24AtRlciyYFJliRZsmLFip6XJEmSJGm2mvJgleQ1wM1VdeF4DxmjrNZQvqZjVi2oOraqFlXVorlz546zOpIkSZK0qjlDeM4XAq9N8ipgA2DjJJ8HbkqyTVXd0Ib53dz2Xw5sN3D8fOD6Vj5/jPLBY5YnmQNsAtwyWRckSZIkaXab8h6rqjq0quZX1QK6RSm+XVX7AGcB+7Xd9gPObPfPAha3lf4W0i1ScUEbLnhHkl3b/Kl9Rx0zcq692nM8pMdKkiRJkibCMHqsVucjwGlJ9geuBfYGqKpLk5wGXAasBA6qqvvaMe8CTgA2BL7RbgDHAScnWUrXU7V4qi5CkiRJ0uwz1GBVVecC57b7vwJ2W81+RwBHjFG+BHjWGOX30IKZJEmSJE22YX6OlSRJkiTNCAYrSZIkSerJYCVJkiRJPRmsJEmSJKkng5UkSZIk9WSwkiRJkqSeDFaSJEmS1JPBSpIkSZJ6MlhJkiRJUk8GK0mSJEnqyWAlSZIkST0ZrCRJkiSpJ4OVJEmSJPVksJIkSZKkngxWkiRJktSTwUqSJEmSejJYSZIkSVJPBitJkiRJ6slgJUmSJEk9GawkSZIkqSeDlSRJkiT1ZLCSJEmSpJ4MVpIkSZLUk8FKkiRJknoyWEmSJElSTwYrSZIkSerJYCVJkiRJPRmsJEmSJKkng5UkSZIk9WSwkiRJkqSeDFaSJEmS1JPBSpIkSZJ6MlhJkiRJUk8GK0mSJEnqyWAlSZIkST0ZrCRJkiSpJ4OVJEmSJPVksJIkSZKkngxWkiRJktSTwUqSJEmSejJYSZIkSVJPBitJkiRJ6mnKg1WS7ZL8R5LLk1ya5L2tfPMkZye5sn3dbOCYQ5MsTXJFkt0HyndKcknbdlSStPL1k5zays9PsmCqr1OSJEnS7DGMHquVwF9U1TOBXYGDkuwAHAKcU1XbA+e0x7Rti4EdgT2Ao5Os2851DHAgsH277dHK9wduraqnAh8HjpyKC5MkSZI0O015sKqqG6rqonb/DuByYB6wJ3Bi2+1E4HXt/p7AKVV1b1UtA5YCOyfZBti4qs6rqgJOGnXMyLlOB3Yb6c2SJEmSpIk21DlWbYje7wHnA1tX1Q3QhS9gq7bbPOC6gcOWt7J57f7o8lWOqaqVwG3AFmM8/4FJliRZsmLFigm6KkmSJEmzzdCCVZKNgDOAP6uq29e06xhltYbyNR2zakHVsVW1qKoWzZ079+GqLEmSJEljGkqwSrIeXaj6QlV9uRXf1Ib30b7e3MqXA9sNHD4fuL6Vzx+jfJVjkswBNgFumfgrkSRJkqThrAoY4Djg8qr62MCms4D92v39gDMHyhe3lf4W0i1ScUEbLnhHkl3bOfcddczIufYCvt3mYUmSJEnShJszhOd8IfAW4JIkF7eyDwAfAU5Lsj9wLbA3QFVdmuQ04DK6FQUPqqr72nHvAk4ANgS+0W7QBbeTkyyl66laPMnXJEmSJGkWm/JgVVXfY+w5UAC7reaYI4AjxihfAjxrjPJ7aMFMkiRJkibbUFcFlCRJkqSZwGAlSZIkST0ZrCRJkiSpJ4OVJEmSJPVksJIkSZKknoax3LokaZpZuPDqYVdBU2zZsgXDroIkTSv2WEmSJElSTwYrSZIkSerJYCVJkiRJPRmsJEmSJKkng5UkSZIk9WSwkiRJkqSeDFaSJEmS1JPBSpIkSZJ6MlhJkiRJUk8GK0mSJEnqyWAlSZIkST0ZrCRJkiSpJ4OVJEmSJPVksJIkSZKkngxWkiRJktSTwUqSJEmSejJYSZIkSVJPBitJkiRJ6slgJUmSJEk9GawkSZIkqSeDlSRJkiT1ZLCSJEmSpJ4MVpIkSZLUk8FKkiRJknoyWEmSJElSTwYrSZIkSerJYCVJkiRJPRmsJEmSJKkng5UkSZIk9WSwkiRJkqSeDFaSJEmS1JPBSpIkSZJ6MlhJkiRJUk8GK0mSJEnqyWAlSZIkST0ZrCRJkiSppxkdrJLskeSKJEuTHDLs+kiSJEmamWZssEqyLvAZ4JXADsCbkuww3FpJkiRJmonmDLsCk2hnYGlVXQWQ5BRgT+CyodZKkiSt0cKFVw+7Cppiy5YtGHYVpN5mcrCaB1w38Hg5sMvgDkkOBA5sD+9McsUU1W2m2RL45bArMdWSYddg1rK9aSrNyvYGtrkhsb1pqs3aNtfTk8YqnMnBaqxf0VrlQdWxwLFTU52ZK8mSqlo07HpodrC9aSrZ3jSVbG+aara5iTVj51jR9VBtN/B4PnD9kOoiSZIkaQabycHqR8D2SRYmeQywGDhryHWSJEmSNAPN2KGAVbUyybuBbwLrAp+rqkuHXK2ZyuGUmkq2N00l25umku1NU802N4FSVQ+/lyRJkiRptWbyUEBJkiRJmhIGK0mSJEnqyWClR53ET7PQ1LLNaSrZ3jSVbG+aKLalh+ccKz1qJEnZIDWFbHOaSrY3TSXbmzT17LHS0CRZd/DxyD+AJM9Psv9waqWZzDanqWR701SyvWkyJXlckoOSvLI9Xm/YdXo0mrHLrevRr6ruA0jyFGBzumXxPwbcCZyXZJOqum2IVdQMY5vTVLK9aSrZ3tTXyFC/1fR0rgc8HlgEfKOqfjeVdZsuHAqoCdc+kHnTqrp5Nds3B34DHAAsBOYDJwJ7ANdX1Yenqq6aGWxzmkq2N00l25smS5J16HJUjSrfAvh94D+r6p6B8ucBbwf+P+AVwM+B7zrk9EH2WGnCJHkccBzw34HzkxxZVecnmUP3T+GXbdejgC8DvwX+CHh9Vf20vVHykSTPBK4B7qmqv3OcuFbHNqepZHvTVLK9abJV1f0ArU3tCFwFnA5sAVwNXA4sT7IpsBvwBuAPgJ2BHwM/tC2tymClRyTJQmB34BLg/KpaCewF3F5V85IcDByQ5DfAy+h+CRcnmU83LOECYDPgYODn7V2TbwA/ArYCtgPOTPKFqlo2xZenR6HW5l4BPAE4rqqWA3+CbU6ToLW3l9C9O/vJqjoD2BvbmyZBkgXAK+leqP64Fe8F3GZ70yORZOOquj3JOiMBatT2DYHnAjsBrwKupWtH5wJHVdVdA7v/GV0P1rnALcA3q+qrk1j9acvFK7RWkjwhyWeBrwAvAN4GfKht3gp4TLv/ZeD/0P0DOB5YL8lrgBtb2YqquoRuzO5T2i/9/cCtwK+Am4BvAhtMxXXp0atNmD2e7gXCs4CLgJF3ajfDNqcJlOTZSc6ge9d2Z+CxwHPa5i2wvWmCJdmHB9vbfkn+sm3aEli/3be96WElWSfJ3yS5GPhqkl0Gtq03cP9kujC1APhT4ISqeifwC+CFwGlJ/jzJO5I8pqoOr6rXVtXHgO8Dz2/nsYNmFL8hWlu3Ax+qqusAkuxON9b2A8B1wPYAVbU8yVV0XcZ3AH8H/EM7/j/pfpmvAH5K90/h8qqqJG8F/gJYCnwO+K+pujA9at1H11aur6q/Hils78jeSDf8xTanXgaGR10NvLuqbmjlHwIua7stB54OtjdNjDaXZWfg8Kr6epL/BpyY5NPY3vQwkrwQeDVwKV04n0v3BuRb6UZ3HAIcluQVwKZJjmpz9e4GNgW+BrwWGFmI4ly64YCb0YWnt9H9jz0p3aqTAVYAWyaZ00YraYA9VlorVXV3VV2XZE6S1wF/DvyvtnkFsG6SJ7XHN9P9Qj6tDW34Dt1YcOhCGMAPgJcPPMUXqurpVfXqqjpjZJUjzV5t4uxFwO8n2TPJXydZ2N6RXQHMsc2pr5F5AlV1+0ioat5EN+QZunf/17G9aQLdAzyFrlcJunC0I/BiuiFXtjeNqfVYHk4XtF9DNzR+MXBVVV1cVf9Gt7jEW4F/ogtF722H3w1cCdxL13a2AKiqe4FlVXUBcBpdyFrWtt3XgtS5VbW/oWpsBqtZLMl2SXZvKw6trefQrTj0C2Cv9m7IRXTvery47bMO3bsnI3/wPw18C3hGVd3dyj5DN28BgJExva07e5XP5ND0l2TrR9jerqEbFvNO4HHAcUleD1xI90LDNqeH6NHeRnpEAW6gW2UNut6se7G9aQxr295aL+lddMOc35nkf9C9WXk58ES6oX/+fdPqvAr496r6e+ATdCtC7gLsMLDPv9AtZnIHcCzw6iRPppsj/7Pqlt+/CdgmycbtmNck+Q5db9b1wM8Gn7SFL62GwWoWSjI3yTnAGcB7gE+21YfG2nfMP8RVdWFVvbOq3g58D3hnVd0KnA+8O8kGdO+63d1+oamqW4DvAheMvGipqnvG+iWtqvt9Z21mSOfFSZbQvUh93sPsP1abuxZ4eVW9sqo+QDfH7y3tn4JtTg+YoPZGVd2fZAe6d3XvamX/he1Nzcj8kglob38PnAn8Md2blZ8Hdq+qq4Al2N40SmtHV9F9Xhl0QwFfQ9fzuevIflV1Ed2ojnlVdQ1dz9X76T7jbMu22810bx5t1x7/ANi7qhZV1V+113YaJ4PVDJfkJW0C4voDxXsD/1FVO1fVa4CnsZp/BuP8Q3wR8Ox2/wTgi3T/DF4LHD1Qlx2AvwHOGWuFGs0MSV6Y5Ih0n9D+2DbE6nd0QxC+CDxtoDfgIcZqc1X1m6r69UDRD4FntvsnYJubtZK8IMkHk/xHug9ALWAlPdrbgN/SfRjm+ckDH5x5Era3Wav9fftQkvPoftbQ9WKudXsbGH56b1V9uar2rqqT6YZejSzQczy2N43S2tG3gFcleR/dfLsr6XqY1knyooHdL6B7nUdVHUO3iuT1dEOboVs98vCqurTtc3Obh0WSdUf+9ml8XLxiBkvyfrr5AQvoxtn+a9u0gG7i4RPplq/+Gd27XqOP34TuD/kOVXXoqG3zgY2AP6T73IxD4IF/FJ9st5F9RyaFPxk4lW6irWagdCsNLQDOpltZaIskHwZ+XFX3JHku3VCFU+nGeI8+fk1tbjNga7rP0tgT+Guwzc1mSc6kG/byOboXBre1TT+pqrv6tLfmDrp3hDcafNe2qmxvs0ySjeh6kragCzob0HoygZ9X1W09/75tBDyV7n/q7nSjSfz7ptWq7rPK9gVeTzffDmAb4LN0q0teTzc8cAXw4yTrtkB2MrBbVa1ItxT7L8c6f3sOeznXksFqZjuTbkztAXQBaiRY/SPdkIOf0E2UvQ74IA8uQjHivXR/uH8w8Id8xPOAA+neWTtm4NwPaF3VNfJOWlV9Hfj6hFyZHq3eVVV3AiT5I7q2t15V/aZt/y7dC4st6Yb3jbamNrcz3YuN6+jmFtjmdBndPIG/H1U+8qK2T3uD7kXJYXTLVj+E7W32qKo7k7yhqn4LkGRzHhxKdWf72qe9bUI3RGslD/Y+rML2ptGqW8TkxwBJFgPPrap9W+A6Eyjgn0ZGfLRwvxfd0vsPfECwJk4e+n9EM026hSUOq6oXDpQdANxRVae0YYLXAi+sqqVZzYfJjTqny2xqTG0uwEF0f7y/XFUfHbX934GP0A1HHfe7YbY5jZZuqeHj6d4seh5wFvC1wResj7S9SauTZFO61dh+WlWfG7XN9qYp0+b5/THdvKrnAe+rqgvbtq2r6qZR+7+A7kPPP1pVV0x1fWcD51jNDhcBj0uy7UDZW4BfwwMrvPyE9oFvdO9wAKtfSWjkBW4bf2s70gOqWx59PnAi8AdJ3jBqjt8lwJNW96LDNqfxqqrv0w1zeQ7wbeBQ4E+TbDiw2yNqbwPb4xwDDWrv/v8B3RB7YJVFKfq2N/++adza/8Xd6OZLDYaqjISqwXlSVfWDqnqHoWryOBRwdvgV3ZC9V9BN9IduedcDktwMvIRuouzZ8OCE2nZ/jT1XviOnsVTV+wCS/ILuM1V+TvfBldB9qO/7k7yZbqnYDw8Oi7HNaS3tPjD89G7gpXTDrS5t2/u2N4d16AEDIzp+AWw7UDbyd8m/b5pSVfXOMcoGX8fZpqaQwWoWqKpqk7x3AU5oiwB8kK7X6v+nG5/7uaq6cYjV1Mx0C92HX17Teq32Bw6mC/HfpM0P8MWrHqmRUNX8im71q2ttb5oM1S3Dv4Bu+PyvB8oeA7wD25uGoPWC3m9bGz7nWM0CSXahGyLzWrrPPXhfVX1tuLXSTJVka7rx3jvT9YaeWlWfatseWw9+kKXUW5LH0w3L2oWut+oLVXV022Z704RrK+r+CHhytQ/gbeW2N2mWs8dqdng13TCsD7YVZFYxeqUhqafHAYvp5hq8d2TMN8DIi4424bYcoqAJsCHwZrp5ou+tqiUjG2xvmgxVdW2SI+lW8Bsst71Js5w9VrPQeFb9kyRJD7WapfklyWA1W9grpanmmG9NJdubptLAKmu2N0kPMFhJkiRJUk9+VoIkSZIk9WSwkiRJkqSeDFaSJEmS1JPBSpKktZSO/0MlSQ/wn4IkaVpK8tUkFya5NMmBrWz/JP+V5Nwkn03y6VY+N8kZSX7Ubi9cw3nnJjk7yUVJ/inJNUm2TLIgyeVJjgYuArZL8tEkP0tySZI3tuNfmuTrA+f7dJK3tvtXJzkyyQXt9tRJ/BZJkqaQwUqSNF29vap2AhYBByeZB/wvYFfg5cAzBvb9JPDxqnoe8CfAP6/hvIcB366q3we+AjxxYNvTgZOq6vfa8z4XeA7wMuCjSbYZR71vr6qdgU8DnxjH/pKkaWDOsCsgSdIjdHCSP273twPeAnynqm4BSPIvwNPa9pcBO7SPHwLYOMnjq+qOMc77IuCPAarq35LcOrDtmqr64cB+X6qq+4CbknwHeB5w+8PU+0sDXz8+juuUJE0DBitJ0rST5KV0Yen5VXV3knOBK4BnruaQddq+vxnP6dew7a5x7LeSVUeEbDBqe63mviRpGnMooCRpOtoEuLWFqmfQDf97LPCSJJslmUM35G/Et4B3jzxI8tw1nPt7wBvafq8ANlvNft8F3phk3SRzgRcDFwDX0PWOrZ9kE2C3Uce9ceDreQ97pZKkacEeK0nSdPRvwDuT/JSup+qHwC+ADwPnA9cDlwG3tf0PBj7T9p9DF4reuZpzfxD4UluM4jvADcAdwEaj9vsK8HzgJ3Q9T++vqhsBkpwG/BS4EvjxqOPWT3I+3Zubb1rrK5ckPSqlylEIkqSZIclGVXVn67H6CvC5qvrKWp5jfeC+qlqZ5PnAMVX13Amq39XAoqr65UScT5L06GGPlSRpJjk8ycvo5jV9C/jqIzjHE4HT2udU/RY4YOKqJ0maqeyxkiTNSkneBrx3VPH3q+qgYdRHkjS9GawkSZIkqSdXBZQkSZKkngxWkiRJktSTwUqSJEmSejJYSZIkSVJPBitJkiRJ6un/AhLNVQw0eUnrAAAAAElFTkSuQmCC",
      "text/plain": [
       "<Figure size 1008x360 with 1 Axes>"
      ]
     },
     "metadata": {
      "needs_background": "light"
     },
     "output_type": "display_data"
    }
   ],
   "source": [
    "#bar chart showing count of trips taken for each age group\n",
    "\n",
    "bar_plot(bike_clean, 'age_group', 'Number of Trips by Age Group')"
   ]
  },
  {
   "cell_type": "code",
   "execution_count": 236,
   "metadata": {},
   "outputs": [
    {
     "data": {
      "image/png": "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",
      "text/plain": [
       "<Figure size 360x360 with 1 Axes>"
      ]
     },
     "metadata": {},
     "output_type": "display_data"
    }
   ],
   "source": [
    "#pie chart showing proportion of trips by age group\n",
    "\n",
    "pie_plot(bike_clean, 'age_group', 'Proportion of Trips by Age Group')"
   ]
  },
  {
   "cell_type": "markdown",
   "metadata": {},
   "source": [
    "> The **31 - 50yrs** & **18 - 50yrs** are taking the most trips"
   ]
  },
  {
   "cell_type": "markdown",
   "metadata": {},
   "source": [
    "##### Do people who use bike share for all their trips take more trips?"
   ]
  },
  {
   "cell_type": "code",
   "execution_count": 237,
   "metadata": {
    "scrolled": false
   },
   "outputs": [
    {
     "data": {
      "image/png": "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",
      "text/plain": [
       "<Figure size 1008x360 with 1 Axes>"
      ]
     },
     "metadata": {
      "needs_background": "light"
     },
     "output_type": "display_data"
    }
   ],
   "source": [
    "#bar chart showing count of trips taken by people who used bike share for all their trips\n",
    "\n",
    "bar_plot(bike_clean, 'bike_share_for_all_trip', 'Trips by bike_share_for_all_trip')"
   ]
  },
  {
   "cell_type": "code",
   "execution_count": 238,
   "metadata": {},
   "outputs": [
    {
     "data": {
      "image/png": "iVBORw0KGgoAAAANSUhEUgAAAS0AAAEuCAYAAADbd0RAAAAAOXRFWHRTb2Z0d2FyZQBNYXRwbG90bGliIHZlcnNpb24zLjQuMywgaHR0cHM6Ly9tYXRwbG90bGliLm9yZy/MnkTPAAAACXBIWXMAAAsTAAALEwEAmpwYAAAnB0lEQVR4nO3dedxc8/n/8deVHUlESFRocsRaSYkQSxpJai1jV6WopRtddeHb0/4st6WMrahqrdUEtVTRchpVS0hQ+xpVikOsTUhuEnGv1++Pc+4ak/u+Z7ln5nPOzPV8POZxz3LmzHvOfeaazznzOZ8jqooxxqRFP9cBjDGmFFa0jDGpYkXLGJMqVrSMMaliRcsYkypWtIwxqWJFqxsicqiI3Ongdb8gIi+JyDIR2bcP89lBRP5dwWhd81UR2bAC8zlSROb38vgcETmimGkrqVLvr48Z1haR+0XkQxE5r4avO1dEvhlfr9gyr8a6WLOiJSKhiKyIP5DvishVIjK0Vq/fSy4vXlkHdN2nqteq6q4O4pwK/EZVh6rqrbkPxMut69KZsyyXicihudOq6jxV3aSWwStJVXdX1VmuczjybWAxMFxVf+o6TG+KKfLVWBdr3dLaS1WHApOBKcAJ+RPkFo9qq+VrFWkcsKC7B+JCNjRefq8TL8v4cm3XdAl8Tw2nj/+DccDzWkav76T976uVx8nmoaq+CcwBJsL/Kvb3ROQl4KX4vm+JyH9E5H0R+auIjOl6fjz9D0XkFRFZLCLniEi/+LF+InKCiLwmIv8Vkdkisnr8WFer6hsi8jpwD3B/PNulcatl+/zmsYhMFZFHRaQ5/js157G5InKaiDwQN+nvFJG1enrvPb0vEXkZGA/cFucYXMyyFJGZIvKGiPxMRN4Bruq6L2eaUER+LiLPi8iSuJU7JH5sLRG5XUSWxpnmdS3LHuyRv9xFZHD83M/nvObouDU4qufoclG8TF8QkZ3yluk3e3jSOSIyX0RWjy9XisjbIvKmiJwuIv0LLK8NReS++HUXi8gNeZPsLNEm+hIRuVhEJH7eBiJyj4i8Fz/vWhEZkbeMfyYizwDLRWSAiGwnIg/Gy/ZpEZlZINsfgCOA/4vXgZ3jZXuBiLwVXy7oWje6+9/3Mu814v/zovi93S4i6/WWp0DWrs/N03HWg/q6LhZNVWtyAUJg5/j6Z4laFKfFtxX4BzASWAXYkaiJPBkYDFwE3J8zLwXujacfC7wIfDN+7OvAf4gKwFDgZuDq+DEvfu5sYLX4tbruG5Az/yOB+fH1kcAS4GvAAOCr8e0148fnAi8DG8fzmwtke1gGhd7X/5ZRCctyJtAOnBXPc5X4vjfypn8uXu4jgQeA0+PHzgQuAQbGlx0A6eF1e1vuvwXOypn2WOC2HuZzZJz5x/FrHgQ0AyNzluk3c6adT/QFeznwd2DV+LFbgUvj/+Vo4BHg6ALL7jrg/8XzGwJMy3t/twMj4ve3CPhS/NiGwC7xMh5F9GV3Qd4yfipexqsA6wLvAXvEr7VLfHtUgXx/6PrfxLdPBf4Zv79RwIN88rlZ6X/fy3zXBA4AVgWGAX8Cbs15fKVlXsR6qMCGObdXykMJ62LRtaTGRWsZsBR4jWglXyXnze+YM+2VwNk5t4cCbYCXM/2Xch7/LnB3fP1u4Ls5j20SP3cAnxSo8TmPd93XU9H6GvBI3nt5CDgy5599Ql6WO3pYBoXeV0h5RasVGJK38uSvKMfk3N4DeDnnQ/GX3JWvwEra03LfFlgI9ItvPwZ8pYf5HAm8RU5xJCo4X+vhA/QwcAPwZ2BQfP/aQAs5H1SiL5R7C7yH2cBlwHo9vL/cInYj4Pcwn32BJ/OW8ddzbv+M+Msy576/A0cUyPcHPl20Xgb2yLm9GxD29L8v4fM4CViSczt/mZdbtMpeF4u91HrzcF9VHaGq41T1u6q6IuexhTnXxxAVNgBUdRnRt9S6PUz/WvyclZ4bXx9AtJJ399xC8ufXNc/cLO/kXP+IqBgVnFcP76sci1T14wLT9LS8ziFqmd4Zb/b55cxHVR8GlgMzRGRTopbJX3uZz5sar7XdZMq3IbAPcIqqtsb3jSNqpb0db34tJWp1jS6Q//8AAR4RkQUi8vW8x7v9X8abu9fHm6EfANcA+bsBcpfNOODArmxxvmnAOgXy5etufc5dTsX87xGRVUXkUol2m3xA1FIcUWhzugx9WReLkqQuD7kr8FtE/3QARGQ1oubtmznTfDbn+tj4OSs9N36sHXi3h9cqtMMzf35d83yzm2kLKeZ9laOYnbbdLi9V/VBVf6qq44G9gJ/k7l8qdj6xWcBhRK3TmwqsvOt27S/qYV65/gUcBcwRka5fohYStbTWir8IR6jqcFWd0MtroqrvqOq3VHUMcDTwWymum8OZRMt5c1UdTvQ+JW+a3P/DQqKW1oicy2qqmi3itXJ1tz7nLqdid9j/lGirY9s4//T4/vz30Fdlr4vFSlLRyvVH4CgRmRTvdDwDeFhVw5xpjo93Ln6WaP9J1w7V64Afi8j6EnWpOAO4QVXbe3itRUAn0T6w7vwN2FhEDol3rh4EbEa076Ma76tavici64nISOAXxMtLRPaMd04L8AHQEV960tNyB7ga2I/oAz27QJ7RwA9FZKCIHAh8jmhZd0tVr4tz3yUiG6jq28CdwHkiMlyiHwQ2EJEZvb2oiByYswN6CdGHrLf322UY8e4NEVkXOL7A9NcAe4nIbiLSX0SGxDulS935fR1wgoiMkugHnpPieZdqGLCCKP9I4OQy5pHvXXr+3PSm23WxWIksWqp6N3Ai0T6Mt4ENgIPzJvsL8DjRzs+AaH8RwO+JPjz3A68CHwM/6OW1PgJ+CTwQN+O3y3v8PWBPom+q94g2L/ZU1cVVel/V8keiD/kr8eX0+P6NgLuIPpAPAb9V1bm9zKen5Y6qvgE8QVQI5hXI83D82ouJlv+X42XdI436bp0K3CMiHnA4MAh4nqgA3UThza8pwMMisoxo8/VYVX21wHMATiH6AaWZ6H3fXCDrQqJN2l8QfTEuJCp0pX7mTifaP/gM8CzR8j2912d07wKiHeOLiXbs31HGPPI1AbPiz81XSnheT+tiUeTTuxXSQUQU2EhV/+M6SxqISEi0k/WuGrzW74G3VHWlPnjGVGJdTFRnNJNucetnf2BLx1FMHUvk5qFJHxE5jaj/zTlFbm5VM8sl8unDnroul7jM1aWHbMtEZIc+zvcXPcx3Tpnz26GnrH3J2Vep3Dw0xjQua2kZY1LFipYxJlWsaBljUsWKljEmVaxoGWNSxYqWMSZVrGgZY1LFipYxJlWsaBljUsWKljEmVaxoGWNSxYqWMSZVrGgZY1LFipYxJlWsaBljUsWKljEmVaxoGWNSxYqWMSZVrGgZY1LFipYxJlWsaBljUsWKljEmVaxoGWNSxYqWMSZVrGgZY1LFipYxJlWsaBljUsWKljEmVaxoGWNSZYDrACb9PD8YDIwFxsV/xwJrAkPiy+Bu/g4GBgErgKVAc87f/OuLgBB4M8xmtBbvySSXqNo6YArz/GA4sCWwObA+nxSnccAoQGoQ42Oi4vUy8CLwL2AB8HyYzSytweubBLCiZVbi+cEQYAqwPbA1MBkYT20KU7neAh4F7o8vT4bZTIfbSKYarGgZPD9YBdgJ2BmYCkwCBrrMVAEfAg/ySRF7JMxmWt1GMpVgRatBeX4wGtgL2JuoWK3qNlHVfQw8DPwDuDHMZl5ynMeUyYpWA/H8YAJRkdob2IbG/vX4SeBG4IYwm3nVdRhTPCtadc7zgw2AbwFfBjZwHCepHgVuIGqBLXQdxvTOilYd8vxgALAPcAzRvqok70BPEgX+CVwLzAqzmWWO85huWNGqI54fjAW+DXwdWMdxnLRbClwBXBRmM687zmJyWNFKOc8P+gEZolbVl2js/VTV0AHcDJwfZjMPuQ5jrGilVlysDgZOBjZ2HKdRPAxcANwUZjPtjrM0LCtaKeP5gQAHAE3ABLdpGtZC4DzgkjCbaXEdptFY0UoRzw/2Ak4l6vxp3HuNqKV7dZjNdLoO0yisaKWA5we7ERWrbVxnMd1aAPw8zGZucx2kEVjRSjDPDyYDFwLTXGcxRbkL+EmYzTzrOkg9s6KVQJ4frA78EvgO9mtg2nQQdZU4McxmFrkOU4+saCWM5weHEu3kXdt1FtMnS4EfhdnMLNdB6o0VrYTw/GAccBmwq+sspqJuA74dZjPvuA5SL6xoORZ3Yfg+cAYw1HEcUx3vAz8Is5k/ug5SD6xoOeT5wfrA1cAXXGcxNXEzcIzt6+ob28nriOcH+wBPYAWrkewPLPD84ADXQdLMWlo1Fo/AcCZwnOssxqnriPZ12UgSJbKiVUOeH6wLXI/1uzKR54B9wmzmFddB0sQ2D2vE84OdiUbLtIJlukwEHo3XDVMka2lVWTwaw4nASdiXhOleB3B8mM2c7zpIGljRqiLPD4YBfwJ2c53FpMIs4GgbOaJ3VrSqJD7bzRyicwYaU6yHgf3DbOYt10GSyopWFXh+4AF3Ahs5jmLS6W1grzCbedx1kCSyolVhnh98Hvg7Nka76ZsPgC/ZEM8rsx3DFeT5wTSisxlbwTJ9NRy40/OD6a6DJI0VrQqJRxW9ExjhOIqpH0OBOdYl4tOsaFWA5wdHEh1XtorjKKb+rArc5vnBHq6DJIUVrT7y/OAw4PfAANdZTN0aAtzi+cG+roMkge2I74P42+8vWMEytdEOHBpmMze6DuKSFa0yeX4wFfgHUfPdmFrpAA4Os5mbXAdxxYpWGTw/mEj0K+EarrOYhtQC7BJmM/NcB3HBilaJ4mGRHwTGuM5iGtoSYFqYzTzvOkit2Y74Enh+MIpok9AKlnFtDeAOzw8abl20olWk+ODnO7BDc0xyfJaoO0RD7Ve1olWE+OQT12EHP5vkmQzMjtfRhmBFqzgnAxnXIYzpwQHAaa5D1IrtiC/A84MM0bnrGuabzKTWIWE2c53rENVmRasXnh9sADyGHU9o0mEZMCnMZl52HaSabPOwB54fDCYadXSE4yjGFGso8Mf4jE91y4pWz84FtnQdwpgSbQOc4jpENdnmYTc8P9iPaNQGY9KoE9gxzGbucx2kGqxo5fH8YCzwNLZZaNLtDWDzMJtZ4jpIpdnm4couxQqWSb/1gMtdh6gGK1o5PD84BPiS6xzGVMgBnh9803WISrPNw5jnByOBfwGjXWcxpoKWE20mvuI6SKVYS+sT52IFy9Sf1YALXIeoJGtpAZ4ffBG4x3UOY6pojzCbmeM6RCU0fNGKO5E+A2zsOosxVfQSMDHMZlpdB+kr2zyEE7CCZerfRsCPXYeohIZuaXl+sBnwFDDQcRRjamEZsEmYzbzlOkhfNHpL6xysYJnGMZRonU+1klpaIrI/MA1QYL6q3lKtYNXm+cH2RGO9G9Nopqf5pBhFt7RE5LfAMcCzwHPA0SJycbWC1UDDDJpmTJ6LPD9I7VZWKUNYzAAmatw0E5FZRAUsdTw/mAns5DqHMY5sARwI3OA6SDlKqbb/Bsbm3P4sUVeBNLJWlml0P3cdoFxF79MSkfuAKcAj8V1TgIeAjwBUde9qBKw0zw92IzqrjjGNbs8wmwlchyhVKZuHJ1UtRW1ZK8uYyC+A1BWthuqn5fnBPsCtrnMYkyAz0zZYYMF9WiIyP/77oYh8kHP5UEQ+qH7EijrZdQBjEuYXrgOUqmFaWp4fTAUecJ3DmATaOsxmHncdolhF/XooIv1E5Llqh6myY1wHMCahUtXaKqpoqWon8LSIjC04cQJ5frAmUb8UY8zK9vP8YBPXIYpVyq+H6wALROQRotEQgdR0dTgSGOI6hDEJJcA3geNdBylGKf20ZnR3v6om+pcHzw8EeAEbfsaY3vwXWC/MZtpcBymklB7xe6jqfbkXYI++vLiIqIicl3P7OBFp6ss8u7EjVrCMKWQ0sKfrEMUopWjt0s19u/fx9VuA/UVkrT7Opze2A96Y4qTizD3F9NP6jog8C2wiIs/kXF6l78cetgOX0c2IiiIyTkTujl/r7nJ+BPD8YB1g3z5mNKZR7Ob5wWdchyikmJbWH4G9gL/Gf7suW6nqYV0TicgaZWa4GDhURFbPu/83wGxV3Ry4Fvh1GfM+gtJ+bDCmkfUHDnIdopCCRUtVm1U1VNWvquprOZf38ya9u5wAqvoBMBv4Yd5D2xMVTICriQYfLJV1czCmNIe6DlBIJQcCkz489wLgG0TnaOtJSV33PT/wgMnlRzKmIU3x/GAj1yF6U8miVfbxQHGr7UaiwtXlQeDg+PqhwPwSZ7t/uXmMaXCHuA7QmyQNuXoekPsr4g+Bo0TkGeBrwLElzu+ASgUzpsH0qStTtVXsgGkReVJVt6zIzPrI84NRwDskqygbkxadwFphNrPEdZDuFPxlTURG9vZ4zg75JI25vjtWsIwpVz9gZ+BProN0p5juAI8T7a/qbke7AuPhU8UrCRLdvDUmBXYhrUVLVdevRZBK8fygP7Cr6xzGpFx3R8AkQjGbh712G1DVJyoXpyK2A8rt6GqMiXieH2wcZjMvug6Sr5jNw/N6eUyJDkhOki+4DmBMndgVSF/RUtUv1iJIBW3rOoAxdWJXosPpEqWkLg8iMhHYjJwB9VR1dhVylc3zg4XAeq5zGFMHPgTWTNoYW0UfTCwiJwMziYrW34i6FcwnOm4wEeJRHaxgGVMZw4AJwFOOc3xKKX2ZvkzUF+sdVT0K2AIYXJVU5dvGdQBj6szmrgPkK6VorYhPcNEuIsOJhmcdX51YZbOiZUxlJa5olTLW1GMiMgK4nKjD6TLgkWqE6gPbCW9MZSWuaJV17KGIeMBwVX0m574JqrqggtlKEp/AYgmQP5igMaZ874bZTKJGMy3r+Lx4UMD8oZavrkCevtgEK1jGVNranh+Mdh0iV1IGAayEzzt+fWPqVaI2ERMxCGCFjHP8+sbUq7otWq5Z0TKmOtJXtCTy2QKTtVYgT19Y0TKmOjZzHSBXUUVLo58Yby0wzXaVCNQHJZ8X0RhTlHVcB8hVyubhP0VkStWS9J21tIypjkT9elh0Py0ReR7YGHgNWE70a6HGJ1N1yvOD4UCz6xzG1LGRSRkzvpQe8btXLUXfWSvLmOpam6jztnNFbx6q6mvACGCv+DIivi8JrGgZU11ruw7QpeiiJSLHAtcSbd+OBq4RkR9UK1iJCv2yaYzpm8QUrVI2D78BbKuqywFE5CzgIeCiagQrkR2+Y0x1JaZolfLroQAdObc7cH/oTpekjetlTL1JzC+IpbS0rgIeFpFb4tv7AldWPFF5hhSexBjTB4lpaRVzCrH1VfVVVf2ViMwFphG1sI5S1SerHbBIVrSMqa7E7IIppqV1E7CViNytqjsBSTvPIVjRMqbaStkqq6pigvSLT2qxsYj8JP9BVf1V5WOVzIqWMdXV33WALsXsiD8Y+JiowA3r5pIEVrSMqa70tLRU9d/AWSLyjKrO6Wk6ETlCVWdVNF3xrGilzGiWLOpPZ6frHKY4ncgK1xm6FF09eytYsWMBK1qmKBP6hW9dNvBXawyUDhudIx2GwtdcZwDqZ7jlxGxvm+Lc27nlFlu0XL7mY50b36/qfNRbU1hH4Ulqo16GW05M09UU7yOGrPbl1qbp32k79sl27fem6zymV3VZtFy2tJY7fG3TR3d0bjt5Ustlw57r9Oa5zmJ6VJdF64EKzqtUVrRSbhmrDt+z9Ywdftp6zKMdKu+6zmNWssx1gC6ljPKwtohcKSJz4tubicg3uh5X1e9XI2CRrGjViT93Tp8yueXSwS92ruvyS9CsbLHrAF1KaWn9Afg7MCa+/SLwowrnKdcHrgOYymlm6IhdW8/5wgltR/2zUyUxH5YG957rAF1KKVprqeqNQCeAqraTnO3c910HMJV3Tccu201p+S2vdY7+p+ssJp1Fa7mIrEn8K6GIbEdyxmVPzAI1lfUeq681o/WC7c5oO+TBTk3GcL8NKjGfsVKK1k+AvwIbiMgDwGwgKSOXJmaBmuq4rGPPqVNbftP6to581HWWBpWYz1ixJ2vtD8yIL1OBo4EJqvpMFbOVIjEL1FTPO4xce/uW30w5v+2A+aq2H7PGEvMZK/ZkrR3APqrarqoLVPU5VW2rcrZSvOE6gKmdCzsOmLZD64XLFunqj7vO0kDSVbRiD4jIb0RkBxGZ3HWpWrLSvIV1e2gob+ioMVNafrfVpe17zlO1/32VtQHvuA7RpZSTtd7bzd2qqjtWNlJ5PD94CtjCdQ5Te+vLW6/fPKhpyRqyzP7/1fEiTc2buA7RpZRRHr5YzSAV8CJWtBrSqzpm7OSWS9Y7dcAf7jus/13biLCK60x15kXXAXKVNLCXiGSACeQMBaOqp1Y6VJkStWBNbSn9+p3Y/vUZ13Ts/OpNg075aJismOA6Ux1J1GerlMN4LgEOIurmIMCBJOvMzi+5DmDc+7eOXX+Llss3valj+lxVWl3nqRP/dh0gVyk74qeq6uHAElU9BdieZJ3ZOVHfBsadTvr1P67tmJl7t57+2nId/C/XeepAoj5bpRStrjGrPhKRMUS/KKxf+UhlS9SCNe49q+M32rzlio2Cjm3vU6XddZ4US9Rnq5SidbuIjADOITqNWAhcX4VMZQmzmfewYxBNng76D/he27EzDmw9+aWPdaDtQijdMpqa33IdIlfRRUtVT1PVpar6Z6J9WZuq6onVi1aWF1wHMMn0mG7yuc1brhh7d8eWc1UTc6B/GjzlOkC+Un89nAp4Xc8TEVR1dhVyleshosOMjFlJKwMHf6Pt+Jlf6Pfcc1cNPHu1QdKepN0bSfWg6wD5Svn18GrgXGAaMCW+bF2lXOW633UAk3wPdE6cuHnL5Z95sGOz++ykGgUlrmiV0tLaGthMi+1C78Z8oqFzXI5Xb1LgYwavckjbCTN27PfE05cOPN9OZdazxBWtUnbEPwd8plpBKiHMZt4HFrjOYdLjns7JW0xquWzkE50bWit9Zf+hqXmR6xD5Cra0ROQ2otbLMOB5EXkEaOl6XFX3rl68sswDJroOYdJjOasM3b/11OmZfv98/MKBv1lngHSOKfyshpC4VhYUt3l4btVTVNb9wHdchzDpE3Rut9X9LZ9vvn7Q6fMn9Httmus8CZDIolVw81BV71PV+4DHgHnx9beB1Unmm7Jz55myfchqq2daz5x2XNvRj3So/Nd1HscSeUakUvZp3Q8MEZF1gbuBo4jO0JMoYTbzJvCK6xwm3W7qmLHNVi2XDPxP55gkfjHXwtskdP9wKUVLVPUjYH/gIlXdj2jEhySynaqmz5YybI2dW8+delLbEQ814KnM5tDUnMieAiUVLRHZHjgUCOL7+lc+UkXMcR3A1I/ZHbttv03Lxfp656hGOpVZUHiSqCiIyHwR2T3nvq+IyB3VClZK0ToW+Dlwi6ouEJHxQHejmSbB7djwy6aCFjNi1PTWC7c7s+2rD3QqS13nqbJW4B/FTBj32zwG+JWIDBGR1YBfAt+rVriih1suOCORi1Q1KacUw/ODG4CvuM5h6s86vPfOLYNPWvgZWTLFdZYquYOm5t0LT/YJETmbqKGwWvx3HPB5oh4KTar6FxGZAFwFDCJqMB2gqiUfxF5KS6uQL1RwXpVwo+sApj69zZqf2a7l4ikXtu9Xr6cyu7mM55wCHALsTjSy8T2qOgX4InBO3AI7BrhQVScRHWFT1lm0Klm0kuZvwDLXIUz9Or/9wGnTWy/4cLEOf8J1lgrqBG4t9Umquhy4Abga2AXwReQpYC5RERtLNKDBL0TkZ8A4VV3R/dx6V7dFK8xmVhDt2zKmahbq6HW3bvndlpe373F/nZzK7P4+HLrTGV+EaNNvUnwZq6r/UtU/AnsTDSj6dxEp60xelSxaSTxI+QbXAUwjEPll+2HTd2o9d/FSXS0pZ10v1x8qMI+/Az8QEQEQkS3jv+OBV1T118Bfgc3LmXnJRSveNu3OheUEqLI5wIeuQ5jG8IqOGbdly6UTr2nf6T5VPnadpwwfAH+qwHxOAwYCz4jIc/FtiE6M81y82bgpUNZYfKWcrHUqcAUwVFXHisgWwNGq+t1yXrhWPD+4hqhvmTE1s6m8/sqfBp2yImWnMruUpuZjXIcopJSW1vnAbsB7AKr6NDC9GqEqbJbrAKbxvKBjx2/RcvmmN3dMS9OpzK5wHaAYJW0equrCvLvSMNb2XSTsvG2mMXTSr/9P2r47c9/WU8OPdHDS18GnaGp+zHWIYpRStBbGm4gqIoNE5Dgg8eeUC7MZBX7rOodpXE/rhhtv3nL5+Ds6psxN8KnMrnQdoFilFK1jiLrmr0vUKWwSkOj9WTlmYX22jEPtDBh4TNuPZx7UeuKLH+vAl13nyfMxcI3rEMUqpWhNUdVDVXVtVR2tqoeRksNkwmymmTJ/qTCmkh7Rz222ecsV693bscVcVTpd54ldS1PzUtchilVK0ToxtzOYiPwfsE/lI1XN+ZCYlcQ0sFYGDj6q7WczD2/zF7TqgNBxnA4g6zhDSUrp8rAWUQ/z44EvEfWzOFhV26oXr7I8P/gz0XhgxiTCKrR8dNWgsx/dVv41XcRJB+3raWr+qoPXLVspZ5heTNQF/2JgDPDlNBWs2DmuAxiTawWDVz249cQZ3277ydNt2r+sA4j7QIEzavyafVawpSUiH/LJuQSVaFiJ9vi6qurwaoesJM8P5hGdcNaYRFmNFcuuHXTGk5P6vbxDjV7yNpqak3Y2rYKKObHFMFUdnvN3iKoO7bpdi5AVdrLrAMZ0ZzmrDN239bQdftD6/cfatd/bNXjJX9bgNSqumJbWpqr6gohM7u5xVU3dsByeH/yNaNwfYxJpGMubbxx02rOf6/d6tbYK7qWpuaxRFlwrpmhdpqrfFpF7iTYJ//cQ0eZh6t645wcTgadI7hj3xgDwlf73PnLmgCvW7y86qsKznklT830VnmdNlPLr4SpEnUmnERWvecDvVDWNR7Pj+cGVwNdd5zCmkDX44P0/DzrlhfH93p5aoVneSlPzfhWaV82V0k9rFvA54NfARfH1NHfYPBH4yHUIYwpZwvCRO7aeN/XktsMf6lR5r4+zawWOq0QuV0ppaT2tqlsUui9NPD84DTjBdQ5jijWaJYtuHnzyK+vJ4m3LnMXZNDX/rKKhaqyUltaTIrJd1w0R2ZaEnja7BGcDjX7qc5Mi/2WNUdNafr3t2W0HPaBKc4lPfxc4vRq5aqmYHfHPEu3DGghsArwe3x4HPK+qE6sdspo8P/guUYdZY1JlDIvfvmXwSW+uLUu3LvIp36KpORVjZvWmmKI1rrfHVfW1iiaqMc8PBhD9kpimESaN+Z/jBtww73v9/zJJhGG9TPYUsBVNzak//rZiJ2tNM88PtiY6vdEA11mMKcdYefeNWwadtGhN+XDLbh5WYDpNzfNrnasa6vYUYqUIs5nHgLNc5zCmXK/r2utt1XLJpCvbd79PdaVfxX9XLwULrGjlOhVI++mfTEMTOa39azN2bj1nUbOu+mx8Zwik+tfCfFa0YmE20wocCaRt5ApjPuVlXXfcpJbLJlzX/sW5RDvf62rUXitaOcJs5klSOFSHMfmUfv1+3v6tBTQ13+U6S6VZ0VrZL4EnXYcwpo9eIBqws+5Y0coTZjNtRJuJaTlXnTH52oDDwmxmhesg1WBFqxthNvMMcJLrHMaU6ZQwm3ncdYhqsaLVgzCbOQu4yXUOY0r0V+p8v6wVrd4diXWDMOnxPNFmYV33GLce8QV4frA+8CiwpussxvRiCbBNmM38x3WQarOWVgFhNvMqcBDR+eGMSaIO4KBGKFhgRasoYTZzNykfOM3UtePDbOYfrkPUim0elsDzg1nA4a5zGJNjVpjNHOk6RC1ZS6s0RxPt3zImCR4mWicbihWtEoTZzMfAXsBLrrOYhvcysF+YzbS4DlJrVrRKFGYz7wI7AwtdZzENKwS+GGYztTiha+JY0SpDmM28DuyCjS9vam8hUcFq2C9NK1plCrOZfwO7EfWPMaYW3gJ2DLOZ0HUQl6xo9UGYzTxFtKlohctU27tEBash+mL1xopWH4XZzBNEm4pWuEy1LAZ2ilv3Dc+KVgXER9TvAix1HMXUn/eBncNsZoHrIElhRatC4sI1jei8kMZUwptEm4RPuw6SJFa0Kij+NtwWqNuxjEzNPAlsawVrZVa0KizMZt4BZhCNa2RMOW4HpofZzJuugySRFa0qCLOZ5cB+wK9dZzGpcxGwb5jN1NUZdCrJDpiuMs8Pfgicj31BmN51Aj8Osxn7oivAilYNeH6wN3AdsKrrLCaRlgMHh9nM7a6DpIEVrRrx/GBL4HpgY9dZTKK8ChwQn3PTFME2WWokXiknA1e5zmIS4yZgSytYpbGWlgOeH3wFuBQY4TiKceNj4EdhNnOp6yBpZEXLEc8PxgLXEnVINY3jWeDQMJt51nWQtLLNQ0fi4W1mAk3YSTMaQSdwNrC1Fay+sZZWAnh+MJWo1eU5jmKqIwQOD7OZea6D1ANraSVAmM08CEwkOjNwww2fW8fagHOAz1vBqhxraSWM5wcbAhcCe7jOYvrkDqKd7TacTIVZ0Uoozw/2BC4ANnAcxZTmFaKe7XbsaZXY5mFCxb2jJwAnAh85jmMK+wg4AdjMClZ1WUsrBeLuEecBX3adxXTrRuC4Rj7ZRC1Z0UoRzw8mAycB+7jOYlDgFuDMMJt5zHWYRmJFK4U8P5hEVLz2BcRpmMbTRtQ95awwm3nBdZhGZEUrxTw/mAAcDxwCDHQcp96tAK4Azo07BhtHrGjVAc8P1gV+DHwbGOY4Tr1ZClwMXBhmM4scZzFY0aornh8MBQ4EjgCmY5uOfTEfmA1cH2YzH7oOYz5hRatOeX6wPnB4fBnvOE5avApcDcwOs5mXXYcx3bOiVec8PxBgB6LW14HY5mO+D4A/EbWq5oXZjH0gEs6KVgPx/GBVol8c9yA6uexop4HcaQb+AdwM3BpmMysc5zElsKLVoOIW2CRg1/gyDRjkMlMVKfAMMCe+PBhmM+1uI5lyWdEywP9aYTOJCthuwKZOA/XdC8A9wL3A3DCbWew4j6kQK1qmW54fDAc2B7bI+TsRWM1lrm4sBxYQtaSe7fobZjPvOU1lqsaKlima5wf9iEad6CpimwHrAesCnwEGVOmllwP/jS8LiYpTV4F6xXaeNxYrWqYi4oK2NrAOsCawVs7f3PM9St7frusKvM8nxendruvxGbuNAaxoGWNSxsbTMsakihUtY0yqWNEyxqSKFS1jTKpY0TLGpIoVLWNMqljRMsakihUtY0yqWNEyxqSKFS1jTKpY0TLGpIoVLWNMqljRMsakihUtY0yqWNEyxqSKFS1jTKpY0TLGpIoVLWNMqljRMsakihUtY0yqWNEyxqSKFS1jTKpY0TLGpIoVLWNMqljRMsakihUtY0yqWNEyxqSKFS1jTKpY0TLGpIoVLWNMqljRMsakihUtY0yqWNEyxqTK/weDJpqoX9ib3gAAAABJRU5ErkJggg==",
      "text/plain": [
       "<Figure size 360x360 with 1 Axes>"
      ]
     },
     "metadata": {},
     "output_type": "display_data"
    }
   ],
   "source": [
    "#pie chart showing proportion of trips by bike_share_for_all_trip\n",
    "\n",
    "pie_plot(bike_clean, 'bike_share_for_all_trip', 'Proportion of Trips by bike_share_for_all_trip')"
   ]
  },
  {
   "cell_type": "markdown",
   "metadata": {},
   "source": [
    "> Most people dont use bike share for all their trips"
   ]
  },
  {
   "cell_type": "markdown",
   "metadata": {},
   "source": [
    "### Important note during the Univariate exploration\n",
    " > The distribution of the **duration_sec** column was highly skewed to the right so I had to use log transformation to reduce the skewness while keeping the outliers in the distribution. After the log transformation we can then see a normal distribution in the data, using the box plot also we can clearly see that there is quite a lot of outliers in the data also."
   ]
  },
  {
   "cell_type": "markdown",
   "metadata": {},
   "source": [
    "## Bivariate Exploration\n"
   ]
  },
  {
   "cell_type": "markdown",
   "metadata": {},
   "source": [
    "> I'll be checking for relationships among two variables/features in this section"
   ]
  },
  {
   "cell_type": "markdown",
   "metadata": {},
   "source": [
    "##### How long does the average trip take & Does it depend on if a user is a subscriber or customer?"
   ]
  },
  {
   "cell_type": "code",
   "execution_count": 239,
   "metadata": {},
   "outputs": [
    {
     "data": {
      "image/png": "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",
      "text/plain": [
       "<Figure size 1008x360 with 1 Axes>"
      ]
     },
     "metadata": {
      "needs_background": "light"
     },
     "output_type": "display_data"
    }
   ],
   "source": [
    "#bar chart showing count of trips taken by subscribers/customers\n",
    "\n",
    "bar_plot(bike_clean, 'user_type', 'Trips Taken by User Type')"
   ]
  },
  {
   "cell_type": "code",
   "execution_count": 240,
   "metadata": {},
   "outputs": [
    {
     "data": {
      "text/html": [
       "<div>\n",
       "<style scoped>\n",
       "    .dataframe tbody tr th:only-of-type {\n",
       "        vertical-align: middle;\n",
       "    }\n",
       "\n",
       "    .dataframe tbody tr th {\n",
       "        vertical-align: top;\n",
       "    }\n",
       "\n",
       "    .dataframe thead th {\n",
       "        text-align: right;\n",
       "    }\n",
       "</style>\n",
       "<table border=\"1\" class=\"dataframe\">\n",
       "  <thead>\n",
       "    <tr style=\"text-align: right;\">\n",
       "      <th></th>\n",
       "      <th>user_type</th>\n",
       "      <th>duration_sec</th>\n",
       "    </tr>\n",
       "  </thead>\n",
       "  <tbody>\n",
       "    <tr>\n",
       "      <th>0</th>\n",
       "      <td>Customer</td>\n",
       "      <td>52185</td>\n",
       "    </tr>\n",
       "    <tr>\n",
       "      <th>1</th>\n",
       "      <td>Customer</td>\n",
       "      <td>42521</td>\n",
       "    </tr>\n",
       "    <tr>\n",
       "      <th>2</th>\n",
       "      <td>Customer</td>\n",
       "      <td>61854</td>\n",
       "    </tr>\n",
       "  </tbody>\n",
       "</table>\n",
       "</div>"
      ],
      "text/plain": [
       "  user_type  duration_sec\n",
       "0  Customer         52185\n",
       "1  Customer         42521\n",
       "2  Customer         61854"
      ]
     },
     "execution_count": 240,
     "metadata": {},
     "output_type": "execute_result"
    }
   ],
   "source": [
    "#creating a subset of the data\n",
    "\n",
    "trip_by_user = bike_clean[['user_type', 'duration_sec']]\n",
    "\n",
    "trip_by_user.head(3)"
   ]
  },
  {
   "cell_type": "code",
   "execution_count": 241,
   "metadata": {},
   "outputs": [
    {
     "data": {
      "image/png": "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",
      "text/plain": [
       "<Figure size 576x576 with 1 Axes>"
      ]
     },
     "metadata": {
      "needs_background": "light"
     },
     "output_type": "display_data"
    }
   ],
   "source": [
    "#getting the average trip duration and plotting on a bar chart\n",
    "\n",
    "trip_by_user.groupby('user_type').mean().plot.bar(figsize = (8, 8), color = 'blue')\n",
    "plt.title('Average Trip Duration by User Type');"
   ]
  },
  {
   "cell_type": "markdown",
   "metadata": {},
   "source": [
    "> Even though from the first chart we can see that Subscribers take more trips, On average **Customers** take a longer trip than Subscribers."
   ]
  },
  {
   "cell_type": "markdown",
   "metadata": {},
   "source": [
    "##### Does a particular age group subscribe more?"
   ]
  },
  {
   "cell_type": "code",
   "execution_count": 242,
   "metadata": {},
   "outputs": [
    {
     "data": {
      "text/html": [
       "<div>\n",
       "<style scoped>\n",
       "    .dataframe tbody tr th:only-of-type {\n",
       "        vertical-align: middle;\n",
       "    }\n",
       "\n",
       "    .dataframe tbody tr th {\n",
       "        vertical-align: top;\n",
       "    }\n",
       "\n",
       "    .dataframe thead th {\n",
       "        text-align: right;\n",
       "    }\n",
       "</style>\n",
       "<table border=\"1\" class=\"dataframe\">\n",
       "  <thead>\n",
       "    <tr style=\"text-align: right;\">\n",
       "      <th></th>\n",
       "      <th>duration_sec</th>\n",
       "      <th>start_time</th>\n",
       "      <th>end_time</th>\n",
       "      <th>start_station_id</th>\n",
       "      <th>start_station_name</th>\n",
       "      <th>end_station_id</th>\n",
       "      <th>end_station_name</th>\n",
       "      <th>bike_id</th>\n",
       "      <th>user_type</th>\n",
       "      <th>member_birth_year</th>\n",
       "      <th>member_gender</th>\n",
       "      <th>bike_share_for_all_trip</th>\n",
       "      <th>age</th>\n",
       "      <th>age_group</th>\n",
       "      <th>trip_day</th>\n",
       "      <th>trip_month</th>\n",
       "      <th>trip_time</th>\n",
       "      <th>trip_week</th>\n",
       "    </tr>\n",
       "  </thead>\n",
       "  <tbody>\n",
       "    <tr>\n",
       "      <th>3</th>\n",
       "      <td>36490</td>\n",
       "      <td>2019-02-28 17:54:26.010</td>\n",
       "      <td>2019-03-01 04:02:36.842</td>\n",
       "      <td>375</td>\n",
       "      <td>Grove St at Masonic Ave</td>\n",
       "      <td>70</td>\n",
       "      <td>Central Ave at Fell St</td>\n",
       "      <td>6638</td>\n",
       "      <td>Subscriber</td>\n",
       "      <td>1989-01-01</td>\n",
       "      <td>Other</td>\n",
       "      <td>No</td>\n",
       "      <td>30</td>\n",
       "      <td>31 - 50yrs</td>\n",
       "      <td>Thursday</td>\n",
       "      <td>February</td>\n",
       "      <td>05PM</td>\n",
       "      <td>Week 5</td>\n",
       "    </tr>\n",
       "    <tr>\n",
       "      <th>4</th>\n",
       "      <td>1585</td>\n",
       "      <td>2019-02-28 23:54:18.549</td>\n",
       "      <td>2019-03-01 00:20:44.074</td>\n",
       "      <td>7</td>\n",
       "      <td>Frank H Ogawa Plaza</td>\n",
       "      <td>222</td>\n",
       "      <td>10th Ave at E 15th St</td>\n",
       "      <td>4898</td>\n",
       "      <td>Subscriber</td>\n",
       "      <td>1974-01-01</td>\n",
       "      <td>Male</td>\n",
       "      <td>Yes</td>\n",
       "      <td>45</td>\n",
       "      <td>31 - 50yrs</td>\n",
       "      <td>Thursday</td>\n",
       "      <td>February</td>\n",
       "      <td>11PM</td>\n",
       "      <td>Week 5</td>\n",
       "    </tr>\n",
       "    <tr>\n",
       "      <th>5</th>\n",
       "      <td>1793</td>\n",
       "      <td>2019-02-28 23:49:58.632</td>\n",
       "      <td>2019-03-01 00:19:51.760</td>\n",
       "      <td>93</td>\n",
       "      <td>4th St at Mission Bay Blvd S</td>\n",
       "      <td>323</td>\n",
       "      <td>Broadway at Kearny</td>\n",
       "      <td>5200</td>\n",
       "      <td>Subscriber</td>\n",
       "      <td>1959-01-01</td>\n",
       "      <td>Male</td>\n",
       "      <td>No</td>\n",
       "      <td>60</td>\n",
       "      <td>51 - 70yrs</td>\n",
       "      <td>Thursday</td>\n",
       "      <td>February</td>\n",
       "      <td>11PM</td>\n",
       "      <td>Week 5</td>\n",
       "    </tr>\n",
       "  </tbody>\n",
       "</table>\n",
       "</div>"
      ],
      "text/plain": [
       "   duration_sec              start_time                end_time  \\\n",
       "3         36490 2019-02-28 17:54:26.010 2019-03-01 04:02:36.842   \n",
       "4          1585 2019-02-28 23:54:18.549 2019-03-01 00:20:44.074   \n",
       "5          1793 2019-02-28 23:49:58.632 2019-03-01 00:19:51.760   \n",
       "\n",
       "   start_station_id            start_station_name  end_station_id  \\\n",
       "3               375       Grove St at Masonic Ave              70   \n",
       "4                 7           Frank H Ogawa Plaza             222   \n",
       "5                93  4th St at Mission Bay Blvd S             323   \n",
       "\n",
       "         end_station_name  bike_id   user_type member_birth_year  \\\n",
       "3  Central Ave at Fell St     6638  Subscriber        1989-01-01   \n",
       "4   10th Ave at E 15th St     4898  Subscriber        1974-01-01   \n",
       "5      Broadway at Kearny     5200  Subscriber        1959-01-01   \n",
       "\n",
       "  member_gender bike_share_for_all_trip  age   age_group  trip_day trip_month  \\\n",
       "3         Other                      No   30  31 - 50yrs  Thursday   February   \n",
       "4          Male                     Yes   45  31 - 50yrs  Thursday   February   \n",
       "5          Male                      No   60  51 - 70yrs  Thursday   February   \n",
       "\n",
       "  trip_time trip_week  \n",
       "3      05PM    Week 5  \n",
       "4      11PM    Week 5  \n",
       "5      11PM    Week 5  "
      ]
     },
     "execution_count": 242,
     "metadata": {},
     "output_type": "execute_result"
    }
   ],
   "source": [
    "#create a subset of the data\n",
    "\n",
    "subscribers = bike_clean[bike_clean['user_type'] == 'Subscriber']\n",
    "\n",
    "subscribers.head(3)"
   ]
  },
  {
   "cell_type": "code",
   "execution_count": 243,
   "metadata": {},
   "outputs": [],
   "source": [
    "#subset of the subscribers by age group\n",
    "\n",
    "sub_age_group = subscribers[['user_type', 'age_group']]"
   ]
  },
  {
   "cell_type": "code",
   "execution_count": 244,
   "metadata": {},
   "outputs": [
    {
     "data": {
      "image/png": "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",
      "text/plain": [
       "<Figure size 1008x360 with 1 Axes>"
      ]
     },
     "metadata": {
      "needs_background": "light"
     },
     "output_type": "display_data"
    }
   ],
   "source": [
    "#bar plot of number of subscribers by age group\n",
    "\n",
    "bar_plot(sub_age_group, 'age_group', 'Number of Subscribers by Age Group')"
   ]
  },
  {
   "cell_type": "markdown",
   "metadata": {},
   "source": [
    "> **31 - 50yrs** age group tend to subscribe more"
   ]
  },
  {
   "cell_type": "markdown",
   "metadata": {},
   "source": [
    "##### Is there a particular time an age group take more trips?"
   ]
  },
  {
   "cell_type": "code",
   "execution_count": 245,
   "metadata": {
    "scrolled": true
   },
   "outputs": [
    {
     "data": {
      "text/html": [
       "<div>\n",
       "<style scoped>\n",
       "    .dataframe tbody tr th:only-of-type {\n",
       "        vertical-align: middle;\n",
       "    }\n",
       "\n",
       "    .dataframe tbody tr th {\n",
       "        vertical-align: top;\n",
       "    }\n",
       "\n",
       "    .dataframe thead th {\n",
       "        text-align: right;\n",
       "    }\n",
       "</style>\n",
       "<table border=\"1\" class=\"dataframe\">\n",
       "  <thead>\n",
       "    <tr style=\"text-align: right;\">\n",
       "      <th></th>\n",
       "      <th>age_group</th>\n",
       "      <th>trip_time</th>\n",
       "    </tr>\n",
       "  </thead>\n",
       "  <tbody>\n",
       "    <tr>\n",
       "      <th>0</th>\n",
       "      <td>31 - 50yrs</td>\n",
       "      <td>05PM</td>\n",
       "    </tr>\n",
       "    <tr>\n",
       "      <th>1</th>\n",
       "      <td>31 - 50yrs</td>\n",
       "      <td>06PM</td>\n",
       "    </tr>\n",
       "    <tr>\n",
       "      <th>2</th>\n",
       "      <td>31 - 50yrs</td>\n",
       "      <td>12PM</td>\n",
       "    </tr>\n",
       "  </tbody>\n",
       "</table>\n",
       "</div>"
      ],
      "text/plain": [
       "    age_group trip_time\n",
       "0  31 - 50yrs      05PM\n",
       "1  31 - 50yrs      06PM\n",
       "2  31 - 50yrs      12PM"
      ]
     },
     "execution_count": 245,
     "metadata": {},
     "output_type": "execute_result"
    }
   ],
   "source": [
    "#subset of data\n",
    "\n",
    "trip_time_age_group = bike_clean[['age_group', 'trip_time']]\n",
    "trip_time_age_group.head(3)"
   ]
  },
  {
   "cell_type": "code",
   "execution_count": 246,
   "metadata": {
    "scrolled": false
   },
   "outputs": [
    {
     "data": {
      "text/html": [
       "<div>\n",
       "<style scoped>\n",
       "    .dataframe tbody tr th:only-of-type {\n",
       "        vertical-align: middle;\n",
       "    }\n",
       "\n",
       "    .dataframe tbody tr th {\n",
       "        vertical-align: top;\n",
       "    }\n",
       "\n",
       "    .dataframe thead th {\n",
       "        text-align: right;\n",
       "    }\n",
       "</style>\n",
       "<table border=\"1\" class=\"dataframe\">\n",
       "  <thead>\n",
       "    <tr style=\"text-align: right;\">\n",
       "      <th></th>\n",
       "      <th>age_group</th>\n",
       "      <th>trip_time</th>\n",
       "      <th>counts</th>\n",
       "    </tr>\n",
       "  </thead>\n",
       "  <tbody>\n",
       "    <tr>\n",
       "      <th>17</th>\n",
       "      <td>18 - 30yrs</td>\n",
       "      <td>05PM</td>\n",
       "      <td>7234</td>\n",
       "    </tr>\n",
       "    <tr>\n",
       "      <th>32</th>\n",
       "      <td>31 - 50yrs</td>\n",
       "      <td>08AM</td>\n",
       "      <td>12934</td>\n",
       "    </tr>\n",
       "    <tr>\n",
       "      <th>65</th>\n",
       "      <td>51 - 70yrs</td>\n",
       "      <td>05PM</td>\n",
       "      <td>1751</td>\n",
       "    </tr>\n",
       "    <tr>\n",
       "      <th>85</th>\n",
       "      <td>71 - 90yrs</td>\n",
       "      <td>01PM</td>\n",
       "      <td>73</td>\n",
       "    </tr>\n",
       "    <tr>\n",
       "      <th>114</th>\n",
       "      <td>90yrs+</td>\n",
       "      <td>06PM</td>\n",
       "      <td>12</td>\n",
       "    </tr>\n",
       "  </tbody>\n",
       "</table>\n",
       "</div>"
      ],
      "text/plain": [
       "      age_group trip_time  counts\n",
       "17   18 - 30yrs      05PM    7234\n",
       "32   31 - 50yrs      08AM   12934\n",
       "65   51 - 70yrs      05PM    1751\n",
       "85   71 - 90yrs      01PM      73\n",
       "114      90yrs+      06PM      12"
      ]
     },
     "execution_count": 246,
     "metadata": {},
     "output_type": "execute_result"
    }
   ],
   "source": [
    "#get count of trips for each trip_time and age_group\n",
    "\n",
    "trip_time_age_group = trip_time_age_group.groupby(['age_group', 'trip_time']).size().reset_index(name = 'counts')\n",
    "\n",
    "#get when most trips are taken by age group\n",
    "trip_time_age_group = trip_time_age_group.loc[trip_time_age_group.groupby('age_group')['counts'].transform('max').eq(trip_time_age_group['counts'])]\n",
    "trip_time_age_group"
   ]
  },
  {
   "cell_type": "code",
   "execution_count": 247,
   "metadata": {
    "scrolled": false
   },
   "outputs": [
    {
     "data": {
      "image/png": "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",
      "text/plain": [
       "<Figure size 864x360 with 1 Axes>"
      ]
     },
     "metadata": {
      "needs_background": "light"
     },
     "output_type": "display_data"
    }
   ],
   "source": [
    "#plot showing the number of trips for eah trip_time by age_group\n",
    "\n",
    "plt.figure(figsize = (12, 5))\n",
    "\n",
    "sns.barplot(data = trip_time_age_group, x = 'trip_time', y = \"counts\", hue = 'age_group')\n",
    "plt.title('Trip Time with Most Trips by Age Group')\n",
    "plt.legend(bbox_to_anchor=(1, 1));"
   ]
  },
  {
   "cell_type": "markdown",
   "metadata": {},
   "source": [
    "> **31 - 50yrs** people make most trips by 8am in the morning followed by **18 - 20yrs** that take more trips in the evening at 5pm"
   ]
  },
  {
   "cell_type": "markdown",
   "metadata": {},
   "source": [
    "##### Do trips taken in a particular time of day last longer?"
   ]
  },
  {
   "cell_type": "code",
   "execution_count": 248,
   "metadata": {},
   "outputs": [
    {
     "data": {
      "text/html": [
       "<div>\n",
       "<style scoped>\n",
       "    .dataframe tbody tr th:only-of-type {\n",
       "        vertical-align: middle;\n",
       "    }\n",
       "\n",
       "    .dataframe tbody tr th {\n",
       "        vertical-align: top;\n",
       "    }\n",
       "\n",
       "    .dataframe thead th {\n",
       "        text-align: right;\n",
       "    }\n",
       "</style>\n",
       "<table border=\"1\" class=\"dataframe\">\n",
       "  <thead>\n",
       "    <tr style=\"text-align: right;\">\n",
       "      <th></th>\n",
       "      <th>trip_time</th>\n",
       "      <th>duration_sec</th>\n",
       "    </tr>\n",
       "  </thead>\n",
       "  <tbody>\n",
       "    <tr>\n",
       "      <th>0</th>\n",
       "      <td>05PM</td>\n",
       "      <td>52185</td>\n",
       "    </tr>\n",
       "    <tr>\n",
       "      <th>1</th>\n",
       "      <td>06PM</td>\n",
       "      <td>42521</td>\n",
       "    </tr>\n",
       "    <tr>\n",
       "      <th>2</th>\n",
       "      <td>12PM</td>\n",
       "      <td>61854</td>\n",
       "    </tr>\n",
       "  </tbody>\n",
       "</table>\n",
       "</div>"
      ],
      "text/plain": [
       "  trip_time  duration_sec\n",
       "0      05PM         52185\n",
       "1      06PM         42521\n",
       "2      12PM         61854"
      ]
     },
     "execution_count": 248,
     "metadata": {},
     "output_type": "execute_result"
    }
   ],
   "source": [
    "#create subset of the data\n",
    "\n",
    "trip_time_duration = bike_clean[['trip_time', 'duration_sec']]\n",
    "\n",
    "trip_time_duration.head(3)"
   ]
  },
  {
   "cell_type": "code",
   "execution_count": 249,
   "metadata": {},
   "outputs": [
    {
     "data": {
      "text/html": [
       "<div>\n",
       "<style scoped>\n",
       "    .dataframe tbody tr th:only-of-type {\n",
       "        vertical-align: middle;\n",
       "    }\n",
       "\n",
       "    .dataframe tbody tr th {\n",
       "        vertical-align: top;\n",
       "    }\n",
       "\n",
       "    .dataframe thead th {\n",
       "        text-align: right;\n",
       "    }\n",
       "</style>\n",
       "<table border=\"1\" class=\"dataframe\">\n",
       "  <thead>\n",
       "    <tr style=\"text-align: right;\">\n",
       "      <th></th>\n",
       "      <th>trip_time</th>\n",
       "      <th>average_duration</th>\n",
       "    </tr>\n",
       "  </thead>\n",
       "  <tbody>\n",
       "    <tr>\n",
       "      <th>3</th>\n",
       "      <td>03AM</td>\n",
       "      <td>1482.500000</td>\n",
       "    </tr>\n",
       "    <tr>\n",
       "      <th>2</th>\n",
       "      <td>02AM</td>\n",
       "      <td>1177.765789</td>\n",
       "    </tr>\n",
       "    <tr>\n",
       "      <th>13</th>\n",
       "      <td>01PM</td>\n",
       "      <td>885.689720</td>\n",
       "    </tr>\n",
       "  </tbody>\n",
       "</table>\n",
       "</div>"
      ],
      "text/plain": [
       "   trip_time  average_duration\n",
       "3       03AM       1482.500000\n",
       "2       02AM       1177.765789\n",
       "13      01PM        885.689720"
      ]
     },
     "execution_count": 249,
     "metadata": {},
     "output_type": "execute_result"
    }
   ],
   "source": [
    "#get the average trip duration for each trip time\n",
    "\n",
    "trip_time_duration = trip_time_duration.groupby('trip_time').mean().reset_index()\n",
    "trip_time_duration = trip_time_duration.rename(columns = {'duration_sec': 'average_duration'}).sort_values(by = 'average_duration', ascending = False)\n",
    "\n",
    "#view data\n",
    "trip_time_duration.head(3)"
   ]
  },
  {
   "cell_type": "code",
   "execution_count": 250,
   "metadata": {
    "scrolled": false
   },
   "outputs": [
    {
     "data": {
      "image/png": "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",
      "text/plain": [
       "<Figure size 1080x360 with 1 Axes>"
      ]
     },
     "metadata": {
      "needs_background": "light"
     },
     "output_type": "display_data"
    }
   ],
   "source": [
    "#bar chart showing the average trip duration for each trip_time\n",
    "\n",
    "plt.figure(figsize = (15, 5))\n",
    "sns.barplot(data = trip_time_duration, x = 'trip_time', y = 'average_duration', color = 'blue')\n",
    "plt.title('Average Trip Duration for each Trip Time')\n",
    "plt.xticks(rotation = 15);"
   ]
  },
  {
   "cell_type": "markdown",
   "metadata": {},
   "source": [
    "> It came as a surprise but on average longer trips were taken very very early in the morning by **3AM** & **2AM**"
   ]
  },
  {
   "cell_type": "markdown",
   "metadata": {},
   "source": [
    "##### Is there a relationship between trip_time and duration of trips?"
   ]
  },
  {
   "cell_type": "code",
   "execution_count": 251,
   "metadata": {},
   "outputs": [
    {
     "name": "stderr",
     "output_type": "stream",
     "text": [
      "C:\\Users\\Phantom\\AppData\\Local\\Temp/ipykernel_10608/3432747293.py:8: SettingWithCopyWarning: \n",
      "A value is trying to be set on a copy of a slice from a DataFrame.\n",
      "Try using .loc[row_indexer,col_indexer] = value instead\n",
      "\n",
      "See the caveats in the documentation: https://pandas.pydata.org/pandas-docs/stable/user_guide/indexing.html#returning-a-view-versus-a-copy\n",
      "  trip_time_duration['trip_time'] = pd.to_datetime(bike_clean['start_time']).dt.hour.astype(int)\n"
     ]
    },
    {
     "data": {
      "text/html": [
       "<div>\n",
       "<style scoped>\n",
       "    .dataframe tbody tr th:only-of-type {\n",
       "        vertical-align: middle;\n",
       "    }\n",
       "\n",
       "    .dataframe tbody tr th {\n",
       "        vertical-align: top;\n",
       "    }\n",
       "\n",
       "    .dataframe thead th {\n",
       "        text-align: right;\n",
       "    }\n",
       "</style>\n",
       "<table border=\"1\" class=\"dataframe\">\n",
       "  <thead>\n",
       "    <tr style=\"text-align: right;\">\n",
       "      <th></th>\n",
       "      <th>duration_sec</th>\n",
       "      <th>trip_time</th>\n",
       "    </tr>\n",
       "  </thead>\n",
       "  <tbody>\n",
       "    <tr>\n",
       "      <th>0</th>\n",
       "      <td>52185</td>\n",
       "      <td>17</td>\n",
       "    </tr>\n",
       "    <tr>\n",
       "      <th>1</th>\n",
       "      <td>42521</td>\n",
       "      <td>18</td>\n",
       "    </tr>\n",
       "    <tr>\n",
       "      <th>2</th>\n",
       "      <td>61854</td>\n",
       "      <td>12</td>\n",
       "    </tr>\n",
       "  </tbody>\n",
       "</table>\n",
       "</div>"
      ],
      "text/plain": [
       "   duration_sec  trip_time\n",
       "0         52185         17\n",
       "1         42521         18\n",
       "2         61854         12"
      ]
     },
     "execution_count": 251,
     "metadata": {},
     "output_type": "execute_result"
    }
   ],
   "source": [
    "#create subset of the data\n",
    "\n",
    "trip_time_duration = bike_clean[['duration_sec']]\n",
    "\n",
    "#For the trip_time I converted the trip hour to integers(in the 24hour format)\n",
    "#so the correlation and scatterplot can be properly calculated\n",
    "\n",
    "trip_time_duration['trip_time'] = pd.to_datetime(bike_clean['start_time']).dt.hour.astype(int)\n",
    "trip_time_duration.head(3)"
   ]
  },
  {
   "cell_type": "code",
   "execution_count": 252,
   "metadata": {},
   "outputs": [],
   "source": [
    "#function for scatterplot\n",
    "\n",
    "def scatter_plot(data, x, y, title):\n",
    "    data.plot.scatter(y = y, x = x, figsize = (8, 8), marker = 'o', alpha = 0.1)\n",
    "    plt.title(title)"
   ]
  },
  {
   "cell_type": "markdown",
   "metadata": {},
   "source": [
    "##### Does age affect the duration of trips?"
   ]
  },
  {
   "cell_type": "code",
   "execution_count": 253,
   "metadata": {},
   "outputs": [
    {
     "data": {
      "text/html": [
       "<div>\n",
       "<style scoped>\n",
       "    .dataframe tbody tr th:only-of-type {\n",
       "        vertical-align: middle;\n",
       "    }\n",
       "\n",
       "    .dataframe tbody tr th {\n",
       "        vertical-align: top;\n",
       "    }\n",
       "\n",
       "    .dataframe thead th {\n",
       "        text-align: right;\n",
       "    }\n",
       "</style>\n",
       "<table border=\"1\" class=\"dataframe\">\n",
       "  <thead>\n",
       "    <tr style=\"text-align: right;\">\n",
       "      <th></th>\n",
       "      <th>age</th>\n",
       "      <th>duration_sec</th>\n",
       "    </tr>\n",
       "  </thead>\n",
       "  <tbody>\n",
       "    <tr>\n",
       "      <th>0</th>\n",
       "      <td>35</td>\n",
       "      <td>52185</td>\n",
       "    </tr>\n",
       "    <tr>\n",
       "      <th>1</th>\n",
       "      <td>31</td>\n",
       "      <td>42521</td>\n",
       "    </tr>\n",
       "    <tr>\n",
       "      <th>2</th>\n",
       "      <td>47</td>\n",
       "      <td>61854</td>\n",
       "    </tr>\n",
       "  </tbody>\n",
       "</table>\n",
       "</div>"
      ],
      "text/plain": [
       "   age  duration_sec\n",
       "0   35         52185\n",
       "1   31         42521\n",
       "2   47         61854"
      ]
     },
     "execution_count": 253,
     "metadata": {},
     "output_type": "execute_result"
    }
   ],
   "source": [
    "#create a subset of the data\n",
    "\n",
    "age_trip_duration = bike_clean[['age', 'duration_sec']]\n",
    "age_trip_duration.head(3)"
   ]
  },
  {
   "cell_type": "code",
   "execution_count": 254,
   "metadata": {},
   "outputs": [
    {
     "data": {
      "image/png": "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",
      "text/plain": [
       "<Figure size 576x576 with 1 Axes>"
      ]
     },
     "metadata": {
      "needs_background": "light"
     },
     "output_type": "display_data"
    }
   ],
   "source": [
    "#scatter plot for age vs duration_sec\n",
    "\n",
    "scatter_plot(age_trip_duration, y = 'duration_sec', x = 'age', title = 'Age VS Duration of Trip')"
   ]
  },
  {
   "cell_type": "code",
   "execution_count": 255,
   "metadata": {
    "scrolled": true
   },
   "outputs": [
    {
     "data": {
      "text/html": [
       "<div>\n",
       "<style scoped>\n",
       "    .dataframe tbody tr th:only-of-type {\n",
       "        vertical-align: middle;\n",
       "    }\n",
       "\n",
       "    .dataframe tbody tr th {\n",
       "        vertical-align: top;\n",
       "    }\n",
       "\n",
       "    .dataframe thead th {\n",
       "        text-align: right;\n",
       "    }\n",
       "</style>\n",
       "<table border=\"1\" class=\"dataframe\">\n",
       "  <thead>\n",
       "    <tr style=\"text-align: right;\">\n",
       "      <th></th>\n",
       "      <th>age</th>\n",
       "      <th>duration_sec</th>\n",
       "    </tr>\n",
       "  </thead>\n",
       "  <tbody>\n",
       "    <tr>\n",
       "      <th>age</th>\n",
       "      <td>1.000000</td>\n",
       "      <td>0.001631</td>\n",
       "    </tr>\n",
       "    <tr>\n",
       "      <th>duration_sec</th>\n",
       "      <td>0.001631</td>\n",
       "      <td>1.000000</td>\n",
       "    </tr>\n",
       "  </tbody>\n",
       "</table>\n",
       "</div>"
      ],
      "text/plain": [
       "                   age  duration_sec\n",
       "age           1.000000      0.001631\n",
       "duration_sec  0.001631      1.000000"
      ]
     },
     "execution_count": 255,
     "metadata": {},
     "output_type": "execute_result"
    }
   ],
   "source": [
    "#correlation of age and trip duration\n",
    "\n",
    "age_trip_duration.corr()"
   ]
  },
  {
   "cell_type": "markdown",
   "metadata": {},
   "source": [
    "> From the scatter plot and **correlation coefficient of 0.0016** it is safe to say there is no relationship between the duration of a trip and the age of the user"
   ]
  },
  {
   "cell_type": "markdown",
   "metadata": {},
   "source": [
    "##### Does gender affect the trip duration?"
   ]
  },
  {
   "cell_type": "code",
   "execution_count": 256,
   "metadata": {},
   "outputs": [
    {
     "data": {
      "text/html": [
       "<div>\n",
       "<style scoped>\n",
       "    .dataframe tbody tr th:only-of-type {\n",
       "        vertical-align: middle;\n",
       "    }\n",
       "\n",
       "    .dataframe tbody tr th {\n",
       "        vertical-align: top;\n",
       "    }\n",
       "\n",
       "    .dataframe thead th {\n",
       "        text-align: right;\n",
       "    }\n",
       "</style>\n",
       "<table border=\"1\" class=\"dataframe\">\n",
       "  <thead>\n",
       "    <tr style=\"text-align: right;\">\n",
       "      <th></th>\n",
       "      <th>member_gender</th>\n",
       "      <th>duration_sec</th>\n",
       "    </tr>\n",
       "  </thead>\n",
       "  <tbody>\n",
       "    <tr>\n",
       "      <th>0</th>\n",
       "      <td>Male</td>\n",
       "      <td>52185</td>\n",
       "    </tr>\n",
       "    <tr>\n",
       "      <th>1</th>\n",
       "      <td>Male</td>\n",
       "      <td>42521</td>\n",
       "    </tr>\n",
       "    <tr>\n",
       "      <th>2</th>\n",
       "      <td>Male</td>\n",
       "      <td>61854</td>\n",
       "    </tr>\n",
       "  </tbody>\n",
       "</table>\n",
       "</div>"
      ],
      "text/plain": [
       "  member_gender  duration_sec\n",
       "0          Male         52185\n",
       "1          Male         42521\n",
       "2          Male         61854"
      ]
     },
     "execution_count": 256,
     "metadata": {},
     "output_type": "execute_result"
    }
   ],
   "source": [
    "#create subset of data\n",
    "\n",
    "gender_trip_duation = bike_clean[['member_gender', 'duration_sec']]\n",
    "gender_trip_duation.head(3)"
   ]
  },
  {
   "cell_type": "code",
   "execution_count": 257,
   "metadata": {},
   "outputs": [
    {
     "data": {
      "text/html": [
       "<div>\n",
       "<style scoped>\n",
       "    .dataframe tbody tr th:only-of-type {\n",
       "        vertical-align: middle;\n",
       "    }\n",
       "\n",
       "    .dataframe tbody tr th {\n",
       "        vertical-align: top;\n",
       "    }\n",
       "\n",
       "    .dataframe thead th {\n",
       "        text-align: right;\n",
       "    }\n",
       "</style>\n",
       "<table border=\"1\" class=\"dataframe\">\n",
       "  <thead>\n",
       "    <tr style=\"text-align: right;\">\n",
       "      <th></th>\n",
       "      <th>member_gender</th>\n",
       "      <th>average_duration</th>\n",
       "    </tr>\n",
       "  </thead>\n",
       "  <tbody>\n",
       "    <tr>\n",
       "      <th>0</th>\n",
       "      <td>Other</td>\n",
       "      <td>997.328489</td>\n",
       "    </tr>\n",
       "    <tr>\n",
       "      <th>1</th>\n",
       "      <td>Female</td>\n",
       "      <td>778.872761</td>\n",
       "    </tr>\n",
       "    <tr>\n",
       "      <th>2</th>\n",
       "      <td>Male</td>\n",
       "      <td>703.191614</td>\n",
       "    </tr>\n",
       "  </tbody>\n",
       "</table>\n",
       "</div>"
      ],
      "text/plain": [
       "  member_gender  average_duration\n",
       "0         Other        997.328489\n",
       "1        Female        778.872761\n",
       "2          Male        703.191614"
      ]
     },
     "execution_count": 257,
     "metadata": {},
     "output_type": "execute_result"
    }
   ],
   "source": [
    "#get average trip duration for each gender\n",
    "\n",
    "gender_trip_duation = gender_trip_duation.groupby('member_gender').mean().sort_values(by = 'duration_sec', ascending = False).reset_index()\n",
    "gender_trip_duation = gender_trip_duation.rename(columns = {'duration_sec': 'average_duration'})\n",
    "gender_trip_duation"
   ]
  },
  {
   "cell_type": "code",
   "execution_count": 258,
   "metadata": {},
   "outputs": [
    {
     "data": {
      "image/png": "iVBORw0KGgoAAAANSUhEUgAAAe0AAAILCAYAAADFQcT5AAAAOXRFWHRTb2Z0d2FyZQBNYXRwbG90bGliIHZlcnNpb24zLjQuMywgaHR0cHM6Ly9tYXRwbG90bGliLm9yZy/MnkTPAAAACXBIWXMAAAsTAAALEwEAmpwYAAAqvUlEQVR4nO3dedxcZX338c/XBBM2BSFQIECgDy5hEZDNBUVQwWIFtwekyFIVW0VttVpsnwouKLWLFasoLgU3FlEBl1YoQq2yJorsCJUIkQgRlCIShPB7/jjnjkO8s3DfIZPrzuf9euV1z1xn+52ZyXznus6ZM6kqJEnSqu9xwy5AkiQtH0NbkqRGGNqSJDXC0JYkqRGGtiRJjTC0JUlqhKEtrUBJrk2yV3/7b5J8ergVjc9jtQ9JjkjyvRW93pUhyV5J5g67Dq2eDG09JpJclOSXSaYMu5bxSPKJJL/u//02yYMD9/998fmratuquqi//YGqet0Yt3tKv717+3/XJPlgkieOc5eWts3fC6Px7MPKlOSFSS7sH6u7klyZ5K+TTB12bcvSP9fvH3YdaoOhrRUuyQxgT6CAlz4G65+8ote5JFX1Z1W1TlWtA3wAOGPkflW9+DGu6UNVtS4wDTgS2AP4fpK1H+2K0pmQ/9+TvAo4C/gSsGVVbQAcBEwHNh9mbYtbma9dTUwT8j+xhu4w4FLgFOBwgCRTkvwqyXYjMyWZluT+JBv191/S95B+leTiJDsMzDun7zldBdyXZHKSY5L8T9+7ui7Jywbmn5Tkn5L8IsktSY5OUiNvmkmemOQzSeYl+VmS9yeZ9Gh2cgk1zUnygn76cUm+0N+e0W//qCS399t9+/Jsp6oWVNUVdB+ANqAL8Eesf7FtjOzjRUmOT/J94DfA1kmOTHJ9/5j9JMkb+nnXBv4d2HRgJGHTUbbx0v4QwK/69T9tscfjr5JcleSeJGcso6ebJB/t570hyT5946uSzF5sxrcnOXu0FQD/DLy3qj5VVXf3j9mNVfXmqrqpn+9xA6+Xu5KcmeRJiz1uhye5tX/N/O3ANtbse8O/THIdsOtiNWya5CtJ5vevtbcMTDsuyVlJvpDkf4EjFlv2KOBPgHf2j/nXk7wjyVcWm++jSf5l4Hn9YJLL+8funJF96afv0f//+VWSH6U/XKMJoqr8578V+g+4GXgj8AzgQWDjvv2zwPED870J+I/+9s7AncDuwCS6sJ8DTOmnzwGupOs5rdm3vQrYlO7D50HAfcAm/bQ/A66j622tD/wnXc9/cj/9bOCTwNrARsDlwBuWsV/HAV8YuD9aTXOAFyw+PzCj3/5p/Ta3B+aPzDvKtk4B3j9K++foevuj1TOyjZF9vAi4FdgWmAysAewP/CEQ4Hl0Yb5zP/9ewNwl7TPw5P4xfmG/rnf2z/XjB/b98v45eRJwPfBnS9i/I4CHgL/s13UQcE+/3BTgbuBpA/P/EHjFKOt5ar/PM5bx3P0F3QfJ6f36Pwmcttjj9ilgTeDpwAMj2wdOAP67r21z4JqRx4nutTcbeDfweGBr4CfAvgOP34PAgf28ay7ruQY26R/n9fr7k+n+bzxj4Hn9GbAd3WvpKwPP0WbAXcAf9dt7YX9/2rDfF/y3Yv7Z09YKleQ5wJbAmVU1G/gf4JB+8peAVw/MfkjfBvB64JNVdVlVLayqU+neOPcYmP/Eqrqtqu4HqKovV9XtVfVwVZ0B3ATs1s/7f4GPVNXcqvol3RvvSI0bAy8G/qKq7quqO4EPAwePYZcfUdNyeE+/zauBf+ORj8fyuJ0uPJbXKVV1bVU9VFUPVtU3q+p/qvNfwHl0hzKWx0HAN6vq/Kp6EPhHupB71sA8J/bPyd3A14Edl7K+O4F/6es6A7gR2L+qHgDOAA4FSLItXbB+Y5R1bNj//flIQ5LT+17mb5K8pm9+A/C3/evhAbowfWUeOVz9nqq6v6p+BPyILryhey0dX1V3V9VtwIkDy+xKF4jvrarfVtVP6MJ/8LV0SVWd3b9Ol/k6qap5wHfpPpQC7Af8ov//NOLzVXVNVd0H/B3wf/uRokOBb1XVt/rtnQ/MogtxTQCGtla0w4HzquoX/f0v9W0A3wHWTLJ7ki3p3tC/1k/bEnh7/2b7qyS/ouvVbDqw7tsGN5TksPxuOP1XdD2PkTfxTRebf/D2lnS9u3kDy36Srsf9aN227FmWOP9PeeT+LY/N6HqhY9keSV6c5NIkd/f7/Uf87jFblk3pagagqh7u17/ZwDw/H7j9G2CdpazvZ1U1+ItFg4/HqcAh/fD3a+g+BD4wyjru6v9uMlDXwVW1HvADulEb6J7zrw0839cDC4GNl6P2xV9LPx24vSXdIYXB1+3fLLbeR/sagW7/D+1vHwp8frHpi9ezBt3zuCXwqsXqeQ4Dj4/a5kkRWmGSrEnXK5mUZOQNcAqwXpKnV9WPkpxJ17u8A/hGVd3bz3cbXW/m+KVsYtEbfB/6nwL2oevJLExyJd2wL8A8uqHQEYMnJN1G14vfsKoeGsOujlrTctocuKG/vQVdz3m5JFkHeAEw8hjdB6w1MMsfLK2+dGfyf4XunINzqurB/jhxFp93CW6nG9YfWV/o9udny7sPi9ksSQaCewvgXICqujTJb+lGAQ7hd6M1i7uh3/7LgX9ayrZuA/60qr6/+IR0J04uzTy6/bx2oM7B9d5SVdssZfllPa6jTT8bOCndOSAvoTsUMWjw9bwF3RD8L/p6Pl9Vr1/GNtUoe9pakQ6k673MpOtF7wg8je544GH9PF+iG2b9E343NA5dAP9Z3wtPkrWT7J9k3SVsa226N7v5AEmOpOtpjzgTeGuSzZKsB/z1yIR++PE84J+SPKE/SekPkzxvrDv+KPxdkrX6Id8j6YaBlyrdSXzPoHsj/yXdsDp0x9Ofm2SLdF8Fe9cyVvV4ug9R84GHkrwYeNHA9DuADbLkr5WdCeyfZJ8kawBvp/vwc/Gy9mEJNgLekmSNdGeAPw341sD0zwH/CjxUVaN+p7sP/LcDxyZ5fZL1+9fPNjyyt/sJ4Pj+w97ISZAHLGedZwLv6tc9HXjzwLTLgf9Nd0LimulOgNwuya6jr2pUd9AdCx/crwX87oz4y6vq1sWWOTTJzCRrAe8FzqqqhcAXgD9Osm9fy9R0X+WbjiYEQ1sr0uHAv1XVrVX185F/dG+8f5JkclVdRtdD3JTubGUAqmoW3XHtf6ULpptZ7EzbQVV1HV3P6hK6N73tgcFe1KfogvkqupOYvkV34tPCfvphdCF2Xb+9s1g5Q4j/RbdvFwD/WFXnLWXedya5l244/HN0Jzw9qz+OSX+88gy6fZzN6Md8F+lHNd5CF0K/pOu9njsw/Qa6E+V+0g+tbrrY8jfSDdV+lK5X98fAH1fVb5dv13/PZcA2/bqOB15ZVXcNTP883QexxYeGF9+vM+hGeA6l62n+ot/Hk4Ev97N9hG5fz+sf00vpTnpcHu+hG4K+he41taiePij/mO4D6i39tj8NPJrv038GmNk/5mcPtJ9K97oebf8/T3cC28+BqXTPK/0x9wPohujn0z0e78D3+gkjjzykJE1Mfa/yE1W15ZC2P4PuTX2NFTAkv1roD7fcSXd2+03DrmdlS7IF3fD/H1TV/w60X0R3tnjTV9vT2PjpSxNSP1T5R+m+O70ZcCy/O+lNbfhz4IrVNLAfB7wNOH0wsCVPRNNEFbphzTOA+4Fv0n2XVg1IMofuOTxwuJWsfOkudHMH3ZD8fkMuR6sYh8clSWqEw+OSJDXC0JYkqRGr/DHtDTfcsGbMmDHsMiRJWilmz579i6qaNtq0VT60Z8yYwaxZs4ZdhiRJK0WSny5pmsPjkiQ1wtCWJKkRhrYkSY1Y5Y9pS9Lq5MEHH2Tu3LksWLBg2KXoMTZ16lSmT5/OGmussdzLGNqStAqZO3cu6667LjNmzKD79VNNRFXFXXfdxdy5c9lqq62WezmHxyVpFbJgwQI22GADA3uCS8IGG2zwqEdUDG1JWsUY2KuHsTzPhrYkSY3wmLYkrcJmHPPNFbq+OSfsv0LXt6o64ogjeMlLXsIrX/nKca9rzpw5XHzxxRxyyCEAzJo1i8997nOceOKJ4173o2VPW5L0mFu4cOGwS1iqhx56aInT5syZw5e+9KVF93fZZZehBDYY2pKkURx44IE84xnPYNttt+Xkk0/mpJNO4p3vfOei6aeccgpvfvObAfjCF77Abrvtxo477sgb3vCGRQG9zjrr8O53v5vdd9+dSy65hPe+973suuuubLfddhx11FGM/DT0FVdcwQ477MAzn/lM3vGOd7DddtsBXdC/4x3vYNddd2WHHXbgk5/85BLrrSqOPvpoZs6cyf7778+dd965aNqMGTP4xS9+AXS95L322guA4447jqOOOooXvehFHHbYYcyZM4c999yTnXfemZ133pmLL74YgGOOOYb//u//Zscdd+TDH/4wF110ES95yUsAuPvuuznwwAPZYYcd2GOPPbjqqqsWrftP//RP2Wuvvdh6661XWMgb2pKk3/PZz36W2bNnM2vWLE488URe/vKX89WvfnXR9DPOOIODDjqI66+/njPOOIPvf//7XHnllUyaNIkvfvGLANx3331st912XHbZZTznOc/h6KOP5oorruCaa67h/vvv5xvf+AYARx55JJ/4xCe45JJLmDRp0qJtfOYzn+GJT3wiV1xxBVdccQWf+tSnuOWWW0at92tf+xo33ngjV199NZ/61KcWBe6yzJ49m3POOYcvfelLbLTRRpx//vn84Ac/4IwzzuAtb3kLACeccAJ77rknV155JX/5l3/5iOWPPfZYdtppJ6666io+8IEPcNhhhy2adsMNN/Dtb3+byy+/nPe85z08+OCDy1XT0nhMW5L0e0488US+9rWvAXDbbbdxyy23sPXWW3PppZeyzTbbcOONN/LsZz+bj33sY8yePZtdd90VgPvvv5+NNtoIgEmTJvGKV7xi0TovvPBCPvShD/Gb3/yGu+++m2233ZY999yTe++9l2c961kAHHLIIYvC/LzzzuOqq67irLPOAuCee+7hpptuGvV7zd/97nd59atfzaRJk9h0003Ze++9l2s/X/rSl7LmmmsC3YVtjj766EUfPn784x8vc/nvfe97fOUrXwFg77335q677uKee+4BYP/992fKlClMmTKFjTbaiDvuuIPp06cvV11LYmhLkh7hoosu4j//8z+55JJLWGuttdhrr71YsGABBx10EGeeeSZPfepTednLXkYSqorDDz+cD37wg7+3nqlTpy7qOS9YsIA3vvGNzJo1i80335zjjjuOBQsWLBoiH01V8dGPfpR99913uepe0leoJk+ezMMPP7yojkFrr732otsf/vCH2XjjjfnRj37Eww8/zNSpU5e5zdHqH6ljypQpi9omTZq01OPmy2uZw+NJPpvkziTXDLQ9Kcn5SW7q/64/MO1dSW5OcmOSfQfan5Hk6n7aifGLiJK0SrrnnntYf/31WWuttbjhhhu49NJLAXj5y1/O2WefzWmnncZBBx0EwD777MNZZ5216Bjy3XffzU9/+vu/LDkSlhtuuCG//vWvF/We119/fdZdd91F2zj99NMXLbPvvvty0kknLRpW/vGPf8x99903as3Pfe5zOf3001m4cCHz5s3jwgsvXDRtxowZzJ49G2BRr3hJ+73JJpvwuMc9js9//vOLjs2vu+663HvvvUvc7sjhgIsuuogNN9yQJzzhCUvcxngtT0/7FOBfgc8NtB0DXFBVJyQ5pr//10lmAgcD2wKbAv+Z5MlVtRA4CTgKuBT4FrAf8O8rakckaSIaxle09ttvPz7xiU+www478JSnPIU99tgD6AJ25syZXHfddey2224AzJw5k/e///286EUv4uGHH2aNNdbgYx/7GFtuueUj1rneeuvx+te/nu23354ZM2YsGk6H7tj161//etZee2322msvnvjEJwLwute9jjlz5rDzzjtTVUybNo2zzz571Jpf9rKX8Z3vfIftt9+eJz/5yTzvec9bNO3YY4/lta99LR/4wAfYfffdl7jfb3zjG3nFK17Bl7/8ZZ7//Ocv6oXvsMMOTJ48mac//ekcccQR7LTTTouWOe644zjyyCPZYYcdWGuttTj11FMfxSP96GVpQxOLZkpmAN+oqu36+zcCe1XVvCSbABdV1VOSvAugqj7Yz/dt4DhgDnBhVT21b391v/wblrXtXXbZpWbNmjWGXZOk9lx//fU87WlPG3YZK9Wvf/1r1llnHaA76WvevHl85CMfGXJVK8doz3eS2VW1y2jzj/WY9sZVNQ+gD+6N+vbN6HrSI+b2bQ/2txdvH1WSo+h65WyxxRZjLFGS1IJvfvObfPCDH+Shhx5iyy235JRTThl2SausFX0i2mjHqWsp7aOqqpOBk6Hraa+Y0iRJq6KDDjpo0THyZbn66qt5zWte84i2KVOmcNlllz0Wpa1yxhradyTZZGB4fORb7HOBzQfmmw7c3rdPH6W9SSv6soIT1epyuURJK8/222/PlVdeOewyhmasF1c5Fzi8v304cM5A+8FJpiTZCtgGuLwfSr83yR79WeOHDSwjSRqwPOcaqX1jeZ6X5ytfpwGXAE9JMjfJa4ETgBcmuQl4YX+fqroWOBO4DvgP4E39meMAfw58GrgZ+B88c1ySfs/UqVO56667DO4Jrqq46667luu74IOWOTxeVa9ewqR9ljD/8cDxo7TPArZ7VNVJ0mpm+vTpzJ07l/nz5w+7FD3Gpk6d+qivkOYV0SRpFbLGGmuMeplOCfzBEEmSmmFoS5LUCENbkqRGGNqSJDXC0JYkqRGGtiRJjTC0JUlqhKEtSVIjDG1JkhphaEuS1AhDW5KkRhjakiQ1wtCWJKkRhrYkSY0wtCVJaoShLUlSIwxtSZIaYWhLktQIQ1uSpEYY2pIkNcLQliSpEYa2JEmNMLQlSWqEoS1JUiMMbUmSGmFoS5LUCENbkqRGGNqSJDXC0JYkqRGGtiRJjTC0JUlqhKEtSVIjDG1JkhphaEuS1AhDW5KkRhjakiQ1wtCWJKkRhrYkSY0wtCVJaoShLUlSIwxtSZIaYWhLktQIQ1uSpEYY2pIkNcLQliSpEYa2JEmNMLQlSWqEoS1JUiMMbUmSGmFoS5LUCENbkqRGGNqSJDXC0JYkqRGGtiRJjTC0JUlqhKEtSVIjDG1JkhphaEuS1AhDW5KkRhjakiQ1wtCWJKkRhrYkSY0wtCVJaoShLUlSIwxtSZIaYWhLktQIQ1uSpEYY2pIkNcLQliSpEYa2JEmNMLQlSWqEoS1JUiMMbUmSGjGu0E7yl0muTXJNktOSTE3ypCTnJ7mp/7v+wPzvSnJzkhuT7Dv+8iVJWn2MObSTbAa8BdilqrYDJgEHA8cAF1TVNsAF/X2SzOynbwvsB3w8yaTxlS9J0upjvMPjk4E1k0wG1gJuBw4ATu2nnwoc2N8+ADi9qh6oqluAm4Hdxrl9SZJWG2MO7ar6GfCPwK3APOCeqjoP2Liq5vXzzAM26hfZDLhtYBVz+zZJkrQcxjM8vj5d73krYFNg7SSHLm2RUdpqCes+KsmsJLPmz58/1hIlSZpQxjM8/gLglqqaX1UPAl8FngXckWQTgP7vnf38c4HNB5afTjec/nuq6uSq2qWqdpk2bdo4SpQkaeIYT2jfCuyRZK0kAfYBrgfOBQ7v5zkcOKe/fS5wcJIpSbYCtgEuH8f2JUlarUwe64JVdVmSs4AfAA8BPwROBtYBzkzyWrpgf1U//7VJzgSu6+d/U1UtHGf9kiStNsYc2gBVdSxw7GLND9D1ukeb/3jg+PFsU5Kk1ZVXRJMkqRGGtiRJjTC0JUlqxLiOaUtaMWYc881hl9CEOSfsP+wSpKGypy1JUiMMbUmSGmFoS5LUCENbkqRGGNqSJDXC0JYkqRGGtiRJjTC0JUlqhKEtSVIjDG1JkhphaEuS1AhDW5KkRhjakiQ1wtCWJKkRhrYkSY0wtCVJaoShLUlSIwxtSZIaYWhLktQIQ1uSpEYY2pIkNcLQliSpEYa2JEmNMLQlSWqEoS1JUiMMbUmSGmFoS5LUCENbkqRGGNqSJDXC0JYkqRGGtiRJjZg87AIkSSvejGO+OewSmjDnhP2HXcKjYk9bkqRGGNqSJDXC0JYkqRGGtiRJjTC0JUlqhKEtSVIjDG1JkhphaEuS1AhDW5KkRhjakiQ1wtCWJKkRhrYkSY0wtCVJaoShLUlSIwxtSZIaYWhLktQIQ1uSpEYY2pIkNcLQliSpEYa2JEmNMLQlSWqEoS1JUiMMbUmSGmFoS5LUCENbkqRGGNqSJDXC0JYkqRGGtiRJjTC0JUlqhKEtSVIjDG1JkhphaEuS1AhDW5KkRhjakiQ1wtCWJKkRhrYkSY0wtCVJaoShLUlSI8YV2knWS3JWkhuSXJ/kmUmelOT8JDf1f9cfmP9dSW5OcmOSfcdfviRJq4/x9rQ/AvxHVT0VeDpwPXAMcEFVbQNc0N8nyUzgYGBbYD/g40kmjXP7kiStNsYc2kmeADwX+AxAVf22qn4FHACc2s92KnBgf/sA4PSqeqCqbgFuBnYb6/YlSVrdjKenvTUwH/i3JD9M8ukkawMbV9U8gP7vRv38mwG3DSw/t2+TJEnLYTyhPRnYGTipqnYC7qMfCl+CjNJWo86YHJVkVpJZ8+fPH0eJkiRNHOMJ7bnA3Kq6rL9/Fl2I35FkE4D+750D828+sPx04PbRVlxVJ1fVLlW1y7Rp08ZRoiRJE8eYQ7uqfg7cluQpfdM+wHXAucDhfdvhwDn97XOBg5NMSbIVsA1w+Vi3L0nS6mbyOJd/M/DFJI8HfgIcSfdB4MwkrwVuBV4FUFXXJjmTLtgfAt5UVQvHuX1JklYb4wrtqroS2GWUSfssYf7jgePHs01JklZXXhFNkqRGGNqSJDXC0JYkqRGGtiRJjTC0JUlqhKEtSVIjDG1JkhphaEuS1AhDW5KkRhjakiQ1wtCWJKkRhrYkSY0wtCVJaoShLUlSIwxtSZIaYWhLktQIQ1uSpEYY2pIkNcLQliSpEYa2JEmNMLQlSWqEoS1JUiMMbUmSGmFoS5LUCENbkqRGGNqSJDXC0JYkqRGGtiRJjTC0JUlqhKEtSVIjDG1JkhphaEuS1AhDW5KkRhjakiQ1wtCWJKkRhrYkSY0wtCVJaoShLUlSIwxtSZIaYWhLktQIQ1uSpEYY2pIkNcLQliSpEYa2JEmNMLQlSWqEoS1JUiMMbUmSGmFoS5LUCENbkqRGGNqSJDXC0JYkqRGGtiRJjTC0JUlqhKEtSVIjDG1JkhphaEuS1AhDW5KkRhjakiQ1wtCWJKkRhrYkSY0wtCVJaoShLUlSIwxtSZIaYWhLktQIQ1uSpEYY2pIkNcLQliSpEYa2JEmNMLQlSWqEoS1JUiMMbUmSGmFoS5LUCENbkqRGGNqSJDVi3KGdZFKSHyb5Rn//SUnOT3JT/3f9gXnfleTmJDcm2Xe825YkaXWyInrabwWuH7h/DHBBVW0DXNDfJ8lM4GBgW2A/4ONJJq2A7UuStFoYV2gnmQ7sD3x6oPkA4NT+9qnAgQPtp1fVA1V1C3AzsNt4ti9J0upkvD3tfwHeCTw80LZxVc0D6P9u1LdvBtw2MN/cvk2SJC2HMYd2kpcAd1bV7OVdZJS2WsK6j0oyK8ms+fPnj7VESZImlPH0tJ8NvDTJHOB0YO8kXwDuSLIJQP/3zn7+ucDmA8tPB24fbcVVdXJV7VJVu0ybNm0cJUqSNHGMObSr6l1VNb2qZtCdYPadqjoUOBc4vJ/tcOCc/va5wMFJpiTZCtgGuHzMlUuStJqZ/Bis8wTgzCSvBW4FXgVQVdcmORO4DngIeFNVLXwMti9J0oS0QkK7qi4CLupv3wXss4T5jgeOXxHblCRpdeMV0SRJaoShLUlSIwxtSZIaYWhLktQIQ1uSpEYY2pIkNcLQliSpEYa2JEmNMLQlSWqEoS1JUiMMbUmSGmFoS5LUCENbkqRGGNqSJDXC0JYkqRGGtiRJjTC0JUlqhKEtSVIjDG1JkhphaEuS1AhDW5KkRhjakiQ1wtCWJKkRhrYkSY0wtCVJaoShLUlSIwxtSZIaYWhLktQIQ1uSpEYY2pIkNcLQliSpEYa2JEmNMLQlSWqEoS1JUiMMbUmSGmFoS5LUCENbkqRGGNqSJDXC0JYkqRGGtiRJjTC0JUlqhKEtSVIjDG1JkhphaEuS1AhDW5KkRhjakiQ1wtCWJKkRhrYkSY0wtCVJaoShLUlSIwxtSZIaYWhLktQIQ1uSpEYY2pIkNcLQliSpEYa2JEmNMLQlSWqEoS1JUiMMbUmSGmFoS5LUCENbkqRGGNqSJDXC0JYkqRGGtiRJjTC0JUlqhKEtSVIjDG1JkhphaEuS1AhDW5KkRhjakiQ1wtCWJKkRhrYkSY0wtCVJaoShLUlSI8Yc2kk2T3JhkuuTXJvkrX37k5Kcn+Sm/u/6A8u8K8nNSW5Msu+K2AFJklYX4+lpPwS8vaqeBuwBvCnJTOAY4IKq2ga4oL9PP+1gYFtgP+DjSSaNp3hJklYnYw7tqppXVT/ob98LXA9sBhwAnNrPdipwYH/7AOD0qnqgqm4BbgZ2G+v2JUla3ayQY9pJZgA7AZcBG1fVPOiCHdion20z4LaBxeb2bZIkaTmMO7STrAN8BfiLqvrfpc06SlstYZ1HJZmVZNb8+fPHW6IkSRPCuEI7yRp0gf3Fqvpq33xHkk366ZsAd/btc4HNBxafDtw+2nqr6uSq2qWqdpk2bdp4SpQkacIYz9njAT4DXF9V/zww6Vzg8P724cA5A+0HJ5mSZCtgG+DysW5fkqTVzeRxLPts4DXA1Umu7Nv+BjgBODPJa4FbgVcBVNW1Sc4ErqM78/xNVbVwHNuXJGm1MubQrqrvMfpxaoB9lrDM8cDxY92mJEmrM6+IJklSIwxtSZIaYWhLktQIQ1uSpEYY2pIkNcLQliSpEYa2JEmNMLQlSWqEoS1JUiMMbUmSGmFoS5LUCENbkqRGGNqSJDXC0JYkqRGGtiRJjTC0JUlqhKEtSVIjDG1JkhphaEuS1AhDW5KkRhjakiQ1wtCWJKkRhrYkSY0wtCVJaoShLUlSIwxtSZIaYWhLktQIQ1uSpEYY2pIkNcLQliSpEYa2JEmNMLQlSWqEoS1JUiMMbUmSGmFoS5LUCENbkqRGGNqSJDXC0JYkqRGGtiRJjTC0JUlqhKEtSVIjDG1JkhphaEuS1AhDW5KkRhjakiQ1wtCWJKkRhrYkSY0wtCVJaoShLUlSIwxtSZIaYWhLktQIQ1uSpEYY2pIkNcLQliSpEYa2JEmNMLQlSWqEoS1JUiMMbUmSGmFoS5LUCENbkqRGGNqSJDXC0JYkqRGGtiRJjTC0JUlqhKEtSVIjDG1JkhphaEuS1AhDW5KkRhjakiQ1wtCWJKkRhrYkSY0wtCVJaoShLUlSIwxtSZIasdJDO8l+SW5McnOSY1b29iVJatVKDe0kk4CPAS8GZgKvTjJzZdYgSVKrVnZPezfg5qr6SVX9FjgdOGAl1yBJUpNWdmhvBtw2cH9u3yZJkpZh8kreXkZpq9+bKTkKOKq/++skNz6mVU0MGwK/GHYRg/L3w65A4+RrSiuar6nls+WSJqzs0J4LbD5wfzpw++IzVdXJwMkrq6iJIMmsqtpl2HVo4vA1pRXN19T4rezh8SuAbZJsleTxwMHAuSu5BkmSmrRSe9pV9VCSo4FvA5OAz1bVtSuzBkmSWrWyh8epqm8B31rZ210NeDhBK5qvKa1ovqbGKVW/dx6YJElaBXkZU0mSGmFoS5LUCEO7UUkel+RZw65DkrTyGNqNqqqHgX8adh2aWNI5NMm7+/tbJNlt2HWpbUnWTPKUYdcxERjabTsvySuSjHalOWksPg48E3h1f/9euh/5kcYkyR8DVwL/0d/fMYnX5xijlf6VL61QbwPWBhYmuZ/uMrFVVU8Ybllq2O5VtXOSHwJU1S/7CyFJY3Uc3Y9FXQRQVVcmmTHEeppmaDesqtYddg2acB7sf0K3AJJMAx4ebklq3ENVdY8DgiuGw+MNGzj++Hf9/c09/qhxOhH4GrBRkuOB7wEfGG5Jatw1SQ4BJiXZJslHgYuHXVSrvLhKw5KcRNcL2ruqnpZkfeC8qtp1yKWpYUmeCuxDd7jlgqq6fsglqWFJ1gL+FngR3Wvq28D7qmrBUAtrlKHdsCQ/GDn+WFU79W0/qqqnD7s2tSXJk5Y2varuXlm1SFoyj2m3zeOPWlFm072OBg88jtwvYOthFKV2Jfk6/XvTaKrqpSuxnAnD0G7b4scfXwn8v+GWpBZV1VbDrkETzj8Ou4CJyOHxxnn8UStaf27ENsDUkbaq+u7wKpI0wtBuXD88vjEDoyZVdevwKlLLkrwOeCswne6CGHsAl1TV3sOsS+1Ksg3wQWAmj/wg6CGXMfArXw1L8mbgDuB84BvAN/u/0li9FdgV+GlVPR/YCZg/3JLUuH8DTgIeAp4PfA74/FArapjHtNv2VuApVXXXsAvRhLGgqhYkIcmUqrrBa0ZrnNasqguSpKp+ChyX5L+BY4ddWIsM7bbdBtwz7CI0ocxNsh5wNnB+kl8Ctw+1IrVuQZLHATclORr4GbDRkGtqlse0G5Tkbf3NbYGn0A2LPzAyvar+eRh1aWJJ8jzgicB/VNVvh12P2pRkV+B6YD3gfXSvqQ9V1aXDrKtVhnaDkixtWKmq6r0rrRhNOP3Z45vzyJMbfzC8iiSNMLQbluRVVfXlZbVJyyvJ+4AjgJ/wuwv1lGeP69Fa1s9venGVsTG0GzZyGdNltUnLK8mNwPYOh2u8ksynO+/mNOAyHnm1Parqv4ZRV+s8Ea1BSV4M/BGwWZITByY9ge5rFdJYXUN37PHOIdeh9v0B8ELg1cAhdOfenFZV1w61qsbZ025QkqcDOwJ/D7yf7vq+C+m+s31RVf1yeNWpZUl2Ac6hC+/BkxsdytSYJZlCF97/ALy3qj465JKaZU+7TdcBfwI8HvhTumGnzekuYuDFVTQep9J9GLwaf3xG49SH9f50gT2D7vcSvjrMmlpnT7tBST4MrAO8raru7dueQHeB/vur6q3DrE/tSvJfVfW8Ydeh9iU5FdgO+Hfg9Kq6ZsglTQiGdoOS3AQ8uRZ78vrrkN9QVdsMpzK1Lsk/0w2Ln8sjh8f9ypcelSQPA/f1dwffq0L3jYQnrPyq2ufweJtq8cDuGxcm8VOYxmOn/u8eA20F+JUvPSpV5W9bPAYM7TZdl+SwqvrcYGOSQ4EbhlSTJoD+R0IkraIcHm9Qks3oTua4H5hN1xPaFVgTeFlV/WyI5alhSTYGPgBsWlUvTjITeGZVfWbIpUnC0G5akr3prj8e4NqqumDIJalxSf6d7lsIf1tVT08yGfhhVW0/5NIkYWhLGpDkiqraNckPq2qnvu3KqtpxyKVJAjxRQNKg+5JsQH+2b5I98OdfpVWGJ6JJGvQ2uq97/WGS7wPTgFcOtyRJIxwel0SSLarq1v72ZLrfaQ9wY1U9ONTiJC3i8LgkgLMHbp9RVddW1TUGtrRqMbQlwSN/NnHroVUhaakMbUnwyMtMesxMWkV5TFsSSRbSXSc6dBfp+c3IJLxOtLTKMLQlSWqEw+OSJDXC0JYkqRGGtiRJjTC0pQksyUVJdhl2HcurtXqllc3QljSq/spoq7Qkk4Zdg7QyGdrSkCSZkeSGJJ9Ock2SLyZ5QZLvJ7kpyW5J1k7y2SRXJPlhkgP6ZY9IcnaSrye5JcnRSd7Wz3NpkicNbOrQJBf329itX35p6/1ykq8D5y2h7scl+XiSa5N8I8m3kryyn/aMJP+VZHaSbyfZpG+/KMnfJ7k8yY+T7Nm3r5nk9CRXJTmD7utmI9t5UZJLkvygr2mdvn1Okncn+R7wqhX9vEirMkNbGq7/A3wE2AF4KnAI8Bzgr4C/Af4W+E5V7Qo8H/iHJGv3y27Xz78bcDzwm/7nNC8BDhvYxtpV9SzgjcBn+7alrfeZwOFVtfcSan45MAPYHnhdPz9J1gA+Cryyqp7Rb+v4geUmV9VuwF8Ax/Ztf97XvUM/7zP6dW0I/D/gBVW1MzCL7sdMRiyoqudU1elLqFGakFb54S9pgrulqq4GSHItcEFVVZKr6YJxOvDSJH/Vzz8V2KK/fWFV3Qvcm+Qe4Ot9+9V0HwJGnAZQVd9N8oQk6wEvWsp6z6+qu5dS83OAL1fVw8DPk1zYtz+F7oPE+UkAJgHzBpb7av93dr9vAM8FTuzruyrJVX37HsBM4Pv9uh5P92FkxBlLqU+asAxtabgeGLj98MD9h+n+fy4EXlFVNw4ulGT35Vh2xOJXUCq6K50tab33LaPmLKX92qp65hKmj9S3cBn1jazr/Kp69RLWtawapQnJ4XFp1fZt4M3pu5tJdhrDOg7ql30OcE9V3TPO9X4PeEV/bHtjYK++/UZgWpJFw+VJtl3Gur4L/Ek//3b8boTgUuDZSf5PP22tJE9+FDVKE5KhLa3a3gesAVyV5Jr+/qP1yyQXA58AXrsC1vsVYC5wDfBJ4DK6DwO/BV4J/H2SHwFXAs9axrpOAtbph8XfCVwOUFXzgSOA0/ppl9Id85dWa157XNKjlmSdqvp1kg3ogvbZVfXzYdclTXQe05Y0Ft/oT2h7PPA+A1taOexpSxpVku2Bzy/W/EBV7T6MeiQZ2pIkNcMT0SRJaoShLUlSIwxtSZIaYWhLktQIQ1uSpEb8fxvmWdmUe6QzAAAAAElFTkSuQmCC",
      "text/plain": [
       "<Figure size 576x576 with 1 Axes>"
      ]
     },
     "metadata": {
      "needs_background": "light"
     },
     "output_type": "display_data"
    }
   ],
   "source": [
    "#bar chart sshowing the average trip duration for gender\n",
    "\n",
    "gender_trip_duation.plot.bar(x = 'member_gender', figsize = (8, 8))\n",
    "plt.title('Average Triip Duration by Gender type');"
   ]
  },
  {
   "cell_type": "markdown",
   "metadata": {},
   "source": [
    "> The **Other** gender has longer trips on average. But it came as a surprise personally to see **Female** as the gender with the second longest trip duration"
   ]
  },
  {
   "cell_type": "markdown",
   "metadata": {},
   "source": [
    "##### What is the trend of trips over the weeks for: **user_type**, **member_gender** & **age_group**?"
   ]
  },
  {
   "cell_type": "code",
   "execution_count": 259,
   "metadata": {},
   "outputs": [
    {
     "data": {
      "text/html": [
       "<div>\n",
       "<style scoped>\n",
       "    .dataframe tbody tr th:only-of-type {\n",
       "        vertical-align: middle;\n",
       "    }\n",
       "\n",
       "    .dataframe tbody tr th {\n",
       "        vertical-align: top;\n",
       "    }\n",
       "\n",
       "    .dataframe thead th {\n",
       "        text-align: right;\n",
       "    }\n",
       "</style>\n",
       "<table border=\"1\" class=\"dataframe\">\n",
       "  <thead>\n",
       "    <tr style=\"text-align: right;\">\n",
       "      <th></th>\n",
       "      <th>user_type</th>\n",
       "      <th>member_gender</th>\n",
       "      <th>age_group</th>\n",
       "      <th>trip_week</th>\n",
       "      <th>trip_count</th>\n",
       "    </tr>\n",
       "  </thead>\n",
       "  <tbody>\n",
       "    <tr>\n",
       "      <th>0</th>\n",
       "      <td>Customer</td>\n",
       "      <td>Female</td>\n",
       "      <td>18 - 30yrs</td>\n",
       "      <td>Week 1</td>\n",
       "      <td>277</td>\n",
       "    </tr>\n",
       "    <tr>\n",
       "      <th>1</th>\n",
       "      <td>Customer</td>\n",
       "      <td>Female</td>\n",
       "      <td>18 - 30yrs</td>\n",
       "      <td>Week 2</td>\n",
       "      <td>302</td>\n",
       "    </tr>\n",
       "    <tr>\n",
       "      <th>2</th>\n",
       "      <td>Customer</td>\n",
       "      <td>Female</td>\n",
       "      <td>18 - 30yrs</td>\n",
       "      <td>Week 3</td>\n",
       "      <td>605</td>\n",
       "    </tr>\n",
       "  </tbody>\n",
       "</table>\n",
       "</div>"
      ],
      "text/plain": [
       "  user_type member_gender   age_group trip_week  trip_count\n",
       "0  Customer        Female  18 - 30yrs    Week 1         277\n",
       "1  Customer        Female  18 - 30yrs    Week 2         302\n",
       "2  Customer        Female  18 - 30yrs    Week 3         605"
      ]
     },
     "execution_count": 259,
     "metadata": {},
     "output_type": "execute_result"
    }
   ],
   "source": [
    "#create a subset of data\n",
    "\n",
    "trend = bike_clean.groupby(['user_type', 'member_gender', 'age_group', 'trip_week']).size().reset_index(name = 'trip_count')\n",
    "trend.head(3)"
   ]
  },
  {
   "cell_type": "code",
   "execution_count": 260,
   "metadata": {
    "scrolled": false
   },
   "outputs": [],
   "source": [
    "#function for trend_line\n",
    "\n",
    "def trend_plot(category, title):\n",
    "    \n",
    "    plt.figure(figsize = (8, 8))\n",
    "    sns.lineplot(data = trend, x = 'trip_week', y = 'trip_count', hue = category, ci = None)\n",
    "    plt.title(title)\n",
    "    plt.legend(bbox_to_anchor = (1, .5))"
   ]
  },
  {
   "cell_type": "code",
   "execution_count": 261,
   "metadata": {
    "scrolled": false
   },
   "outputs": [
    {
     "data": {
      "image/png": "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",
      "text/plain": [
       "<Figure size 576x576 with 1 Axes>"
      ]
     },
     "metadata": {
      "needs_background": "light"
     },
     "output_type": "display_data"
    }
   ],
   "source": [
    "#trend line for member_gender\n",
    "\n",
    "trend_plot('member_gender', 'Trend of Trips for Gender Types')"
   ]
  },
  {
   "cell_type": "code",
   "execution_count": 262,
   "metadata": {},
   "outputs": [
    {
     "data": {
      "image/png": "iVBORw0KGgoAAAANSUhEUgAAAloAAAHxCAYAAAC1aBJaAAAAOXRFWHRTb2Z0d2FyZQBNYXRwbG90bGliIHZlcnNpb24zLjQuMywgaHR0cHM6Ly9tYXRwbG90bGliLm9yZy/MnkTPAAAACXBIWXMAAAsTAAALEwEAmpwYAABTo0lEQVR4nO3deXyU5b3//9dnsockrGGHhC1MAEUlouAubkhwq7ZaF2xtbW39eey+9/ScHk+3Y9tjT1u/dhOtrbVaW2XRKnUH1ICymSD7Hgh7gJBtrt8f9x0YQggDZHLPJO/n4zGPmbnve+75TIbAm+u67usy5xwiIiIi0vZCQRcgIiIi0lEpaImIiIjEiYKWiIiISJwoaImIiIjEiYKWiIiISJwoaImIiIjEiYKWSEDM7GIz23iSr+1jZq+bWbWZPXiKdewzs6Gnco4Wztlm9YmIJLPUoAsQCZqZ7Yt6mg3UAo3+8884555o/6qO625gO5Dnmk2GZ2azgQv8pxmAA+r85390zn02+njnXE571ncyzOx7wHDn3G3NtjtghHNu5am+xzHe9wJgdtNTvD8f+6MOGeWcWx+P9xaRjkFBSzq96KBhZmuBTznnXm5+nJmlOuca2rO2VhQAH7QUYpxzk5sem9mjwEbn3LebHxfnz3PM+o4nyJ9z8/d2zr0B5Pj7CoE1QLcE+nMgIglOXYcix9DUtWdmXzOzSuAPZhYys6+b2Soz22FmT5lZD//4QjNzZjbNzNab2XYz+1bU+bLM7FEz22VmHwBnH+f9J5rZu2a2x7+f6G9/FJgGfNXv9rvsBD6TM7PPm9kKYEXUtuFN5zazh83sJb/b7zUzK/D3mZn9zMy2+TUtNrMxLbzHUfWZWYaZ/dzMNvu3n5tZxrF+zrF+nmbve6eZrfbrXmNmt0bt+6SZlfs/+xebPtOxfiYxvNfZZrbVzFKjtn3EzN73H3/PzJ42s7/49Sw0s7FRx/Y3s2fMrMqv9b6ofePNrMzM9vrv8dOT+XmISGJQ0BJpXV+gB14Lzd3AfcB1wEVAf2AX8MtmrzkfGAlMAr5rZsX+9n8Hhvm3K/HCSIv88DYTeAjoCfwUmGlmPZ1zdwJPAD92zuW01Pp2HNcB5wCjjrH/VuD7QC/gff+9AK4ALgSKgG7Ax4AdzV98jPq+BZwLnAGMBcYD0a1szX/OJ8TMuuD9rCY753KBiX7tmNl1wDeBG4B84A3gz81OcR2t/0yO4Jx7F++zXx61+Tbg8ajn1wJ/xftcfwL+bmZpZhYCngcWAQPw/pzcb2ZX+q/7X+B/nXN5eH9WnoqlJhFJTApaIq2LAP/unKt1ztUAnwG+5Zzb6JyrBb4H3BjdsgH8h3Ouxjm3CO8f06aWjI8CDzjndjrnNuAFg2OZAqxwzj3unGtwzv0ZqACmtsFn+oFfQ80x9s90zr3uf75vARPMbBBQD+QCYcCcc+XOuS0xvuetwH8657Y556qA/wBuj9rf/Od8MiLAGDPLcs5tcc4t87d/Bu8zl/tdfv8NnBHdqsXxfyYtmY4XrpqC8ZV4garJAufc0865erygnIkXNs8G8p1z/+mcq3POrQZ+A9zsv64eGG5mvZxz+5xz80/khyAiiUVBS6R1Vc65g1HPC4BnzWy3me0GyvEGzveJOqYy6vEB/DE+eC1gG6L2rWvlffu3sH8dXgvIqdoQ637n3D5gJ9DfOfcv4P/wWvC2mtkjZpYX43s2/zzr/G1Nmv+cm2sA0qI3mFnT83rn3H68FrbPAlvMbKaZhf39BcD/Rn1nO/EGtkf/LI/3M2nJH4GpZpaDF6LfaBY8o3+OEWAj3mcuAPo31ePX9E0O/xm6C6/VsMLvMi49idpEJEEoaIm0rvlg7g143VPdom6ZzrlNMZxrCzAo6vngVo7djPcPcrTBQCzvczzHG6B+qEY/RPTw68E595BzbhwwGi8MfCXG92z+eQY3nTPGmtYDhc22DcELuZv82l50zl0O9MNr/fuNf9wGvKtHo7+zLOfc3BN4/6P43/k84Hq81rnHmx0S/XMMAQPxPvMGYE2zenKdc1f7513hnLsF6A38CHja7xoVkSSkoCVyYh4GHogaIJ5vZtfG+NqngG+YWXczGwj8f60cOwsoMrOPm1mqmX0Mb/zQjFMpPkZXm9n5ZpaON1brbefcBn8A+Dl+S9J+4CCHp8E4nj8D3/Z/Xr2A7+K1CMXqBWCkmd3uj3PqgdcF+LRzrsG8ebuu8QNJLbAvqraH8X7uowHMrKuZ3XQC792ax4CvAqcBzzbbN87MbvC7le/365oPvAPs9Qf/Z5lZipmNMbOz/fpuM7N8vxVst3+uWH/OIpJgFLRETsz/As8B/zSzarx/OM+J8bX/gddltgb4J0e3gBzinNsBlAJfwht0/VWg1Dm3/eRLj9mf8Abu7wTG4Y2vAsjDayXahfc5dgD/E+M5/wsoAxYDS4CF/raYOOe2AVfjjbfaBiwF9gD3+IeE8H5Wm/26LwI+57/2WbyWoSfNbK//2sm0jWfxu5P97sto/8DrztyF1+J1g3Ou3jnXiDfW7gy8Pwvbgd8CXf3XXQUsM29+t/8Fbj5Ot6qIJDBrg7kERaSDsFbm3ZKWmdkqvK7Jl6O2fY8WJlgVkc5HLVoiIifJzD6CN77rX0HXIiKJSTPDi4icBDN7FW/c3O3+eCoRkaOo61BEREQkTtR1KCIiIhIncQ1aZpZpZu+Y2SIzW2Zm/+Fv72HeWmor/PvuUa/5hpmtNLPlUUtSYGbjzGyJv+8hM7N41i4iIiJyquLadeiHoS7OuX3+3DtvAv+Gt+bYTufcD83s60B359zXzGwU3nw74/FmUH4ZKHLONZrZO/5r5+PNMfSQc252a+/fq1cvV1hYGK+PJyIiklAWLFiw3TmXH3QdclhcB8M7L8Xt85+m+TeHt9jqxf726cCrwNf87U/6a6ytMbOVwHgzWwvkOefmAZjZY3iLwLYatAoLCykrK2u7DyQiIpLAzKy1pb0kAHEfo+XPevw+3iSDLznn3gb6NK0J5t/39g8fwJFrjm30tw3wHzffLiIiIpKw4h60nHONzrkz8Nb5Gm9mY1o5vKVxV66V7UefwOxuMyszs7KqqqoTrldERESkrbTbVYfOud14XYRXAVvNrB+Af7/NP2wjRy6627QI60b/cfPtLb3PI865EudcSX6+uqlFREQkOPG+6jDfzLr5j7OAy4AKvLXipvmHTcNbEwx/+81mlmFmQ4ARwDt+92K1mZ3rD7C/I+o1IiIiIgkp3jPD9wOmm1kKXqh7yjk3w8zmAU+Z2V3AeuAmAOfcMjN7CvgAaAA+7y/ACt7isY8CWXiD4FsdCC8iIiIStA49M3xJSYnTVYciItJZmNkC51xJ0HXIYZoZXkRERCROFLRERERE4kRBS0RERCROFLRERERE4kRBS0RERCROFLRERERE4kRBS0RERCROFLRERERE4kRBS0RERCROFLRERERE4kRBS0RERCRO4r2otIiItLfGBtj2AWxaAJvKYOMCCKXAp1+B1PSgqxPpVBS0RESSmXOwZ4MXqjaWefeb34eGGm9/Vg/oMcTbvvYNGD4p0HJFOhsFLRGRZHJwD2xa6LVUbVrohav927x9KRnQ73QYdycMLIEBZ0H3IdBwEH48DCpmKGiJtDMFLRGRRNVYD1uX+q1Vfjfg9g8P7+85wgtOA8Z5tz5jWu4aTMvyjquYBVc/CCENzxVpLwpaIiKJwDnYve5w99+mBbBlkdcaBZDdy2ulOu2jMHAc9D8TsrrHfv7iqVD+nHfeQWfH5zOIyFEUtEREglCzK6qlyr8d2O7tS82EfmfA2Z/yuv8GlEC3wWB28u834nIIpULF8wpaIu1IQUtEJN4aaqFyadRVgGWwc5W/0yB/JBRd5YWqgSXQexSkpLVtDVndofACKJ8Bl/3HqYU2EYmZgpaISFtyDnauPvIqwMrF0Fjn7c/p47VQnXmrd9//DMjs2j61FZfCzC9BVQX0Lm6f9xTp5BS0REROxf4dh7v+NvnBqmaXty8t2xtLdc5nvcHqA0sgb0BwrUkjp3hBq2KGgpZIO1HQEhGJVf1BqFxyuPtv0wLYtcbbZyHIL4ZwqT+1QgnkhyElgf6azevn1VU+Ay78StDViHQKCfQ3gIhIAolEvHFUh64CLPPGWUXqvf25/b2r/8bd6bVW9T8DMnKDrDg2xaXw8vdg9wboNijoakQ6PAUtERGAfVWHu/42lsHmhd7koADpOV4X4ITP+61V4yCvf7D1nqzwVC9oLZ8F53wm6GpEOjwFLRHpfOoOeAPUN5YdDle713v7LMW76m/09V4324Bx3lWBoZRga24rvYZ7XZrlzytoibQDBS0R6dgiEW829ejWqq3LwDV6+7sO8sLU2Z/2Wqv6jYX0LsHWHG/hKfDmz+HATsjuEXQ1Ih2agpaIdCzVlVFTK5TBpvegrtrbl5HndQGef//h1qrcPoGWG4hwKbzxICyf7U0zISJxo6AlIsmrbj9sfj+qtWoB7N3o7QulQp/RcPpHD4+r6jlC6/yBFzbzBkLFTAUtkThT0BKR5BBp9CbajJ4IdNsH4CLe/m4FMPgcGPA5r7Wq3+neYspyNDOv+3DhdC+sdvSuUpEAKWiJSGLasylqEtCFsPk9qNvn7cvs6rVQjbzaa63qfxbk5Adbb7IJT4F3/h+snAOjrgm6GpEOS0FLRIJXW+0FqUNzVi2A6i3evlAa9D0Nzvi4F64GlEDPYVqr71QVnOetf1gxQ0FLJI4UtESkfTU2eF1+hxZYXuB1CeK8/T2GQuH5XqAaWAJ9xkBaZqAld0gpqVA0GZbPhMb6tl/EWkQABS0RiSfnYM+GqHFVC2HL+1B/wNuf1cNrpRp9nd9aNU7TDbSn8BRY9CdY+yYMuyToakQ6JAUtEWk7B/d4Yaqp+29jGezf5u1LyfAGqJ91h99aNQ66D1EXYJCGXQqpWV73oYKWSFwoaInIyWmog23LDrdUbSrzJgZt0nO49w/5wBIYcBb0OQ1S04OrV46Wng3DJ3nTPEz+iaa+EIkDBS0ROT7nYNcaL1A1DVjfsggaa7392b28QHXaR71QNeAsb6C1JL7iqV6L1ub3vFZGEWlTCloicrQDO4/s/tu0AGp2evtSs6D/GTD+04fHVXUbrC7AZDXiCm99x4rnFbRE4kBBS6Szqz8IlUui5qxaADtX+zvNW4A4fPXhqRV6F+sKtY4ku4d3lWf5DLjse0FXI9LhKGiJdCaRCOxcFTVfVRlULoVIvbc/t7/X7XfWHV6w6n8mZOQGW7PEX/FUmPVlqPoQ8ouCrkakQ1HQEunI9m07svtv80LvykCA9BwvSE34/OG1APP6B1uvBGPk1V7Qqnge8r8UdDUiHYqClkhHUXfAm6Mqes6qPeu9fZYCfUbB6Bu8QDWwBHoVQSgl0JIlQXQd4C1jVD4DLlDQEmlLCloiySjSCFXLD4+p2ti0wHKjt7/bYG9g8zmf8YJVv7Hepfwix1JcCnP+01tjsuuAoKsR6TAUtESSQUwLLH/RG6w+4CzI6R1svZJ8wlO9oLV8lndFqYi0CQUtkURzcK8XpJqmV2hpgeWxtxweV9VjmCaalFOXX+R1J5c/r6Al0oYUtESC1Fh/eIHljX6oOmKB5WFQeMHhcVVaYFniKTwF3nrIm0dNa06KtAkFLZH24hzsXn+4+29jmTe7ekONtz+7p7/A8vX+nFVn6R87aV/hqfDmz+DDF+GMW4KuRqRDUNASiZeaXUcusLxpAeyv8valZnoD1Es+cXh29e6Fml1dgtX/TG8utYoZCloibURBS6QtNNR6E39Gz66+Y6W/07yxLyOu8NcBLIE+ozW7uiSeUMhbBeC9J7zpQnSlqsgpU9ASOVHOeUvUHJqvqsxbwqaxztuf08cLU2d8/PDs6pldg61ZJFbhUnj3t7DqX96UDyJyShS0RI5n//ajF1g+uNvbl9bFC1LnfDZqdvUB6gKU5FV4PmR2g4qZCloibUBBSyRafQ1sWRw1EWgZ7F7n7bMQ9B4Fo649fBVgflizq0vHkpIGRVfBh7OhsQFS9M+EyKnQb5B0XpEIbP/wyHFVW5dBpMHb33WQN6bq7E/5XYBnQHqXQEsWaRfhKbD4SVj3Fgy9KOhqRJKagpZ0HtWVh7v+NpXBpvegrtrbl5Hnharz/u3w7Oq5fYOtVyQowyd5V8ZWzFDQEjlFClrSMdXu8xZYPhSsFsDeTd6+UKo38efYj/lTK5RAz+GaXV2kSXoXGDbJG6c1+ccacyhyChS0JPk1NkBVedRg9YXecxfx9ncfAoMnHB6s3vd0za4ucjzFpbB8prcc1ICzgq5GJGkpaElycs7r1pj/MGxeCPUHvO1Z3b0WquKpXrDqfxZ06RlsrSLJqOgqsBTv90xBS+SkKWhJ8tm1FmZ9FVa8CD1HwFnT/KsAx3mtV+rmEDl12T2gYCKUz4BJ3w26GpGkpaAlyaOhDub9Al77iTfVwhUPePNX6fJzkfgongqzvwrbV0CvEUFXI5KUNPpXksPaN+Hh82HOf8KIy+Ded2DivQpZIvE08mrvvmJGsHWIJDEFLUls+6rg2c/Co1OgoQY+/hR87I/QdWDQlYl0fN0GQb8zvO5DETkpag6QxBSJwMLp8PL3oG4/XPAluODLWuRWpL0Vl8K//gv2boa8/kFXI5J01KIliadyCfz+Sphxvzff1T1veYNxFbJE2l94qne/fFawdYgkqbgGLTMbZGavmFm5mS0zs3/zt3/PzDaZ2fv+7eqo13zDzFaa2XIzuzJq+zgzW+Lve8hMl5Z1OLXV8OK34P9dBDtXw/X/D+6cAfkjg65MpPPKHwk9hqn7UOQkxbvrsAH4knNuoZnlAgvM7CV/38+cc/8TfbCZjQJuBkYD/YGXzazIOdcI/Bq4G5gPzAKuAmbHuX5pD85B+XMw++tQvRnGfcJrwcruEXRlImLmdR/O+yXU7PLmqhORmMW1Rcs5t8U5t9B/XA2UAwNaecm1wJPOuVrn3BpgJTDezPoBec65ec45BzwGXBfP2qWd7FoLf/ooPHUHZPeEu16GqT9XyBJJJOGp3mLrK146/rEicoR2G6NlZoXAmcDb/qZ7zWyxmf3ezJr+izQA2BD1so3+tgH+4+bbJVk11MHr/wO/PAfWzYUr/xvufhUGnR10ZSLS3IBxkNMXyp8PuhKRpNMuQcvMcoBngPudc3vxugGHAWcAW4AHmw5t4eWule0tvdfdZlZmZmVVVVWnWrrEw5o3vDmx/vV9KLoSPv8OTPi85sQSSVShEISvhpUvQ31N0NWIJJW4By0zS8MLWU845/4G4Jzb6pxrdM5FgN8A4/3DNwKDol4+ENjsbx/YwvajOOcecc6VOOdK8vPz2/bDyKlpmhNreik0HISP/xU++hh0VeOkSMILl3priq56JehKRJJKvK86NOB3QLlz7qdR2/tFHXY9sNR//Bxws5llmNkQYATwjnNuC1BtZuf657wD+Ec8a5c2FIlA2e/h/0pgydPefFifmw9FVwRdmYjEqvACyOgKFTODrkQkqcS7r+Y84HZgiZm972/7JnCLmZ2B1/23FvgMgHNumZk9BXyAd8Xi5/0rDgHuAR4FsvCuNtQVh8lgy2KY+UXY+K73F/WUBzVdg0gySk33uvqXz4LGBnX1i8Qorr8pzrk3aXl81TFnvnPOPQA80ML2MmBM21UncVVbDa/8AN7+NWT1gOsfgdM/6l0qLiLJKTwFljwF6+fBkAuCrkYkKei/JNK2jpgTawuU+HNiae4dkeQ3/DJIyfAWmVbQEomJluCRtrNzDTxxkzcnVpee8KmXofRnClkiHUVGDgy71Bun5Vq88FtEmlGLlpy6hlqY+5A3L1YoFa78AYy/W2M4RDqi8BT4cDZsWQT9zwi6GpGEp38J5dSseR1mfBF2rIBR18JVP4S8/kFXJSLxMnIyWMjrPlTQEjkudR3Kydm3Df52N0yfCpF6uPUZb04shSyRjq1LLxg8UdM8iMRIQUtOTCQC7/7OmxNr6d/gwq94c2KNuCzoykSkvRSXwrYPYMeqoCsRSXgKWhK7LYvgd5d582L1PR3umQuXfhvSsoKuTETa08irvfuKGcHWIZIEFLTk+Gqr4YVvwCMXw+71cMNvYNrzkF8UdGUiEoTuBd5/tsoVtESOR4Ph5dicgw/+AS98HaoroeSTMOk7mq5BRKB4Krzy397fDbl9g65GJGGpRUtatnM1PHEj/HUadMmHT82B0p8qZImIJ1wKOG9JHhE5JrVoyZEaauGth+CN/4FQmjddw9mf1pxYInKk3sXQfYjXfVjyyaCrEUlY+tdTDlv9Gsz8kjcn1ujr4cr/1nQNItIyM+/qw/kPw8E9kNk16IpEEpK6DsWbE+uZT8Nj10CkAW57Bm56VCFLRFoX9ufRW/FS0JWIJCy1aHVmkUZY8Ad4+T+hoQYu/Cpc8EVN1yAisRl4NnTpDeXPw2k3Bl2NSEJS0OqsNr/vzYe1aQEMuRCm/BR6jQi6KhFJJqEQhK+GJU9D/UFIywy6IpGEo67DzubgXpj9NfjNJf6cWL+FO55TyBKRkxOeCnX7YPWrQVcikpDUotVZOAfLnvUmHt23Fc6+Cy79DmR1C7oyEUlmQy6EjDxvlviRVwVdjUjCUdDqDHauhplfhlVzoN9YuOVPMGBc0FWJSEeQmg4jLofls71xn6GUoCsSSSjqOuzIGmrh1R/BL8+FDe/A5B/Dp19RyBKRthUuhQPbYf38oCsRSThq0eqoVr/qz4m1Ekbf4M+J1S/oqkSkIxpxOaRkQMVMKDwv6GpEEopatDqa6q3wzKfgsWu9Zvzb/gY3/UEhS0TiJyMXhl4MFc9740FF5BC1aHUUkUYo+z3M+b43J9ZFX4fzv6DLrUWkfYSnwIoXoXIJ9Ds96GpEEoZatDqCze/Bby+DWV+GAWfCPfPgkm8oZIlI+xl5NVjIu/pQRA5R0EpmB/fArK/Cby6FPRvhI7+D2/8OvYYHXZmIdDY5+TDoXG+clogcoqCVjJyDpc/A/42Hdx6Bkrvg3ne9JTDMgq5ORDqr4lLYuhR2rgm6EpGEoaCVbHasgj/eAE9/EnL7wqfnwJT/0cSjIhK88BTvXt2HIocoaCWL+oPw6g/hVxNgYxlM/gl8+l+aE0tEEkf3QuhzGpQraIk00VWHyWDVK96cWDtXwZiPeHNi5fYNuioRkaMVl3r/Kdy3DXJ6B12NSODUopXIqrfC03fB49cBDm5/Fm78vUKWiCSucCngYPmsoCsRSQhq0UpEh+bE+k9oOKg5sUQkefQZDd0KvO7DcXcGXY1I4BS0Es3m92DGF7z7oZfAlAeh57CgqxIRiY0ZFE/1rog+uBcy84KuSCRQ6jpMFAf3wKyveHNi7d3sz4n1rEKWiCSfcCk01sHKl4KuRCRwatEKWtOcWC9+0xs8Ov7TcOm3IbNr0JWJiJycQeMhu5fXfTjmI0FXIxIoBa0g7VgFM78Iq1+FfmfALU/CgLOCrkpE5NSEUiB8NSx9FhpqITUj6IpEAqOuwyBEz4m1aSFc/T/+nFgKWSLSQYSnQl01rHk96EpEAqUWrfa26l/+nFirYcyNcOUDmq5BRDqeoRdBeg6UPw8jLg+6GpHAqEWrvVRXesvmPH49YN7izzf+TiFLRDqm1AwvYC2f5U1ZI9JJKWjFW6QR3n4E/u9sb2Doxd+Ae+bCsEuCrkxEJL7CpbC/Cja8E3QlIoFR12E8bVrozYm15X0Ydqk3FkvTNYhIZzHiCkhJ9xaZLpgQdDUigVCLVjzU7IaZX/bmxKqu9JbNue1vClki0rlk5sGQi7yg5VzQ1YgEQkGrLTkHS572ugnLfgfj74Z73/HmkTELujoRkfYXngK71sLWZUFXIhIIBa22sn0lPHYtPHMXdB3gTddw9Y818aiIdG7hKYB5rVoinZCC1qmqPwiv/Df8egJsft8bh/WpOdD/zKArExEJXk5vGHSOgpZ0WhoMfypWzoFZX/bmxDrtJrjiAcjtE3RVIiKJpbgU/vltrwuxe2HQ1Yi0K7VonYy9W+Cvd8IfbwALwR3/gI/8ViFLRKQl4SnefcXMYOsQCYCC1omINML8h73B7hWz4JJveXNiDb046MpERBJXj6HQe7SClnRK6jqM1aYF/pxYi2DYJLj6J5quQUQkVsWl8PpPYP926NIr6GpE2o1atGLRUAd/uR2qt8JNj8JtzyhkiYiciPAUcBFvSR6RTkQtWrFITYebn4Aew7wJ+ERE5MT0PR26DvaWIjvrjqCrEWk3atGKVf8zFbJERE6Wmdd9uPpVqK0OuhqRdqOgJSIi7SNcCo21sPLloCsRaTcKWiIi0j4GnwvZPb3uQ5FOQkFLRETaRygFRk6GFf/0LjIS6QQUtEREpP2Ep0LtXlj7etCViLQLBS0REWk/Qy+GtC7qPpROQ0FLRETaT1omjLjMm08rEgm6GpG4U9ASEZH2FZ4K+7bCprKgKxGJOwUtERFpX0VXQCgNyp8PuhKRuFPQEhGR9pXZFYZcCBUzwLmgqxGJKwUtERFpf+EpsHM1bCsPuhKRuFLQEhGR9heeAhhUzAy6EpG4UtASEZH2l9sXBp4NFRqnJR1bXIOWmQ0ys1fMrNzMlpnZv/nbe5jZS2a2wr/vHvWab5jZSjNbbmZXRm0fZ2ZL/H0PmZnFs3YREYmz8BTYsgh2rw+6EpG4iXeLVgPwJedcMXAu8HkzGwV8HZjjnBsBzPGf4++7GRgNXAX8ysxS/HP9GrgbGOHfropz7SIiEk/FU717dR9KBxbXoOWc2+KcW+g/rgbKgQHAtcB0/7DpwHX+42uBJ51ztc65NcBKYLyZ9QPynHPznHMOeCzqNSIikox6DoP8YgUt6dDabYyWmRUCZwJvA32cc1vAC2NAb/+wAcCGqJdt9LcN8B83397S+9xtZmVmVlZVVdWmn0FERNpYcSmsewv27wi6EpG4aJegZWY5wDPA/c65va0d2sI218r2ozc694hzrsQ5V5Kfn3/ixYqISPsJTwEXgQ9nB12JSFzEPWiZWRpeyHrCOfc3f/NWvzsQ/36bv30jMCjq5QOBzf72gS1sFxGRZNbvDOg6SItMS4cV76sODfgdUO6c+2nUrueAaf7jacA/orbfbGYZZjYEb9D7O373YrWZneuf846o14iISLIy81q1Vv0LavcFXY1Im4t3i9Z5wO3ApWb2vn+7GvghcLmZrQAu95/jnFsGPAV8ALwAfN451+if6x7gt3gD5FcBamcWEekIwqXQWAur5gRdiUibS43nyZ1zb9Ly+CqAScd4zQPAAy1sLwPGtF11IiKSEAZPgKweXvfhqGuDrkakTWlmeBERCVZKKoycDB++CI31QVcj0qYUtEREJHjhUqjdA2vfCLoSkTaloCUiIsEbdgmkZevqQ+lwFLRERCR4aVkwfJI3S3wkEnQ1Im1GQUtERBJDeCrsq4TNC4OuRKTNKGiJiEhiKLoCQqlQ/nzQlYi0GQUtERFJDFndofB8qJgBrsVV1kSSjoKWiIgkjnAp7FgJVcuDrkSkTShoiYhI4ghP8e4rdPWhdAwKWiIikjjy+sOAEgUt6TAUtEREJLGEp8Dm92DPxqArETllCloiIpJYiqd69xWzgq1DpA0oaImISGLpNQJ6jYQKTfMgyU9BS0REEk9xKax9Cw7sDLoSkVOioCUiIoknPAVcI3z4QtCViJwSBS0REUk8/c+CvAHe2ociSUxBS0REEo+Z16q1cg7UHQi6GpGTpqAlIiKJKVwKDTWwak7QlYicNAUtERFJTAUTIbMblGvyUkleCloiIpKYUtJg5GRvQHxjfdDViJwUBS0REUlc4VI4uBvWvRV0JSInRUFLREQS17BLITVL3YeStBS0REQkcaVnw/BJ3jQPkUjQ1YicMAUtERFJbOFSqN4MW94LuhKRE6agJSIiia3oSrAUdR9KUlLQEhGRxJbdAwrPgwoFLUk+CloiIpL4wlNh+4dQ9WHQlYicEAUtERFJfOEp3r1atSTJKGiJiEji6zrAW2haQUuSjIKWiIgkh/AU2LQA9m4OuhKRmCloiYhIciie6t1XzAy2DpEToKAlIiLJIX8k9Byh7kNJKgpaIiKSPIpLYe2bULMr6EpEYqKgJSIiySNcCpEG+PDFoCsRiYmCloiIJI/+Z0FuP3UfStJQ0BIRkeQRCnlXH66cA/U1QVcjclwKWiIiklzCU6D+AKz6V9CViByXgpaIiCSXwgsgs6umeZCkoKAlIiLJJSUNiq6C5bOhsSHoakRapaAlIiLJJ1wKNTth/dygKxFplYKWiIgkn+GTIDUTynX1oSQ2BS0REUk+6V1g2KXeOC3ngq5G5JgUtEREJDmFS2HvRtjyftCViByTgpaIiCSnkZPBQuo+lISmoCUiIskpuwcUnKdZ4iWhxRS0zCwjlm0iIiLtKlwKVRWwfWXQlYi0KNYWrXkxbhMREWk/4SnevVq1JEGltrbTzPoCA4AsMzsTMH9XHpAd59pERERa120Q9BvrBa3z7w+6GpGjtBq0gCuBO4GBwE+jtlcD34xTTSIiIrELT4VX/gv2boG8fkFXI3KEVrsOnXPTnXOXAHc65y6Jul3jnPtbO9UoIiJybMWl3v3yWcHWIdKC47VoNZlhZh8HCqNf45z7z3gUJSIiErP8MPQY5nUfnn1X0NWIHCHWwfD/AK4FGoD9UTcREZFgmXmD4te8DjW7g65G5AixtmgNdM5dFddKRERETlbxVJj7EKx4CU6/KehqRA6JtUVrrpmdFtdKRERETtaAEsjpCxXPB12JyBFibdE6H7jTzNYAtXjTPDjn3Olxq0xERCRWoRCEr4ZFf4H6GkjLCroiESD2oDU5rlWIiIicqvAUKPs9rH7VWwdRJAHE2nXojnETERFJDIUXQkZXzRIvCSXWFq2ZeMHKgExgCLAcGB2nukRERE5MajoUXQHLZ0NjA6TE+k+cSPzE1KLlnDvNOXe6fz8CGA+8Gd/SRERETlC4FA7sgA3zg65EBIi96/AIzrmFwNltXIuIiMipGX4ZpGRAuboPJTHE1K5qZl+MehoCzgKq4lKRiIjIycrIgWGXQMVMuOoH3mSmIgGKtUUrN+qWgTdm69rjvcjMfm9m28xsadS275nZJjN7379dHbXvG2a20syWm9mVUdvHmdkSf99DZvrNERGRYwiXwp71ULk46EpEYmvRcs79B4CZ5XpP3b4Yz/8o8H/AY822/8w59z/RG8xsFHAz3gD7/sDLZlbknGsEfg3cDcwHZgFXAbNjrEFERDqTkZPBQl73Yb+xQVcjnVxMLVpmNsbM3gOWAsvMbIGZjTne65xzrwM7Y6zlWuBJ51ytc24NsBIYb2b9gDzn3DznnMMLbdfFeE4REelsuvSCwRO87kORgMXadfgI8EXnXIFzrgD4kr/tZN1rZov9rsXu/rYBwIaoYzb62wb4j5tvFxERaVm4FLYtg52rg65EOrlYg1YX59wrTU+cc68CXU7yPX8NDAPOALYAD/rbWxp35VrZ3iIzu9vMysysrKpK4/VFRDql8BTvXlcfSsBiDVqrzew7Zlbo374NrDmZN3TObXXONTrnIsBv8ObkAq+lalDUoQOBzf72gS1sP9b5H3HOlTjnSvLz80+mRBERSXbdC6DvaZolXgIXa9D6JJAP/M2/9QI+cTJv6I+5anI93rgvgOeAm80sw8yGACOAd5xzW4BqMzvXv9rwDuAfJ/PeIiLSiYSnwoZ3oHpr0JVIJxbrVYe7gPtO9ORm9mfgYqCXmW0E/h242MzOwOv+Wwt8xn+PZWb2FPAB0AB83r/iEOAevCsYs/CuNtQVhyIi0rriUnj1v2H5LCg5qbYBkVNm3oV8xznI7CXgJufcbv95d7wrBK9s9YUBKykpcWVlZUGXISIiQXAOHjoTeg6D254Jupp2YWYLnHMlQdchh8XaddirKWTBoRau3nGpSEREpC2YeYPiV78GB/cEXY10UrEGrYiZDW56YmYFtHLln4iISEIongqReljxUtCVSCcV0xgt4FvAm2b2mv/8QryZ2kVERBLXwPHQpbd39eFpNwZdjXRCsQ6Gf8HMzgLOxZvX6gvOue1N+81stHNuWZxqFBEROTmhEISvhiVPQ/1BSMsMuqJ2t2DBgt6pqam/BcYQe0+WxCYCLG1oaPjUuHHjtrV0QKwtWvjB6lgTkjwOnHXi9YmIiMRZuBQWPAprXoOihL6GKy5SU1N/27dv3+L8/PxdoVBIw37aUCQSsaqqqlGVlZW/Ba5p6Zi2SrYtzd4uIiISvCEXQnpuZ568dEx+fv5ehay2FwqFXH5+/h681sKWj2mj99KXJyIiiSk1A4qugIpZEGk8/vEdT0ghK378n+0x85T6akVEpOMLT4ED22HD20FXIp1MWwWtujY6j4iISNsbfjmkpEPFzKAr6bTWr1+fWlpaOnTQoEFjhg0bNvqiiy4avnjx4owTOcfjjz/ebcGCBUl1RUPMQcvMbjCzn5rZg2Z2ffQ+59y5bV+aiIhIG8nMg6EXQ/nz3ozx0q4ikQjXXHPN8AsvvLB6w4YNS1etWrXsBz/4wabNmzennch5/v73v3dbvHhxVrzqbElDQ8MpvT6moGVmvwI+CyzBWwT6M2b2y1N6ZxERkfYULoXd62Dr0qAr6XRmzJiRm5qa6r761a9WNW2bOHFiTUNDg11yySXDm7bdcccdgx966KGeAJ/73OcGDBs2bHRRUdGou+++e+BLL73U5eWXX+727W9/e2A4HB61bNmyjLlz52aNHTs2XFRUNOryyy8fVlVVlQIwfvz4kXfdddegkpKSkUOHDh392muvZV9xxRXDCgoKxtx33339m97vV7/6VY/TTjutOBwOj/r4xz9e0BSqsrOzz7z//vv7n3766eE5c+bknMpnj3V6h4uAMc5fGNHMpuOFLhERkeQwcjI8b1A+A/qeFnQ1gfjK04sGfVhZnd2W5yzqm3vgJzeO3dDaMYsXL84aO3bsgVjPuXXr1pRZs2Z1X7169dJQKMT27dtTevXq1XjZZZftLi0t3fOJT3xiF0BRUdGon/3sZ+unTJmy7/777+//ta99rf/vf//7DQDp6emRsrKy5d///vd733TTTcPffffd8t69ezcUFhae9s1vfnPr5s2b055++ukeZWVlFRkZGe62224b/PDDD/e89957d9TU1ITGjBlT8/Of/3zzqf10Yu86XA4Mjno+CFh8qm8uIiLSbnJ6w+BzNU4rCfTo0aMxIyMjcvPNNxdMnz69W05OTqT5MTt27Eiprq5OmTJlyj6AT3/60zvmz59/qPXp+uuv3w0wduzYmuHDh9cUFBTUZ2VluUGDBtWuXr06/YUXXshdunRp9tixY4vD4fCoN998M2/16tUZACkpKdx555272uKzxNqi1RMoN7N3/OdnA/PM7DkA51yLk3SJiIgklHAp/PNbsGstdC8Mupp2d7yWp3g57bTTav7+9793b749LS3NRSKHM1Rtba3523n//ffLn3vuubwnn3yy+69//eve8+fP//BE3jMzM9MBhEIhMjIyDg3MC4VCNDQ0mHPObrrpph2//OUvNzV/bXp6eiQ1NeY53VsVa4vWd4HJwL/7t6uB7wMP+jcREZHEF57i3Zd32slLAzF16tTquro6e/DBB3s1bXvttdeyGxoaWLlyZVZNTY3t2LEj5c0338wD2LNnT2jnzp0pH/vYx/Y8/PDDG8rLy7MBcnJyGvfu3RsC6NmzZ2NeXl7jCy+8kAPwu9/9rueECRP2xVrTVVddtXfGjBndN23alAped+WHH36Y3pafG2Jf6/C14x8lIiKS4HoMgT5jvFniJ94bdDWdRigU4rnnnlv1uc99btDPf/7zvhkZGW7gwIG1v/jFLzZMnTp1V3Fx8eghQ4YcHD169AGA3bt3p5SWlg5vauH6r//6rw0At95668577rmn8OGHH+7z9NNPr/rDH/6w5p577im47777QoMHD67985//vDbWmsaNG3fw29/+9qZJkyYVRSIR0tLS3EMPPbS+qKioTaesMtfKZa5m9qZz7nwzq+bI2d8NcM65vLYspq2VlJS4srKyoMsQEZFE8soP4LUfwZdXQE5+0NW0KTNb4Jwrid62aNGitWPHjt0eVE2dwaJFi3qNHTu2sKV9rXYdOufO9+9znXN5UbfcRA9ZIiIiLSouBRwsnxV0JdIJHHeMlpmFzEyTjoiISMfQZwx0K+jMi0xLOzpu0HLORYBFZjb4eMeKiIgkPDPv6sPVr0JtddDVSAcX61WH/YBlZjbHzJ5rusWzMBERkbgpLoXGOljxUtCVSAcX6yQROUBp1HMDftT25YiIiLSDQedAdi+v+3DMDUFXIx1YrEErtfkUD2bWros6ioiItJlQirckz7K/Q0MtpGYEXZF0UK12HZrZPWa2BBhpZoujbmvQEjwiIpLMiqdCXTWseSPoSjqFr33ta32HDx8+uqioaFQ4HB71r3/9q8uxjv3iF7/Y/7vf/W6ftnz/119/PfvOO+8cFK/zH8vxWrT+BMwGfgB8PWp7tXNuZ9yqEhERibchF0F6DlQ8DyMuC7qaDu3ll1/u8uKLL3ZbsmTJB1lZWW7Lli2pTZORtof6+nouvPDCAxdeeGHMC1sfSyQSwTlHSkpKTMcfbx6tPc65tc65W5xz66JuClkiIpLc0jJhxOVQMQsijUFX06Ft2rQprUePHg1ZWVkOoF+/fg2FhYX1AwYMOG3Lli2p4LU4jR8/fmTTaxYvXpx97rnnFhUUFIxpWrpn3bp1aSUlJSPD4fCoESNGjG5afufpp5/OGzVqVPHIkSNHTZgwoQi8Vqtbbrml4Lzzzhtxww03DJkxY0buJZdcMry18wN85zvf6TNmzJjioqKiUV/4whf6Ayxfvjx96NCho2+77bbBo0ePHrVq1aqYl+ppmxUTRUREklG4FJY9CxvfhcHnBl1N/P3984PY9kF2m56z96gDXPfLVhervu666/b+4Ac/6F9YWDjm/PPP33vLLbfsnDJlSqvrEpaXl2ctWLCgvLq6OuXMM88c9ZGPfGTPH/7whx6TJk3a86Mf/aiyoaGB6urq0ObNm1PvvffewldffbUiHA7Xbd269VBT0+LFi7PffvvtipycHDdjxozc451/4cKFWStXrsxcvHhxuXOOyy67bPjs2bNzhg4dWrd27drM3/zmN2v/+Mc/rj+RH4+CloiIdF4jLodQmnf1YWcIWgHp2rVrZOnSpR+88MILuXPmzMmdNm3asO9+97sbW3vN5MmTd+fk5LicnJyGCRMm7H3jjTe6nHvuufs/85nPFNbX14duvPHGXRMnTqyZPXt27vjx46vD4XAdQJ8+fQ41T1511VW7c3JyWlxrsKXzv/HGGzmvv/563qhRo0YBHDhwIFRRUZE5dOjQun79+tVNmjRp/4l+dgUtERHpvDK7wtCLoHwGXP59bzLTjuw4LU/xlJqaSmlpaXVpaWn16aefXvP444/3TElJcZFIBICampojhjNZs+/CzJg8efK+119/ffkzzzzT9c477xxy3333be3evXtD82ObdOnSJXKselo6v3OO+++/f8tXvvKVI9aGXL58eXp2dvYxz9WaWCcsFRER6ZjCpbBrDWz7IOhKOqxFixZlLFmy5NAcGu+9917WwIED6wYOHFj31ltvZQM89dRT3aNfM3v27G4HDhywysrKlPnz5+eef/75+z/88MP0AQMG1H/pS1/aftttt21fuHBh9iWXXLL/7bffzq2oqEgHiO46bE1L5588efLexx9/vNeePXtCAGvWrEnbtGnTKTVKqUVLREQ6t5FXw4wveK1afUYHXU2HtHfv3pT77rtv8N69e1NSUlJcYWFh7fTp09ctWrQo87Of/Wzhj370o/px48Yd0S135pln7p80adKIzZs3p3/5y1/eUlhYWP+LX/yi50MPPdQ3NTXVZWdnNz7xxBNr+vfv3/DQQw+tvf7664dHIhF69uxZP3fu3BXHq6ml8xcWFtYvW7Ys8+yzzw4DZGdnR5544ok1qampLXY/xsKcO+nXJrySkhJXVlYWdBkiIpLofncF1NfAZ5N7Ti0zW+CcK4netmjRorVjx47dfqzXyKlbtGhRr7Fjxxa2tE9dhyIiIuFSqFwMu9YFXYl0MApaIiIi4SnefcXMYOuQDkdBS0REpOcw6D2qowatSCQS6eCXUwbH/9ke84pEBS0RERHwug/Xz4X9HW4409KqqqquClttLxKJWFVVVVdg6bGO0VWHIiIiAMWl8PqPYflsOOv2oKtpMw0NDZ+qrKz8bWVl5RjUwNLWIsDShoaGTx3rAAUtERERgL6nQ9fB3izxHShojRs3bhtwTdB1dFZKtiIiIuDNCh+eAqtegdpWl+ETiZmCloiISJPiUmishZUvB12JdBAKWiIiIk0GnQvZPb3uQ5E2oKAlIiLSJCUViibDh/+Ehrqgq5EOQEFLREQkWnEp1O6Btcm9HI8kBgUtERGRaEMvgbQu6j6UNqGgJSIiEi0tE0ZcBhWzIHLMCb9FYqKgJSIi0ly4FPZVwqYFQVciSU5BS0REpLkRV0AoFSqeD7oSSXIKWiIiIs1ldYMhF0L5DHAu6GokiSloiYiItCRcCjtXQVVF0JVIElPQEhERacnIq717XX0op0BBS0REpCV5/WDg2V73ochJUtASERE5lnApbHkfdm8IuhJJUgpaIiIixxIu9e4rZgZbhyQtBS0REZFj6TUc8sMapyUnTUFLRESkNeFSWDcXDuwMuhJJQgpaIiIirSkuBdcIy2cHXYkkIQUtERGR1vQ7A/IGqvtQToqCloiISGvMIDwFVv0L6vYHXY0kGQUtERGR4ykuhYaDsHJO0JVIklHQEhEROZ7BEyGru7oP5YQpaImIiBxPSioUTYYPX4DG+qCrkSQS16BlZr83s21mtjRqWw8ze8nMVvj33aP2fcPMVprZcjO7Mmr7ODNb4u97yMwsnnWLiIgcpbgUDu6BtW8GXYkkkXi3aD0KXNVs29eBOc65EcAc/zlmNgq4GRjtv+ZXZpbiv+bXwN3ACP/W/JwiIiLxNexSSMtW96GckLgGLefc60DzGd6uBab7j6cD10Vtf9I5V+ucWwOsBMabWT8gzzk3zznngMeiXiMiItI+0rJg+CRvOZ5IJOhqJEkEMUarj3NuC4B/39vfPgCIXrVzo79tgP+4+XYREZH2FS6F6i2w+b2gK5EkkUiD4Vsad+Va2d7ySczuNrMyMyurqqpqs+JEREQouhJCqVDxfNCVSJIIImht9bsD8e+3+ds3AoOijhsIbPa3D2xhe4ucc48450qccyX5+fltWriIiHRyWd2h8Hwo1zgtiU0QQes5YJr/eBrwj6jtN5tZhpkNwRv0/o7fvVhtZuf6VxveEfUaERGR9hUuhR0roGp50JVIEoj39A5/BuYBI81so5ndBfwQuNzMVgCX+89xzi0DngI+AF4APu+ca/RPdQ/wW7wB8qsArewpIiLBCE/x7nX1ocTAvAv5OqaSkhJXVlYWdBkiItLR/OZScA7ufiXoSo5gZguccyVB1yGHJdJgeBERkeQQLoXNC2HPpqArkQSnoCUiInKiwqXe/fJZwdYhCU9BS0RE5ETlF0GvIijXNA/SOgUtERGRkxEu9dY9PNB8ARSRwxS0RERETkZxKbhG+PDFoCuRBKagJSIicjL6nQm5/TXNg7RKQUtERORkhELenFor50DdgaCrkQSloCUiInKyikuhoQZW/SvoSiRBKWiJiIicrILzILObug/lmBS0RERETlZKGhRdBctnQ2ND0NVIAlLQEhERORXFpXBwN6x7K+hKJAEpaImIiJyKYZMgNUvdh9IiBS0REZFTkZ4Nwy6FipneQtMiURS0RERETlVxKezdBJvfC7oSSTAKWiIiIqeq6CqwFHUfylEUtERERE5Vdg8oPA/KFbTkSApaIiIibSFcCtuXw/YVQVciCURBS0REpC2Ep3j36j6UKApaIiIibaHrQOh/proP5QgKWiIiIm0lXAqbymDv5qArkQShoCUiItJWwqXe/fJZwdYhCUNBS0REpK3kj4Sew9V9KIcoaImIiLQVM69Va+0bULMr6GokAShoiYiItKXiqRBpgA//GXQlkgAUtERERNpS/7Mgp6+meRBAQUtERKRthULenForX4b6mqCrkYApaImIiLS14lKoPwCrXgm6EgmYgpaIiEhbKzgfMrpCxcygK5GAKWiJiIi0tdR0KLrSm0+rsSHoaiRACloiIiLxUFwKNTth/bygK5EAKWiJiIjEw/DLIDVTVx92cgpaIiIi8ZDeBYZe4o3Tci7oaiQgCloiIiLxUlwKezbAlkVBVyIBUdASERGJl6LJYCF1H3ZiCloiIiLx0qUnFJynRaY7MQUtERGReApPgapy2LEq6EokAApaIiIi8RSe4t2r+7BTUtASERGJp26Dod9YdR92UgpaIiIi8RaeChvfgerKoCuRdqagJSIiEm9N3YfLZwVbh7Q7BS0REZF4610MPYaq+7ATUtASERGJNzMIl8Ka1+HgnqCrkXakoCUiItIewqUQqYcVLwVdibQjBS0REZH2MPBsyOkD5c8HXYm0IwUtERGR9hAKwcirYeXLUH8w6GqknShoiYiItJfiUqjbB6tfDboSaScKWiIiIu2l8ELIyNMs8Z2IgpaIiEh7SU2HEVfA8tkQaQy6GmkHCloiIiLtqbgUDmyH9fODrkTagYKWiIhIexp+GaRkqPuwk1DQEhERaU8ZuTD0Yi9oORd0NRJnCloiIiLtrbgUdq+HyiVBVyJxpqAlIiLS3kZeDRZS92EnkBp0ASIiIp1Ol15w69MwsCToSiTOFLRERESCMHxS0BVIO1DXoYiIiEicKGiJiIiIxImCloiIiEicKGiJiIiIxImCloiIiEicKGiJiIiIxElgQcvM1prZEjN738zK/G09zOwlM1vh33ePOv4bZrbSzJab2ZVB1S0iIiISq6BbtC5xzp3hnGuase3rwBzn3Ahgjv8cMxsF3AyMBq4CfmVmKUEULCIiIhKroINWc9cC0/3H04HrorY/6Zyrdc6tAVYC49u/PBEREZHYBRm0HPBPM1tgZnf72/o457YA+Pe9/e0DgA1Rr93obxMRERFJWEEuwXOec26zmfUGXjKzilaOtRa2uRYP9ELb3QCDBw8+9SpFRERETlJgLVrOuc3+/TbgWbyuwK1m1g/Av9/mH74RGBT18oHA5mOc9xHnXIlzriQ/Pz9e5YuIiIgcVyBBy8y6mFlu02PgCmAp8BwwzT9sGvAP//FzwM1mlmFmQ4ARwDvtW7WIiIjIiQmq67AP8KyZNdXwJ+fcC2b2LvCUmd0FrAduAnDOLTOzp4APgAbg8865xmBKFxEREYlNIEHLObcaGNvC9h3ApGO85gHggTiXJiIiItJmEm16BxEREZEOQ0FLREREJE4UtERERETiREFLREREJE4UtERERETiREFLREREJE4UtERERETiREFLREREJE6CXFRaRDoY5xyVew9S1xAhKy2FjLQUMtNCpKeE8FeCEBHpVBS0ROSk7K9tYPnWaiq2VFNRuZeKLdWUV+6l+mDDUceaQVZaCplpKWSmhrx7P4Q1PfaCmf881duXFXVchn9M9Ouymval+udI986fmqLGehFJDApaItKqxohj/c4DVGzZS3llNcsr91JRWc26HQcOHZOTkcrIvrlcM7Y/4b65ZKWncrC+MeoW8e4bvMc19Y3URm3fU1N/6LjahkZq6ho52BChMeJOqubUkLUQ5g4Ht4wWgtzh4/3nqX5w8x9nRAW7I8JhaohQSK11ItIyBS0ROWT3gToqKqup2OKFqfLKaj6srKam3lvDPWRQ2KsLY/p35cazBhLul0e4by4DumXFJWzUN3pBzAtmkcOhrSmM1XuBrKVQV9MU3PyA5x0fYV9tA9v31VF76JjD53Qnl+tITw2RmRryg9nhFrmjwp4f3jL88OaFtZZb+JqHQy/shchIVTesSDJR0BLphOobI6yu2k9F5V7Ko7r+KvcePHRM9+w0wn3zuHn8IIr75hHul8uI3rlkpae0W51pKSHSUkLkZqbF/b2cc9Q2RLxA19B4RFhrsXXOD3le69vhIFjT7LjdB+oOBbmD9Ydb6+oaIidVpxlHBLnosXCttcL17ZrJ1NP7071Lehv/5ESkNQpaIh2Yc46q6lqvlerQOKpqVm6rpr7Ra75JSzGG5ecwYVhPwn1zCffLo7hvLvm5GZ2q5cTscHdjV+If7CIRL9gdFc4aGjlYd7ibtXngq20eAJu16FVVN7TYolff6HhgZjnXnTGA2ycUMGZA17h/RhFR0BLpMA7WN7Ji6z7K/UBV4Y+l2rm/7tAxffMyCffL5aKifIr75TKyby5De+WQnqrB4+0tFDKy0r0WqO7t8H7LK6uZPm8tzy7cxF/KNlBS0J07JhZy1ei++v5F4sjcyQ5KSAIlJSWurKws6DJE2pRzjo27ag6Ppdrq3a/Zvp+mseOZaSFG9skl7Hf5hft6Y6nUbSR7aup5esFGHp+3lrU7DpCfm8HHxw/m4+cMpk9eZtDlySkyswXOuZKg65DDFLREElj1wXo+3Fp9xDiq5ZXVVNcenkJhcI/sI7r8wv3yGNwjmxRdCSetiEQcr6+o4rF563hl+TZSzJh8Wj+mTShgXEH3TtVt3JEoaCUeBS2RBNAYcazdsf9Ql19TsNq4q+bQMbmZqRT3zWNk39xDrVQj++aSk6ERAHJq1m7fzx/nr+Opsg3sPdjAqH55TJtYwDVjB7TrxQ9y6hS0Eo+Clkg727m/7qg5qZZXVlPrX4UWMhian0O4by7F/vQJ4X559O+aqVYGiasDdQ384/3NTJ+7lorKarpmpfGxswdx2zkFDO6ZHXR5EgMFrcSjoCUSJ3UNEVZV7Tviar+KLXvZVl176JieXdKPCFPhvrkM751DZppaESQ4zjneXbuL6XPX8sKySiLOMSncmzsmFHL+8F6aoDWBKWglHvU5iJwi5xxb99YecbXf8spqVm7bR4M/Oj09JcSIPjmcP6LXoTmpwn3zyM/NCLh6kaOZGeOH9GD8kB5U7jnIn95ex5/eWc/L5e8wtFcXbp9QwI3jBrbL/GYiyU4tWiInoKaukQ+3HjmOqqKymt0H6g8d079r5qHWqaYB6oW9upCm9fckidU2NPLC0koenbuW99bvpkt6CjecNZA7JhQwok9u0OWJTy1aiUdBS6QFkYg3hULzOanW7th/aJmW7PQUb2B63zxvTip/OoWu2fpfvnRsizfu5rF563hu0WbqGiJMHNaTOyYUcllxby3oHTAFrcSjoCWd3p6aepZXHg5TFVu8rr/9dd76fmZQ0CP7iDmpivvlMqh7tsaqSKe2c38df3l3A3+cv45Nu2vo3zWTW88t4OazB9EzR93iQVDQSjwKWtJpNDRGWLtj/xFzUlVUVrNp9+EpFLpmpR11tV9Rnxyy0zWcUeRYGiOOl8u38ti8tby1cgfpqSGmnt6faRMLOH1gt6DL61QUtBKPgpZ0SNv31R4xJ9XyrXv5cOu+Qwv5poa89f2a5qRqGqDeN09TKIicihVbq3l8/jqeWbCR/XWNnDGoG9MmFnD1af3ISNXVtPGmoJV4FLQkqdU2NLJy274jxlGVb6lm+77DUyjk52Yc2UrVN49hvbvoL32ROKo+WM8zCzby2Lx1rN6+n55d0rll/GBuPXcw/bpmBV1eh6WglXgUtCRwdQ0R9h6sZ29NPXtq6tl7sCHqsX9f421rftzuA3WH1vfLSA1R1Cf3iDmpRvbNpZfGiogEJhJxvLVqO9PnrmNOxVZCZlw5ug93TCjknCE91ILcxhS0Eo8Gnsgpi0Qc++qiwlFNw6GQtLfGvx30t0UFqKbjauobWz1/ekqIvKw0umalkpeVRvcu6RT07EJX/3FRnxzCffMo7JmtK55EEkwoZFwwIp8LRuSzYecB/vj2Ov7y7gZmLakk3DeXOyYUct2Z/TUOUjostWgJAAfrGw+1GO2Jaj3aEx2UDkRti2ppqj5Yf6hVqSVmkJeZRl5WKnmZaXTNSjt8n5Xq37ewLdPbrlnSRTqWg/WNPPf+Zh6du5YPtuwlNzOVj5YM4vZzCyjs1SXo8pKaWrQSj4JWB9EYcVQfPLo1qXkoOnqft61pkPixZKWlHBWAvMdRQenQvsPHdc1OIyc9VdMgiMhRnHMsXL+L6XPXMWvJFhoijotH5jNtQiEXFeXr742ToKCVeBS0EoRzjpr6xiPCUFMLkheKGo5oYYoey7S3pp7q2oZWz58SsiNCUdeoUHRka9LhANX0ODczVQPHRSSutu09yJ/eWc8Tb6+nqrqWgp7Z3H5uATeNG6RJgE+AglbiUdBqQ/WNkUPdbLG2Jh0ew1RPfWPr30WX9JSjWo+autpaCkpdsw+3PnVJT9GgUxFJeHUNEV5cVslj89by7tpdZKWlcN2ZA7hjQgHF/fKCLi/hKWglHgWtGD35zno27zl4RDA6ovWppp4Dda0P6k5LsSO63lrsfmthnFJTq5IGeotIZ7Js8x4en7eOv7+/iYP1EcYP6cG0CYVcMbqP1g49BgWtxKOgFaNLH3yV1VX7yc1MPaLbrWtL3W4ttjClkZkWUquSiMgJ2n2gjqfKNvDYvHVs3FVD37xMbj1nMDePH0x+rqZviaaglXgUtGK0r7aBrLQUUjQ4U0QkEI0Rx6vLt/Ho3LW8sWI7aSnGlNP6ccfEQs4c1E3/kUVBKxFp4pIY5WToRyUiEqSUkDGpuA+Tivuwqmofj89bx9MLNvL39zdz2oCuTJtYSOnp/TQljCQUtWiJiEjS2lfbwLPvbeKxuWtZsW0f3bPTuHn8YG49ZzADu2cHXV67U4tW4lHQEhGRpOecY97qHUyfu5aXPtgKwGXFfbhzYiEThvXsNN2KClqJR/1hIiKS9MyMicN6MXFYLzbtruGJ+et48t0N/PODrQzvncO0CQVcf9ZADQORdqcWLRER6ZAO1jcyc/EWps9by+KNe8jJSOXGcQO5fUIBw/Jzgi4vLtSilXgUtEREpENzzvH+ht08Nm8dMxZvpr7RccGIXkybUMgl4d4d6mpyBa3Eo6AlIiKdRlV1LX95dz1/nL+eyr0HGdg9i9vPLeCjJYPo3iU96PJOmYJW4lHQEhGRTqe+McJLH2xl+ty1vL1mJxmpIa49oz93TChkzICuQZd30hS0Eo+CloiIdGoVlXt5bN46nl24iZr6RsYVdGfaxEKuGt2X9NTkWupHQSvxKGiJiIgAe2rq+WvZBh6fv451Ow6Qn5vBx8cP5uPnDKZPXmbQ5cVEQSvxKGiJiIhEiUQcr62o4rG5a3lleRWpIWPyaf2YNqGAcQXdE3pOLgWtxKMJRURERKKEQsYlI3tzycjerN2+n8fnr+Opsg08v2gzo/rlMW1iAdeMHUBWupb6keNTi5aIiMhxHKhr4O/vbeaxeWupqKyma1YaHzt7ELedU8Dgnomz1I9atBKPgpaIiEiMnHO8s2Ynj81bxwvLKok4x6Rwb+6YUMj5w3sRCnhOLgWtxKOuQxERkRiZGecM7ck5Q3uyZU8Nf3p7PX9+Zz0vl7/D0F5duH1CAR8ZN5C8zLSgS5UEoRYtERGRU1Db0MjsJZVMn7eW99bvJjs9hRvOGsAdEwop6pPbrrWoRSvxKGiJiIi0kcUbdzN97jqeX7yZuoYIE4f15I4JhVxW3JvUlPjPyaWglXgUtERERNrYjn21/KVsA3+ct47New7Sv2smt55bwM1nD6JnTkbc3ldBK/EoaImIiMRJQ2OEORXbeGzeWt5auYP01BBTT+/PtIkFnD6wW5u/n4JW4lHQEhERaQcrtlbz2Lx1PLNwIwfqGjljUDfuv2wEF4/s3WbvoaCVeJJrEScREZEkNaJPLt+/bgzzvzmJ700dxd6aerbvqwu6LIkzTe8gIiLSjvIy07jzvCHcMaGQSAfuVRKPgpaIiEgAQiEjROKumyhtQ12HIiIiInGioCUiIiISJ0kVtMzsKjNbbmYrzezrQdcjIiIi0pqkCVpmlgL8EpgMjAJuMbNRwVYlIiIicmxJE7SA8cBK59xq51wd8CRwbcA1iYiIiBxTMgWtAcCGqOcb/W0iIiIiCSmZglZL18AeNQGJmd1tZmVmVlZVVdUOZYmIiIi0LJmC1kZgUNTzgcDm5gc55x5xzpU450ry8/PbrTgRERGR5pIpaL0LjDCzIWaWDtwMPBdwTSIiIiLHlDQzwzvnGszsXuBFIAX4vXNuWcBliYiIiBxT0gQtAOfcLGBW0HWIiIiIxCKZug5FREREkoqCloiIiEicKGiJiIiIxImCloiIiEicKGiJiIiIxImCloiIiEicmHNHrWLTYZhZFbCuDU/ZC9jehueTU6fvJDHpe0k8+k4SU1t/LwXOOS2LkkA6dNBqa2ZW5pwrCboOOUzfSWLS95J49J0kJn0vHZ+6DkVERETiREFLREREJE4UtE7MI0EXIEfRd5KY9L0kHn0niUnfSwenMVoiIiIicaIWLREREZE46RRBy8x+Zmb3Rz1/0cx+G/X8QTP74kmc91Ezu/E4x9xkZsvMLGJmurLEF/B38hMzqzCzxWb2rJl1O9H36YgC/k6+738f75vZP82s/4m+T0cV5PcSdeyXzcyZWa8TfZ+OKODfle+Z2Sb/d+V9M7v6RN9H2lenCFrAXGAigJmF8OYtGR21fyLwVpzeeylwA/B6nM6frIL8Tl4CxjjnTgc+BL4Rp/dJNkF+Jz9xzp3unDsDmAF8N07vk4yC/F4ws0HA5cD6eL1HEgr0OwF+5pw7w7/NiuP7SBvoLEHrLfxfCrxfhqVAtZl1N7MMoBh4z8zGmdlrZrbA/x9KPwAzG2ZmL/jb3zCzcPM38P9H/qj/S3eIc67cObc8vh8vKQX5nfzTOdfgP50PDIzXh0wyQX4ne6OedgE0ePSwwL4X38+Ar6LvJFrQ34kkkdSgC2gPzrnNZtZgZoPxfjnmAQOACcAeYDHeXyK/AK51zlWZ2ceAB4BP4l0V8lnn3AozOwf4FXBp0/nN7MdAV+ATTlcXxCSBvpNPAn9p8w+YhIL+TszsAeAO/70uid8nTS5Bfi9mdg2wyTm3yMzi/VGTRtC/K8C9ZnYHUAZ8yTm3K16fVU5dpwhavqb/gUwEfor3SzER75diLjASGAO85P+FkgJsMbMc/7i/Rv1FkxF13u8Abzvn7m6Hz9DRBPqdmNm3gAbgiTb6PB1BYN+Jc+5bwLfM7BvAvcC/t93HSnrt/r2YWTbwLeCKOHyejiCo35VfA9/HC3LfBx7EC2+SoDpT0GrqUz8Nr5l3A/AlYC/we8CAZc65CdEvMrM8YLc/dqQl7wLjzKyHc25nnGrvqAL7TsxsGlAKTFIr5BES4ffkT8BMFLSiBfG9DAOGAE2tWQOBhWY23jlX2SafKrkF8rvinNsada7f4I1plATWmfp+38L7h3Wnc67R/wPcDa+pdx6wHMg3swkAZpZmZqP9sSNrzOwmf7uZ2dio874A/BCYaWa57fdxOoRAvhMzuwr4GnCNc+5A/D5eUgrqOxkR9fQaoKLtP1pSa/fvxTm3xDnX2zlX6JwrBDYCZylkHRLU70q/qKfX44U8SWCdKWgtwbsyZH6zbXucc9udc3XAjcCPzGwR8D6HBzveCtzlb18GXBt9YufcX4HfAM+ZWVb0PjO73sw24v3yzTSzF9v8kyWvQL4T4P+AXLwm/ffN7OG2/VhJLajv5IdmttTMFuN1Vf1b236spBfU9yLHFtR38mMzW+L/rlwCfKFtP5a0Nc0MLyIiIhInnalFS0RERKRdKWiJiIiIxImCloiIiEicKGiJiIiIxImCloiIiEicKGiJiIiIxImClkgnZGbdzOxzreyf2571HIt5i+reGHQdIiInS0FLpHPqBhwVtMwsBcA5N7H5PhEROXEKWiKd0w+BYf7M+O+a2Stm9ie8ma0xs33+/cVm9rqZPWtmH5jZw2bW4t8bZvZRM/up//jfzGy1/3iYmb3pPx5nZq+Z2QIze7FpORH/mBf87W+YWbiF83/fb+HS31sikjT0F5ZI5/R1YJW/sO1XgPHAt5xzo1o4djzeYrmn4S00fMMxzvk6cIH/+AJgh5kNAM4H3jCzNOAXwI3OuXF4C+8+4B//CPD/+du/DPwq+sRm9mOgN/AJ51zkxD+uiEgwUoMuQEQSwjvOuTWt7GtqnfozXnB6uvlBzrlKM8vxF8IdBPwJuBAvdP0NGAmMwVtjEiAF2GJmOXhrwP3V3w6QEXXq7wBvO+fuPrWPKCLS/hS0RARgfyv7mi+I2toCqfOATwDLgTeAT+ItqP4lYDCwzDk3IfoFZpYH7PZb11ryLjDOzHo453a28t4iIglHXYcinVM1kBvjsePNbIg/NupjwJutHPs6Xtff68B7wCVArXNuD174yjezCQBmlmZmo51ze4E1ZnaTv93MbGzUOV/AG1M2028tExFJGgpaIp2Qc24H8JaZLQV+cpzD5+EFnaXAGuDZVo59A6/b8HXnXCOwAT+YOefqgBuBH5nZIuB9vC5DgFuBu/zty4Brm9X7V+A3wHNmlhXjxxQRCZw511ovgIh0ZmZ2MfBl51xpwKWIiCQltWiJiIiIxIlatETkhJnZ2xx5ZSDA7c65JUHUIyKSqBS0REREROJEXYciIiIicaKgJSIiIhInCloiIiIicaKgJSIiIhInCloiIiIicfL/A/XVGrP5pw4sAAAAAElFTkSuQmCC",
      "text/plain": [
       "<Figure size 576x576 with 1 Axes>"
      ]
     },
     "metadata": {
      "needs_background": "light"
     },
     "output_type": "display_data"
    }
   ],
   "source": [
    "#trend line for user_type\n",
    "\n",
    "trend_plot('user_type', 'Trend of Trips for User Types')"
   ]
  },
  {
   "cell_type": "code",
   "execution_count": 263,
   "metadata": {},
   "outputs": [
    {
     "data": {
      "image/png": "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",
      "text/plain": [
       "<Figure size 576x576 with 1 Axes>"
      ]
     },
     "metadata": {
      "needs_background": "light"
     },
     "output_type": "display_data"
    }
   ],
   "source": [
    "#trend line for age_group\n",
    "\n",
    "trend_plot('age_group', 'Trend of Trips for Age Group')"
   ]
  },
  {
   "cell_type": "markdown",
   "metadata": {},
   "source": [
    "> Generally theres a downward trend from Week 4 or a decline in the total trips for the above variables"
   ]
  },
  {
   "cell_type": "markdown",
   "metadata": {},
   "source": [
    "##### Does a particular **age_group** subscribe more?"
   ]
  },
  {
   "cell_type": "code",
   "execution_count": 264,
   "metadata": {},
   "outputs": [
    {
     "data": {
      "text/html": [
       "<div>\n",
       "<style scoped>\n",
       "    .dataframe tbody tr th:only-of-type {\n",
       "        vertical-align: middle;\n",
       "    }\n",
       "\n",
       "    .dataframe tbody tr th {\n",
       "        vertical-align: top;\n",
       "    }\n",
       "\n",
       "    .dataframe thead th {\n",
       "        text-align: right;\n",
       "    }\n",
       "</style>\n",
       "<table border=\"1\" class=\"dataframe\">\n",
       "  <thead>\n",
       "    <tr style=\"text-align: right;\">\n",
       "      <th></th>\n",
       "      <th>age_group</th>\n",
       "      <th>user_type</th>\n",
       "      <th>counts</th>\n",
       "    </tr>\n",
       "  </thead>\n",
       "  <tbody>\n",
       "    <tr>\n",
       "      <th>3</th>\n",
       "      <td>31 - 50yrs</td>\n",
       "      <td>Subscriber</td>\n",
       "      <td>89260</td>\n",
       "    </tr>\n",
       "    <tr>\n",
       "      <th>1</th>\n",
       "      <td>18 - 30yrs</td>\n",
       "      <td>Subscriber</td>\n",
       "      <td>59246</td>\n",
       "    </tr>\n",
       "    <tr>\n",
       "      <th>5</th>\n",
       "      <td>51 - 70yrs</td>\n",
       "      <td>Subscriber</td>\n",
       "      <td>14262</td>\n",
       "    </tr>\n",
       "  </tbody>\n",
       "</table>\n",
       "</div>"
      ],
      "text/plain": [
       "    age_group   user_type  counts\n",
       "3  31 - 50yrs  Subscriber   89260\n",
       "1  18 - 30yrs  Subscriber   59246\n",
       "5  51 - 70yrs  Subscriber   14262"
      ]
     },
     "execution_count": 264,
     "metadata": {},
     "output_type": "execute_result"
    }
   ],
   "source": [
    "#create a subset of the data\n",
    "\n",
    "age_sub = bike_clean.groupby(['age_group', 'user_type']).size().reset_index(name = 'counts').sort_values(by = 'counts', ascending = False)\n",
    "age_sub.head(3)"
   ]
  },
  {
   "cell_type": "code",
   "execution_count": 265,
   "metadata": {},
   "outputs": [
    {
     "data": {
      "text/plain": [
       "<AxesSubplot:xlabel='age_group', ylabel='counts'>"
      ]
     },
     "execution_count": 265,
     "metadata": {},
     "output_type": "execute_result"
    },
    {
     "data": {
      "image/png": "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",
      "text/plain": [
       "<Figure size 576x576 with 1 Axes>"
      ]
     },
     "metadata": {
      "needs_background": "light"
     },
     "output_type": "display_data"
    }
   ],
   "source": [
    "#bar chart for subscriber count for each age_group\n",
    "\n",
    "plt.figure(figsize = (8, 8))\n",
    "sns.barplot(data = age_sub, x = 'age_group', y = 'counts', hue = 'user_type')\n"
   ]
  },
  {
   "cell_type": "markdown",
   "metadata": {},
   "source": [
    "> **18 - 30yrs** & **31 - 50yrs** subscribe the most"
   ]
  },
  {
   "cell_type": "markdown",
   "metadata": {},
   "source": [
    "### Interesting findings during Bivariate explorations\n",
    "#### I observed that for:   \n",
    "   ##### user_type\n",
    "   * Even though Subscribers take more trips, On average **Customers** take a longer trip than Subscribers.\n",
    "   ##### age\n",
    "   * Younger people between **18-50** years old subscribe more and even take more trips.\n",
    "   ##### duration_sec\n",
    "   * No particular interesting relationship was found for the duration of trips as there was no correlation with the variables I measured\n",
    "\n",
    "   ##### member_gender\n",
    "   * Interesting to see that Males have trips with lesser duration on average  \n",
    "   ##### bike_share_for_all_trip\n",
    "   * Most of the trips are from people that dont take bike share for all trip\n",
    "   ##### trip_day\n",
    "   * I hoped to see weekend with the most trips but the most trips were taken on **Thurdays** & **Tuesdays**\n",
    "   ##### trip_time\n",
    "   * It's interesting to see that longer trips were in the middle of the night **3AM** & **2AM**"
   ]
  },
  {
   "cell_type": "markdown",
   "metadata": {},
   "source": [
    "## Multivariate Exploration\n",
    "\n",
    "> I'll be ccreating plots of three or more variables to investigate your data even\n",
    "further. "
   ]
  },
  {
   "cell_type": "markdown",
   "metadata": {},
   "source": [
    "##### Is there a relationship between duration of trips and age?"
   ]
  },
  {
   "cell_type": "code",
   "execution_count": 266,
   "metadata": {},
   "outputs": [],
   "source": [
    "#function for scatterplot\n",
    "\n",
    "def scatter_plot(data, x, y, hue, hue_color, title):\n",
    "    data.plot.scatter(y = y, x = x, c = hue, colormap = hue_color, figsize = (8, 8))\n",
    "    plt.title(title)"
   ]
  },
  {
   "cell_type": "code",
   "execution_count": 267,
   "metadata": {},
   "outputs": [
    {
     "data": {
      "image/png": "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",
      "text/plain": [
       "<Figure size 576x576 with 2 Axes>"
      ]
     },
     "metadata": {
      "needs_background": "light"
     },
     "output_type": "display_data"
    }
   ],
   "source": [
    "#scatter plot for age vs duration of trips\n",
    "\n",
    "scatter_plot(bike_clean, x = 'duration_sec', y = 'age', hue = 'age_group', hue_color = 'Dark2', title = 'Trip Duration VS Age')"
   ]
  },
  {
   "cell_type": "markdown",
   "metadata": {},
   "source": [
    "> No strong correlation or relationship between age and duration of trips"
   ]
  },
  {
   "cell_type": "markdown",
   "metadata": {},
   "source": [
    "##### No interesting relationships were observed, this is also because there's not many features with numerical data in the dataset for more multivariate exploration\n"
   ]
  },
  {
   "cell_type": "markdown",
   "metadata": {},
   "source": [
    "## Conclusions\n",
    "> I've come to end of this EDA, I started by importing the dataset and using Programmatic & Visual assesment to spot issues with the data, I created a copy of the dataset first before moved on to taking the neccesary steps to clean and tidy the issues I spotted in the dataset.  \n",
    "I moved to create new features that will be neccesary for the analysis after the assesment and cleaning of the dataset, after the feature engineering process, I moved to the Exploratory Data Analysis using Univariate, Bivariate & Multivariate exploration to check my variables of interest and this is the summary of my findings:\n",
    "> * I discovered that younger people between **18-50** years old take more trips and even subscribe more.\n",
    "> * Majority of the people that take trips are just Customers.\n",
    "> * Majority of trips were taken **5PM** & **8AM** but then I also noticed that the longest trips were taken **3AM** & **2AM**.\n",
    "> * Male takes more trips but they appear to be for shorter distance/duration.\n",
    "> * **Thursday** & **Tuesday** came out as the days that most trips were taken, I thought it would be on weekends though.\n",
    "> * Number of trips start declining after the 3rd week of the month."
   ]
  },
  {
   "cell_type": "code",
   "execution_count": null,
   "metadata": {},
   "outputs": [],
   "source": []
  }
 ],
 "metadata": {
  "kernelspec": {
   "display_name": "Python 3 (ipykernel)",
   "language": "python",
   "name": "python3"
  },
  "language_info": {
   "codemirror_mode": {
    "name": "ipython",
    "version": 3
   },
   "file_extension": ".py",
   "mimetype": "text/x-python",
   "name": "python",
   "nbconvert_exporter": "python",
   "pygments_lexer": "ipython3",
<<<<<<< HEAD
   "version": "3.10.8"
=======
   "version": "3.9.12"
>>>>>>> 9972fa3d3746ecaf4a7b420d2e44a055e600c3d0
  }
 },
 "nbformat": 4,
 "nbformat_minor": 2
}
